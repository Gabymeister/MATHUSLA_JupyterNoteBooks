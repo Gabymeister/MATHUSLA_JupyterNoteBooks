{
 "cells": [
  {
   "cell_type": "code",
   "execution_count": 149,
   "id": "04255863",
   "metadata": {},
   "outputs": [],
   "source": [
    "try:\n",
    "    from tqdm import tqdm\n",
    "except ImportError:\n",
    "    def tqdm(iterator, *args, **kwargs):\n",
    "        return iterator\n",
    "    \n",
    "import numpy as np\n",
    "import scipy as sp\n",
    "from scipy import constants\n",
    "from pylab import *\n",
    "import joblib\n",
    "\n",
    "\n",
    "import os,sys\n",
    "from importlib import reload\n",
    "import copy\n",
    "from collections import namedtuple\n",
    "\n",
    "sys.path.append(\"../tracker\")"
   ]
  },
  {
   "cell_type": "code",
   "execution_count": 201,
   "id": "e99d309e",
   "metadata": {},
   "outputs": [
    {
     "data": {
      "text/plain": [
       "<module 'utilities' from '../tracker\\\\utilities.py'>"
      ]
     },
     "execution_count": 201,
     "metadata": {},
     "output_type": "execute_result"
    }
   ],
   "source": [
    "import kalmanfilter as KF\n",
    "import utilities as Util\n",
    "import datatypes\n",
    "import vertexfinder as VF\n",
    "\n",
    "reload(VF)\n",
    "reload(Util)"
   ]
  },
  {
   "cell_type": "code",
   "execution_count": 202,
   "id": "3c2adcdc",
   "metadata": {},
   "outputs": [],
   "source": [
    "tracks=joblib.load(\"tracks_example.joblib\")\n",
    "# tracks"
   ]
  },
  {
   "cell_type": "code",
   "execution_count": 203,
   "id": "e365373d",
   "metadata": {},
   "outputs": [
    {
     "name": "stdout",
     "output_type": "stream",
     "text": [
      "VertexSeed(x0=1790.2269338284823, y0=9085.386997964772, z0=8251.551012115873, t0=-0.2977356218489149, cov=0, chi2=0.19090316386509082, dist=179.13183035255167, Ntracks=3, trackind1=0, trackind2=3, score=121.04086199120258)\n",
      "VertexSeed(x0=1791.815101366883, y0=9058.737129854228, z0=8242.108971829715, t0=-1.1655780352702436, cov=0, chi2=0.0904391503032039, dist=168.73523646998578, Ntracks=3, trackind1=1, trackind2=3, score=109.63962797301781)\n",
      "VertexSeed(x0=1788.9312914206093, y0=9053.196893429093, z0=8241.803616817138, t0=-1.6855059822652265, cov=0, chi2=0.20914240276737933, dist=103.91538365437084, Ntracks=3, trackind1=2, trackind2=3, score=46.00680768204464)\n",
      "VertexSeed(x0=1798.7273669651186, y0=9241.72426090522, z0=8312.114812334563, t0=4.817429413443449, cov=0, chi2=0.2105303827348717, dist=97.33651009686045, Ntracks=3, trackind1=3, trackind2=4, score=39.44181392420917)\n",
      "VertexSeed(x0=1807.126707287738, y0=9226.991608324548, z0=8255.247466154862, t0=4.978124541552177, cov=0, chi2=0.17970267812898646, dist=83.55554633809197, Ntracks=3, trackind1=0, trackind2=4, score=25.35257311938183)\n",
      "VertexSeed(x0=1785.8591517923487, y0=9262.395164320638, z0=8270.898751546716, t0=6.330733858218252, cov=0, chi2=0.14042388628118574, dist=82.41793988309449, Ntracks=3, trackind1=1, trackind2=4, score=23.822178745906342)\n",
      "VertexSeed(x0=1784.7194320882263, y0=9076.375734010217, z0=8250.058959886213, t0=-0.20313103680348377, cov=0, chi2=0.02338542947345563, dist=76.83890625453196, Ntracks=3, trackind1=0, trackind2=2, score=17.07276054926652)\n",
      "VertexSeed(x0=1789.3910578822251, y0=9021.799965721104, z0=8236.53233479464, t0=-2.030076140379947, cov=0, chi2=0.07286173006899554, dist=76.31650137799195, Ntracks=3, trackind1=1, trackind2=2, score=17.045118678681916)\n",
      "VertexSeed(x0=1790.132639808944, y0=9114.427977005456, z0=8250.759655588074, t0=1.4035272525664482, cov=0, chi2=0.019227431520834178, dist=9.983503892314475, Ntracks=3, trackind1=0, trackind2=1, score=-49.82422179247718)\n",
      "VertexSeed(x0=1771.7221718602814, y0=9286.58567715346, z0=8301.662045743447, t0=6.859057046021235, cov=0, chi2=0.003366820311827288, dist=3.392563596529185, Ntracks=3, trackind1=2, trackind2=4, score=-56.57376820035254)\n",
      "\n",
      "--- New seed for vertex --- \n",
      "  Seed VertexSeed(x0=1771.7221718602814, y0=9286.58567715346, z0=8301.662045743447, t0=6.859057046021235, cov=0, chi2=0.003366820311827288, dist=3.392563596529185, Ntracks=3, trackind1=2, trackind2=4, score=-56.57376820035254)\n",
      " -> Track [1] added to vertex. Vertex chi2_r 0.87; vertex chi2 increment 4.34. Track: (1769.5378348822496, 9893.0, 8357.61845807561, 27.68992766415135, -0.0254266470080977, 1, 0.13836501775496132, 0.03210222995322045)\n",
      " -> Track [3] added to vertex. Vertex chi2_r 1.38; vertex chi2 increment 6.74. Track: (1818.791400160296, 9893.0, 8564.898682740835, 27.935278721676085, 0.031000118394588175, 1, 0.38702277576398186, 0.041885378565515594)\n",
      " -> Track [0] added to vertex. Vertex chi2_r 1.31; vertex chi2 increment 3.36. Track: (1900.1920119194747, 9893.0, 8272.343245252654, 27.576904771063504, 0.14034338294857754, 1, 0.026618867009744168, 0.03234720499190378)\n",
      "Vertex found! track indices: [2, 4, 1, 3, 0]\n",
      "  Tracks to vertex chi2: [1.8363375904953396, 6.107077987659701, 1.0673311609891503, 3.995798340383736, 1.334757122960196]\n",
      "  Vertex Chi2/DOF: 14.4/11; N tracks: 5; x0,y0,z0,t0: [1.79581141e+03 9.16825853e+03 8.26639661e+03 2.70879102e+00]; Uncertainty: [ 6.04382403 23.77757176  7.08829073  1.78026386]\n"
     ]
    }
   ],
   "source": [
    "vf = VF.VertexFitter(debug=True)\n",
    "vf.parameters[\"cut_vertex_SeedDist\"]=400\n",
    "vf.parameters[\"cut_vertex_SeedChi2\"]=70\n",
    "vf.parameters[\"cut_vertex_TrackAddDist\"]=400\n",
    "vf.parameters[\"cut_vertex_TrackAddChi2\"]=60\n",
    "vf.parameters[\"cut_vertex_VertexChi2ReducedAdd\"]=10\n",
    "vf.parameters[\"cut_vertex_TrackDropChi2\"]=40\n",
    "vf.parameters[\"cut_vertex_VertexChi2Reduced\"]=7\n",
    "vertices = vf.run(tracks)\n",
    "# %timeit -n 2 vf.run(tracks)"
   ]
  },
  {
   "cell_type": "code",
   "execution_count": 145,
   "id": "734df6c5",
   "metadata": {},
   "outputs": [],
   "source": [
    "# res = np.array([-964.01535109 , 165.59657984 , -8.04645989])\n",
    "# cov = np.array([[  92.93082239 , -82.55183169 , -16.08310395],\n",
    "#                 [ -82.55183169 ,2037.570818   ,  35.7775968 ],\n",
    "#                 [ -16.08310395 ,  35.7775968  ,   2.83384434],])\n",
    "# # -141333.1032545646\n",
    "# res@np.linalg.inv(cov)@res.T"
   ]
  },
  {
   "cell_type": "code",
   "execution_count": 5,
   "id": "8162b83b",
   "metadata": {},
   "outputs": [
    {
     "data": {
      "text/plain": [
       "(-10.14, -2.3286372144236522, 8.060485559221853)"
      ]
     },
     "execution_count": 5,
     "metadata": {},
     "output_type": "execute_result"
    }
   ],
   "source": [
    "0.01*(7936-7000-1950), 0.01*(-232.8637214423652), 0.01*(9353.048555922185-8547) "
   ]
  },
  {
   "cell_type": "code",
   "execution_count": 73,
   "id": "88457e13",
   "metadata": {},
   "outputs": [
    {
     "name": "stdout",
     "output_type": "stream",
     "text": [
      "2\n",
      "2\n",
      "Vertex(x0=-649.9167151794827, y0=9906.574094961747, z0=8070.179198291444, t0=25.90788430005091, cov=array([[ 4.42680516, -3.30055983, -2.87583721, -0.17609746],\n",
      "       [-3.30055983, 29.45890874, 25.69419688,  1.53109803],\n",
      "       [-2.87583721, 25.69419688, 23.13227709,  1.33534974],\n",
      "       [-0.17609746,  1.53109803,  1.33534974,  0.23973228]]), chi2=4.738571173841444, tracks=[Track(x0=-648.7028237543482, y0=9893.0, z0=8060.536999074531, t0=25.984422723838517, Ax=-0.136342258426605, Ay=1, Az=0.722864565260557, At=0.044877987055319146, cov=array([[ 5.19082555e+00, -1.70543517e-03, -1.63515358e-02,\n",
      "        -3.36819351e-02,  6.91610841e-04,  4.06706676e-04],\n",
      "       [-1.70543517e-03,  1.67975225e+00,  1.22475512e-05,\n",
      "         2.12267083e-05, -1.03428163e-02, -2.28354917e-07],\n",
      "       [-1.63515358e-02,  1.22475512e-05,  3.50105241e-01,\n",
      "         2.03839919e-04, -5.77634034e-07, -1.84977902e-03],\n",
      "       [-3.36819351e-02,  2.12267083e-05,  2.03839919e-04,\n",
      "         2.92440886e-04, -8.63569709e-06, -5.07236871e-06],\n",
      "       [ 6.91610841e-04, -1.03428163e-02, -5.77634034e-07,\n",
      "        -8.63569709e-06,  1.87756586e-04,  1.45305196e-08],\n",
      "       [ 4.06706676e-04, -2.28354917e-07, -1.84977902e-03,\n",
      "        -5.07236871e-06,  1.45305196e-08,  1.52282373e-05]]), chi2=11.710133259397448, ind=3, hits=[26, 27, 30, 29], hits_filtered=[[-682.0983002976001, 10136.599999999999, 8237.51234841658, 36.924209907144046], [-670.8608591756429, 10055.400000000001, 8178.139231487741, 33.273676309077054], [-659.7738151385886, 9974.2, 8119.233601773689, 29.628515272730464], [-648.7028237543482, 9893.0, 8060.536999074531, 25.984422723838517]]), Track(x0=-642.28792499723, y0=9893.0, z0=8056.118287769519, t0=24.27985462415164, Ax=0.11604479312391139, Ay=1, Az=1.0230715577620992, At=0.06324828957350015, cov=array([[ 9.19926574e+01,  9.37275476e-05, -7.56317037e-03,\n",
      "        -1.11259140e+00, -2.47414734e-04,  2.79427477e-04],\n",
      "       [ 9.37275476e-05,  1.68358688e+00,  2.02823937e-05,\n",
      "        -1.17592166e-06, -1.04524734e-02, -7.49349520e-07],\n",
      "       [-7.56317037e-03,  2.02823937e-05,  4.16812740e-01,\n",
      "         9.48888145e-05, -5.35398947e-05, -3.08421453e-03],\n",
      "       [-1.11259140e+00, -1.17592166e-06,  9.48888145e-05,\n",
      "         1.37028236e-02,  3.10410709e-06, -3.50574438e-06],\n",
      "       [-2.47414734e-04, -1.04524734e-02, -5.35398947e-05,\n",
      "         3.10410709e-06,  2.90214779e-04,  1.97807493e-06],\n",
      "       [ 2.79427477e-04, -7.49349520e-07, -3.08421453e-03,\n",
      "        -3.50574438e-06,  1.97807493e-06,  3.81158637e-05]]), chi2=5.297203671661513, ind=7, hits=[20, 21, 18], hits_filtered=[[-623.5191063361262, 10055.400000000001, 8222.587883081815, 34.55909767083621], [-632.8650877955683, 9974.2, 8139.191698259801, 29.415615737519897], [-642.28792499723, 9893.0, 8056.118287769519, 24.27985462415164]])])\n"
     ]
    }
   ],
   "source": [
    "print(len(vertices))\n",
    "print(len(vertices[0].tracks))\n",
    "print(vertices[0])"
   ]
  }
 ],
 "metadata": {
  "kernelspec": {
   "display_name": "Python 3 (ipykernel)",
   "language": "python",
   "name": "python3"
  },
  "language_info": {
   "codemirror_mode": {
    "name": "ipython",
    "version": 3
   },
   "file_extension": ".py",
   "mimetype": "text/x-python",
   "name": "python",
   "nbconvert_exporter": "python",
   "pygments_lexer": "ipython3",
   "version": "3.7.9"
  }
 },
 "nbformat": 4,
 "nbformat_minor": 5
}
