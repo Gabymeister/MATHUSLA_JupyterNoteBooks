{
 "cells": [
  {
   "cell_type": "code",
   "execution_count": 33,
   "id": "04255863",
   "metadata": {},
   "outputs": [],
   "source": [
    "try:\n",
    "    from tqdm import tqdm\n",
    "except ImportError:\n",
    "    def tqdm(iterator, *args, **kwargs):\n",
    "        return iterator\n",
    "    \n",
    "import numpy as np\n",
    "import scipy as sp\n",
    "from scipy import constants\n",
    "from pylab import *\n",
    "import joblib\n",
    "\n",
    "\n",
    "import os,sys\n",
    "from importlib import reload\n",
    "import copy\n",
    "sys.path.append(\"../tracker\")"
   ]
  },
  {
   "cell_type": "code",
   "execution_count": 34,
   "id": "e99d309e",
   "metadata": {},
   "outputs": [
    {
     "data": {
      "text/plain": [
       "<module 'utilities' from '../tracker\\\\utilities.py'>"
      ]
     },
     "execution_count": 34,
     "metadata": {},
     "output_type": "execute_result"
    }
   ],
   "source": [
    "import kalmanfilter as KF\n",
    "import utilities as Util\n",
    "import trackfinder as TF\n",
    "import datatypes\n",
    "from datatypes import *\n",
    "\n",
    "reload(TF)\n",
    "reload(Util)"
   ]
  },
  {
   "cell_type": "code",
   "execution_count": 35,
   "id": "9ad96105",
   "metadata": {},
   "outputs": [],
   "source": [
    "steel_height=0.03 #m\n",
    "Box_IP_Depth=85.47#m\n",
    "def coord_det2sim(vector_xyz):\n",
    "    \"\"\"\n",
    "    input: vector_xyz = (x,y,z), unit is m\n",
    "    return: transformed (x',y',z'), unit is m\n",
    "    \"\"\"\n",
    "    return np.array([vector_xyz[0]+119.5, vector_xyz[1], -vector_xyz[2]-steel_height])\n",
    "def coord_sim2cms(vector_xyz):\n",
    "    \"\"\"\n",
    "    input: vector_xyz = (x,y,z), unit is m\n",
    "    return: transformed (x',y',z'), unit is cm\n",
    "    \"\"\"\n",
    "    return np.array([vector_xyz[1],      -vector_xyz[2]+Box_IP_Depth, vector_xyz[0]])*100 # turn to cm\n",
    "def coord_det2cms(vector_xyz):\n",
    "    \"\"\"\n",
    "    input: vector_xyz = (x,y,z), unit is m\n",
    "    return: transformed (x',y',z'), unit is cm\n",
    "    \"\"\"    \n",
    "    return coord_sim2cms(coord_det2sim(vector_xyz))\n",
    "\n",
    "def coord_sim2det(vector_xyz):\n",
    "    \"\"\"\n",
    "    input: vector_xyz = (x,y,z), unit is m\n",
    "    return: transformed (x',y',z'), unit is m\n",
    "    \"\"\"    \n",
    "    return np.array([vector_xyz[0]-119.5, vector_xyz[1], -vector_xyz[2]-steel_height])\n",
    "def coord_cms2det(vector_xyz):\n",
    "    \"\"\"\n",
    "    input: vector_xyz = (x,y,z), unit is cm\n",
    "    return: transformed (x',y',z'), unit is m\n",
    "    \"\"\"    \n",
    "    return coord_sim2det(coord_cms2sim(vector_xyz))\n",
    "\n",
    "def coord_cms2sim(vector_xyz):\n",
    "    \"\"\"\n",
    "    input: vector_xyz = (x,y,z), unit is cm\n",
    "    return: transformed (x',y',z'), unit is m\n",
    "    \"\"\"    \n",
    "    return np.array([vector_xyz[2],      vector_xyz[0], -vector_xyz[1]+Box_IP_Depth*100])/100 # turn to m    \n",
    "    "
   ]
  },
  {
   "cell_type": "code",
   "execution_count": 36,
   "id": "67f50e67",
   "metadata": {},
   "outputs": [],
   "source": [
    "events=joblib.load(\"events_example.joblib\")\n",
    "# events[17][:10]\n"
   ]
  },
  {
   "cell_type": "code",
   "execution_count": 109,
   "id": "603d6afb",
   "metadata": {},
   "outputs": [
    {
     "data": {
      "text/plain": [
       "<module 'utilities' from '../tracker\\\\utilities.py'>"
      ]
     },
     "execution_count": 109,
     "metadata": {},
     "output_type": "execute_result"
    }
   ],
   "source": [
    "hits = events[33]\n",
    "reload(TF)\n",
    "reload(Util)"
   ]
  },
  {
   "cell_type": "code",
   "execution_count": 117,
   "id": "6ce6e259",
   "metadata": {},
   "outputs": [
    {
     "name": "stdout",
     "output_type": "stream",
     "text": [
      "5\n"
     ]
    },
    {
     "data": {
      "text/plain": [
       "['tracks_example.joblib']"
      ]
     },
     "execution_count": 117,
     "metadata": {},
     "output_type": "execute_result"
    }
   ],
   "source": [
    "\n",
    "# tf = TF.TrackFinder(method=\"recursive\", debug=False)\n",
    "tf = TF.TrackFinder(method=\"greedy\", debug=False)\n",
    "tf.parameters[\"cut_track_HitAddChi2\"]=15\n",
    "tf.parameters[\"cut_track_HitDropChi2\"]=12\n",
    "tf.parameters[\"cut_track_HitProjectionSigma\"]=7\n",
    "tf.parameters[\"cut_track_TrackChi2Reduced\"]=4\n",
    "tf.parameters[\"cut_track_TrackNHitsMin\"]=3\n",
    "tf.parameters[\"cut_track_TrackSpeed\"] = [20,40]\n",
    "tf.parameters[\"fit_track_MultipleScattering\"]=True\n",
    "tf.parameters[\"fit_track_Method\"]=\"backward\"\n",
    "# tf.parameters[\"fit_track_Method\"]=\"least-square\"\n",
    "# tf.parameters[\"fit_track_Method\"]=\"forward\"\n",
    "tf.parameters[\"fit_track_LeastSquareIters\"] = 2\n",
    "# %timeit -n 3 tf.run(hits)\n",
    "tracks = tf.run(hits)\n",
    "print(len(tracks))\n",
    "joblib.dump(tracks, \"tracks_example.joblib\")\n",
    "\n",
    "# for ev in events:\n",
    "#     hits=events[ev]\n",
    "#     tracks = tf.run(hits)\n",
    "    "
   ]
  },
  {
   "cell_type": "code",
   "execution_count": 104,
   "id": "fe2dfe3d",
   "metadata": {},
   "outputs": [
    {
     "name": "stdout",
     "output_type": "stream",
     "text": [
      "12858.845112382674 24805.5784058036\n"
     ]
    }
   ],
   "source": [
    "ipoint = 14\n",
    "track = tracks[0]\n",
    "point = [hits[ipoint].x,hits[ipoint].y, hits[ipoint].z, hits[ipoint].t]\n",
    "chi2_a = Util.track.chi2_point_track(point, track, multiple_scattering=False)\n",
    "chi2_b = Util.track.chi2_point_track_time(point, track, multiple_scattering=False)\n",
    "print(chi2_a, chi2_b)"
   ]
  },
  {
   "cell_type": "code",
   "execution_count": 105,
   "id": "b9b2899b",
   "metadata": {},
   "outputs": [
    {
     "name": "stdout",
     "output_type": "stream",
     "text": [
      "38.73701908198171\n",
      "43.3854655154901\n"
     ]
    }
   ],
   "source": [
    "for track in tracks:\n",
    "    print(track.t0)\n",
    "    # print(np.sqrt(np.diag(track.cov)))"
   ]
  },
  {
   "cell_type": "code",
   "execution_count": 97,
   "id": "03a5f3d4",
   "metadata": {},
   "outputs": [
    {
     "data": {
      "image/png": "[encoded data removed]",
      "text/plain": [
       "<Figure size 864x648 with 4 Axes>"
      ]
     },
     "metadata": {
      "needs_background": "light"
     },
     "output_type": "display_data"
    }
   ],
   "source": [
    "fig,axs=plt.subplots(2,2,figsize=(12,9))\n",
    "axs=axs.flatten().tolist()\n",
    "\n",
    "# Plot tracks\n",
    "for track in tracks:\n",
    "    # Each track is a list of each point is [x,y,z,t, PID, Energy, TRACK_ID]\n",
    "    x,y,z = coord_cms2det(np.array(track.hits_filtered).T)        \n",
    "    track_label = \"\"#pdg_name(pid)\n",
    "    axs[0].plot(x, z,marker=\".\",linewidth=1,markersize=8,label=track_label)\n",
    "    axs[1].plot(y, z,marker=\".\",linewidth=1,markersize=8,label=track_label)\n",
    "    axs[2].plot(x, y,marker=\".\",linewidth=1,markersize=8,label=track_label)"
   ]
  },
  {
   "cell_type": "code",
   "execution_count": 10,
   "id": "e47e2826",
   "metadata": {},
   "outputs": [
    {
     "name": "stdout",
     "output_type": "stream",
     "text": [
      "[4.98737829e+00 1.67972356e+00 3.50169521e-01 2.60876726e-04\n",
      " 1.78156455e-04 1.52725604e-05] 7.6201693642501525\n",
      "[1.67967994e+00 4.67296699e+00 3.50016237e-01 1.40755915e-04\n",
      " 2.11940115e-04 1.51760566e-05] 6.403577302969067\n",
      "[3.34107337e+01 1.58555007e+00 3.50031178e-01 4.65188555e-03\n",
      " 1.24358947e-04 1.51877329e-05] 12.208559435093393\n",
      "[5.25176317e+00 1.67975143e+00 3.50131682e-01 3.01944919e-04\n",
      " 1.86273710e-04 1.52501609e-05] 15.323798462151785\n",
      "[5.64448752e+00 1.67984410e+00 3.50355662e-01 3.62984904e-04\n",
      " 2.38502669e-04 1.53817546e-05] 6.674305579212074\n",
      "[5.15042867e+00 1.67971818e+00 3.50111997e-01 2.86293516e-04\n",
      " 1.79635696e-04 1.52352114e-05] 2.944131258957048\n",
      "[8.56185744e+00 1.67885773e+00 3.50129028e-01 5.85711258e-04\n",
      " 1.86401812e-04 1.52467782e-05] 4.135340516481817\n"
     ]
    }
   ],
   "source": [
    "for track in tracks:\n",
    "    print(np.diag(track.cov), track.chi2)"
   ]
  }
 ],
 "metadata": {
  "kernelspec": {
   "display_name": "Python 3 (ipykernel)",
   "language": "python",
   "name": "python3"
  },
  "language_info": {
   "codemirror_mode": {
    "name": "ipython",
    "version": 3
   },
   "file_extension": ".py",
   "mimetype": "text/x-python",
   "name": "python",
   "nbconvert_exporter": "python",
   "pygments_lexer": "ipython3",
   "version": "3.7.9"
  }
 },
 "nbformat": 4,
 "nbformat_minor": 5
}
