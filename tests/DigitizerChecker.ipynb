{
 "cells": [
  {
   "cell_type": "code",
   "execution_count": 1,
   "id": "4c491e78-0926-48a0-80f7-6a9ba6b393b1",
   "metadata": {},
   "outputs": [
    {
     "name": "stdout",
     "output_type": "stream",
     "text": [
      "Welcome to JupyROOT 6.26/14\n"
     ]
    }
   ],
   "source": [
    "#!/usr/bin/env python\n",
    "# import analyzer\n",
    "import importlib\n",
    "from importlib import reload\n",
    "import os, sys, glob, warnings, glob\n",
    "import scipy\n",
    "import numpy as np\n",
    "import scipy as sp\n",
    "import joblib\n",
    "# from tqdm.notebook import tqdm\n",
    "from tqdm import tqdm\n",
    "import copy as cp\n",
    "\n",
    "# ROOT\n",
    "import ROOT as root\n",
    "\n",
    "# Matplotlib\n",
    "import matplotlib.pyplot as plt\n",
    "from matplotlib import collections, colors, transforms\n",
    "\n",
    "from pylab import *\n",
    "%matplotlib inline\n",
    "%config InlineBackend.figure_format='retina'"
   ]
  },
  {
   "cell_type": "code",
   "execution_count": 2,
   "id": "ed4d09ea-a1c7-44e0-b869-31346d1c7938",
   "metadata": {},
   "outputs": [
    {
     "name": "stdout",
     "output_type": "stream",
     "text": [
      "347\n",
      "['NumHits', 'Hit_energy', 'Hit_time', 'Hit_Center1', 'Hit_Center2', 'Hit_bar_direction', 'Hit_layer_direction', 'Hit_LayerID', 'Hit_particlePdgId', 'Hit_G4TrackId', 'Hit_G4ParentTrackId', 'Hit_x', 'Hit_y', 'Hit_z', 'Hit_particleEnergy', 'Hit_particlePx', 'Hit_particlePy', 'Hit_particlePz', 'Hit_type', 'Digi_numHits', 'Digi_time', 'Digi_x', 'Digi_y', 'Digi_z', 'Digi_energy', 'Digi_px', 'Digi_py', 'Digi_pz', 'Digi_particle_energy', 'Digi_pdg_id', 'Digi_track_id', 'Digi_type', 'Digi_center1', 'Digi_center2', 'Digi_bar_direction', 'Digi_layer_direction', 'Digi_layer_id', 'Digi_det_id', 'Digi_seed', 'Digi_hitIndices', 'GenParticle_index', 'GenParticle_G4index', 'GenParticle_pdgid', 'GenParticle_time', 'GenParticle_x', 'GenParticle_y', 'GenParticle_z', 'GenParticle_energy', 'GenParticle_px', 'GenParticle_py', 'GenParticle_pz', 'GenParticle_mass']\n"
     ]
    }
   ],
   "source": [
    "# Using all files, rather than just one \n",
    "data_top_dir = f\"/home/owhgabri/My_GitHub/data/DigiOutput/LLP_bb\"\n",
    "pathList=[]\n",
    "\n",
    "for rootFile, dirs, files in os.walk(data_top_dir):\n",
    "    for filename in files:\n",
    "        if \"stat0\" in filename:\n",
    "            pathList.append(os.path.join(rootFile, filename))\n",
    "\n",
    "dataFile = f\"/home/owhgabri/My_GitHub/data/DigiOutput/1xCosmicBackground/24/0/stat0.root\"\n",
    "\n",
    "tfile = root.TFile.Open(dataFile, \"READ\")\n",
    "Tree = tfile.Get(\"integral_tree\")\n",
    "\n",
    "branches = Tree.GetListOfBranches()\n",
    "nevents = int(Tree.GetEntries())\n",
    "branch_list = [branches[i].GetName() for i in range(len(branches))]\n",
    "\n",
    "print(nevents)\n",
    "print(branch_list)"
   ]
  },
  {
   "cell_type": "markdown",
   "id": "7989ea89-e5fa-409d-9ed4-6103d810de13",
   "metadata": {},
   "source": [
    "### Checking That All Layers in Back Wall Have the Same Z Value ###"
   ]
  },
  {
   "cell_type": "code",
   "execution_count": 3,
   "id": "aa1260fe-e0b4-4454-b53a-bd76b4298de3",
   "metadata": {},
   "outputs": [],
   "source": [
    "for f in range(len(pathList)): # Go through each file\n",
    "    tfile = root.TFile.Open(pathList[f], \"READ\")\n",
    "    Tree = tfile.Get(\"integral_tree\")\n",
    "    nevents = int(Tree.GetEntries())\n",
    "    for i in range(nevents):\n",
    "        Tree.GetEntry(i)\n",
    "        for j in range(len(Tree.Digi_x)):\n",
    "            layer1 = Tree.Digi_layer_id[j]\n",
    "            if layer1 >=2 and layer1 <= 7:\n",
    "                continue\n",
    "            for k in range(len(Tree.Digi_x)):\n",
    "                if k == j:\n",
    "                    continue\n",
    "                layer2 = Tree.Digi_layer_id[k]\n",
    "                z1 = Tree.Digi_z[j]\n",
    "                z2 = Tree.Digi_z[k]\n",
    "                if layer1 == layer2 and abs(z1 - z2) >= 0.01:\n",
    "                # if layer1 == layer2 and z1 != z2 and layer1 % 2 == 0:\n",
    "                # if layer1 == layer2 and z1 != z2 and Tree.Digi_type[j] !=2 and Tree.Digi_type[k] != 2:\n",
    "                    print(\"Layer:\", layer1)\n",
    "                    print(\"Digi 1:\")\n",
    "                    print(\"type:\", Tree.Digi_type[j])\n",
    "                    print(\"position:\", Tree.Digi_x[j], Tree.Digi_y[j], Tree.Digi_z[j])\n",
    "                    print(\"det id:\", Tree.Digi_det_id[j])\n",
    "                    print(\"Digi 2:\")\n",
    "                    print(\"type:\", Tree.Digi_type[k])\n",
    "                    print(\"position:\", Tree.Digi_x[k], Tree.Digi_y[k], Tree.Digi_z[k])\n",
    "                    print(\"det id:\", Tree.Digi_det_id[k])\n",
    "                    print(\"\\n\")"
   ]
  },
  {
   "cell_type": "code",
   "execution_count": null,
   "id": "1ff88d05-55e0-43e7-b024-d940121f486c",
   "metadata": {},
   "outputs": [],
   "source": []
  }
 ],
 "metadata": {
  "kernelspec": {
   "display_name": "Python 3 (ipykernel)",
   "language": "python",
   "name": "python3"
  },
  "language_info": {
   "codemirror_mode": {
    "name": "ipython",
    "version": 3
   },
   "file_extension": ".py",
   "mimetype": "text/x-python",
   "name": "python",
   "nbconvert_exporter": "python",
   "pygments_lexer": "ipython3",
   "version": "3.8.10"
  }
 },
 "nbformat": 4,
 "nbformat_minor": 5
}
