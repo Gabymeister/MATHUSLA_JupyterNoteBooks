{
 "cells": [
  {
   "cell_type": "code",
   "execution_count": 7,
   "id": "04255863",
   "metadata": {},
   "outputs": [],
   "source": [
    "try:\n",
    "    from tqdm import tqdm\n",
    "except ImportError:\n",
    "    def tqdm(iterator, *args, **kwargs):\n",
    "        return iterator\n",
    "    \n",
    "import numpy as np\n",
    "import scipy as sp\n",
    "from scipy import constants\n",
    "from pylab import *\n",
    "\n",
    "\n",
    "import os,sys\n",
    "from importlib import reload\n",
    "import copy\n",
    "sys.path.append(\"../tracker\")"
   ]
  },
  {
   "cell_type": "code",
   "execution_count": 19,
   "id": "e99d309e",
   "metadata": {},
   "outputs": [
    {
     "data": {
      "text/plain": [
       "<module 'utilities' from '../tracker\\\\utilities.py'>"
      ]
     },
     "execution_count": 19,
     "metadata": {},
     "output_type": "execute_result"
    }
   ],
   "source": [
    "import kalmanfilter as KF\n",
    "import utilities as Util\n",
    "import trackfinder as TF\n",
    "import datatypes\n",
    "\n",
    "reload(KF)\n",
    "reload(KU)"
   ]
  },
  {
   "cell_type": "code",
   "execution_count": 9,
   "id": "67f50e67",
   "metadata": {},
   "outputs": [],
   "source": [
    "# Generated toy Events\n",
    "\n",
    "N_events=500\n",
    "Tracks_per_event = 4\n",
    "N_tracks = N_events * Tracks_per_event\n",
    "Hit_collection={}\n",
    "Truth_collection ={}\n",
    "ParTruth_collection={}\n",
    "\n",
    "x0s = np.random.uniform(-100,100,N_tracks)\n",
    "z0s = np.random.uniform(-100,100,N_tracks)\n",
    "t0s = np.random.uniform(-3,3,N_tracks)\n",
    "Axs = np.random.uniform(-0.3,0.3,N_tracks)\n",
    "Azs = np.random.uniform(-0.3,0.3,N_tracks)\n",
    "Ats = np.random.uniform(1/28,1/32,N_tracks)\n",
    "\n",
    "for i in range(N_events):\n",
    "    # Make multiple tracks per event    \n",
    "    tracks, truths, partruth = [],[],[]\n",
    "    for j in range(Tracks_per_event):\n",
    "        k =Tracks_per_event*i+j\n",
    "        a,b,c = Util.hit.gen_hits(x0=x0s[k],y0=0,z0=z0s[k], t0=t0s[k], Ax=Axs[k],Az=Azs[k],At=Ats[k],  N_LAYERS=4)\n",
    "        tracks.extend(a)\n",
    "        truths.extend(b)\n",
    "        partruth.extend(c)\n",
    "\n",
    "    Hit_collection[i],Truth_collection[i],ParTruth_collection[i] = tracks, truths, partruth\n",
    "\n"
   ]
  },
  {
   "cell_type": "markdown",
   "id": "a07369a6",
   "metadata": {},
   "source": [
    "\n",
    "### Confirm that chi2_predict equals to chi2_filtered"
   ]
  },
  {
   "cell_type": "code",
   "execution_count": 10,
   "id": "df2fd6e1",
   "metadata": {},
   "outputs": [
    {
     "name": "stdout",
     "output_type": "stream",
     "text": [
      "chi2 chi2_predict, chi2_filtered 10.058218638455461 10.05821863845534\n",
      "chi2 chi2_predict, chi2_filtered 2.9392526633601803 2.9392526633601643\n",
      "[0, 10.05821863845534, 2.9392526633601643]\n",
      "[ 6.30251528e+01  2.26868016e+01  8.85132713e+00  1.11558917e-01\n",
      " -2.81000088e-01  3.90167943e-02]\n",
      "[ 6.30251528e+01  2.26868016e+01  8.85132713e+00  1.11558917e-01\n",
      " -2.81000088e-01  3.90167943e-02]\n"
     ]
    }
   ],
   "source": [
    "hits = Hit_collection[4][:4]\n",
    "n_hits = len(hits)\n",
    "\n",
    "kf_find = KF.KalmanFilterFind()\n",
    "\n",
    "# Set initial state using first two hits\n",
    "m0, V0, H0, Xf0, Cf0, Rf0 = Util.track.init_state(hits)\n",
    "kf_find.init_filter( m0, V0, H0, Xf0, Cf0, Rf0)\n",
    "\n",
    "\n",
    "# Feed all measurements to KF\n",
    "for i in range(2,n_hits):   \n",
    "    # some processing\n",
    "    hit = hits[i]\n",
    "    dy  = hits[i].y-hits[i-1].y\n",
    "    mi, Vi, Hi, Fi, Qi = Util.track.add_measurement(hit, dy)\n",
    "    \n",
    "    # pass to KF\n",
    "    kf_find.update_matrix(Vi, Hi, Fi, Qi)\n",
    "    chi2_predict = kf_find.forward_predict_chi2(mi)\n",
    "    chi2_filtered = kf_find.forward_filter(mi)\n",
    "    print(\"chi2 chi2_predict, chi2_filtered\", chi2_predict, chi2_filtered)\n",
    "\n",
    "\n",
    "kf = Util.track.run_kf(hits)\n",
    "print(kf.chift)\n",
    "\n",
    "print(kf.Xf[-1])\n",
    "print(kf_find.Xf)\n"
   ]
  },
  {
   "cell_type": "markdown",
   "id": "94e4a77c",
   "metadata": {},
   "source": [
    "## Track finder algorithm Outline\n",
    "\n",
    "\n",
    "Pseudo code:\n",
    "\n",
    "```python\n",
    "hits # provide a list of hits\n",
    "seeds = seed(hts) # Make a list of seed\n",
    "while len(seeds)>0:\n",
    "    seed = seeds[0]\n",
    "\n",
    "    # Round 1: find hits\n",
    "    hits_found = find()\n",
    "    seed.pop(0) # Remove the used seed\n",
    "    continue if len(hits_found)<nhits_min\n",
    "\n",
    "    # Round 2: run KF and drop outlier hits during smoothing\n",
    "    hits_found = run_kf_drop()\n",
    "    continue if len(hits_found)<nhits_min\n",
    "\n",
    "    # Round 3: run KF (no dropping)\n",
    "    run_kf(drop=False)\n",
    "    remove_related_hits_seeds()\n",
    "\n",
    "```"
   ]
  },
  {
   "cell_type": "code",
   "execution_count": 25,
   "id": "716202e5",
   "metadata": {},
   "outputs": [
    {
     "data": {
      "text/plain": [
       "([Hit(x=48.31525830236538, y=1200, z=-103.5, t=-3.130196552885981, x_err=14.132352000025548, y_err=0, z_err=1.299038105676658, t_err=1, layer=0, ind=0),\n",
       "  Hit(x=72.0, y=1280, z=-97.76614637380844, t=1.5038908084352176, x_err=1.299038105676658, y_err=0, z_err=14.132352000025548, t_err=1, layer=1, ind=1),\n",
       "  Hit(x=90.55200518754091, y=1360, z=54.0, t=1.6323063768840542, x_err=14.132352000025548, y_err=0, z_err=1.299038105676658, t_err=1, layer=2, ind=10),\n",
       "  Hit(x=94.5, y=1440, z=53.93844211089895, t=5.6278145722667725, x_err=1.299038105676658, y_err=0, z_err=14.132352000025548, t_err=1, layer=3, ind=11)],\n",
       " 46.98224698773643)"
      ]
     },
     "execution_count": 25,
     "metadata": {},
     "output_type": "execute_result"
    }
   ],
   "source": [
    "# Test that it can find one track correctly\n",
    "\n",
    "hits = Hit_collection[0]\n",
    "hits_grouped = Util.track.group_hits_by_layer(hits)\n",
    "\n",
    "tf = TF.TrackFinder(method=\"recursive\")\n",
    "# tf = TrackFinder(method=\"gredy\")\n",
    "seeds = tf.seeding(hits)\n",
    "# seed=seeds[0]\n",
    "seed=[0,10]\n",
    "hits_found = tf.find_once(hits, hits_grouped, seed)\n",
    "# [print(hit) for hit in hits_found]\n",
    "hits_found\n"
   ]
  },
  {
   "cell_type": "code",
   "execution_count": 26,
   "id": "dbeb4b4a",
   "metadata": {},
   "outputs": [
    {
     "data": {
      "text/plain": [
       "<module 'trackfinder' from '../tracker\\\\trackfinder.py'>"
      ]
     },
     "execution_count": 26,
     "metadata": {},
     "output_type": "execute_result"
    }
   ],
   "source": [
    "reload(TF)"
   ]
  },
  {
   "cell_type": "code",
   "execution_count": 27,
   "id": "6ce6e259",
   "metadata": {},
   "outputs": [
    {
     "name": "stdout",
     "output_type": "stream",
     "text": [
      "[[Hit(x=79.28172441833514, y=1200, z=85.5, t=-3.0570367421714155, x_err=14.132352000025548, y_err=0, z_err=1.299038105676658, t_err=1, layer=0, ind=8), Hit(x=81.0, y=1280, z=57.41893115341553, t=2.158136592510161, x_err=1.299038105676658, y_err=0, z_err=14.132352000025548, t_err=1, layer=1, ind=9), Hit(x=85.73832269621649, y=1360, z=58.5, t=7.118180428129357, x_err=14.132352000025548, y_err=0, z_err=1.299038105676658, t_err=1, layer=2, ind=14), Hit(x=94.5, y=1440, z=39.831227996637566, t=11.47726642449396, x_err=1.299038105676658, y_err=0, z_err=14.132352000025548, t_err=1, layer=3, ind=15)], [Hit(x=41.699158998584146, y=1200, z=85.5, t=3.251538012275695, x_err=14.132352000025548, y_err=0, z_err=1.299038105676658, t_err=1, layer=0, ind=12), Hit(x=67.5, y=1280, z=61.51479782440997, t=6.437425323605671, x_err=1.299038105676658, y_err=0, z_err=14.132352000025548, t_err=1, layer=1, ind=13), Hit(x=90.55200518754091, y=1360, z=54.0, t=1.6323063768840542, x_err=14.132352000025548, y_err=0, z_err=1.299038105676658, t_err=1, layer=2, ind=10), Hit(x=94.5, y=1440, z=53.93844211089895, t=5.6278145722667725, x_err=1.299038105676658, y_err=0, z_err=14.132352000025548, t_err=1, layer=3, ind=11)], [Hit(x=-47.15087089327205, y=1200, z=31.5, t=3.3961508483417764, x_err=14.132352000025548, y_err=0, z_err=1.299038105676658, t_err=1, layer=0, ind=4), Hit(x=-76.5, y=1280, z=16.558460720895532, t=5.511515882603007, x_err=1.299038105676658, y_err=0, z_err=14.132352000025548, t_err=1, layer=1, ind=5), Hit(x=-80.98870621488966, y=1360, z=36.0, t=6.359988649822768, x_err=14.132352000025548, y_err=0, z_err=1.299038105676658, t_err=1, layer=2, ind=6), Hit(x=-81.0, y=1440, z=33.70343614550178, t=8.687414884688067, x_err=1.299038105676658, y_err=0, z_err=14.132352000025548, t_err=1, layer=3, ind=7)], [Hit(x=48.31525830236538, y=1200, z=-103.5, t=-3.130196552885981, x_err=14.132352000025548, y_err=0, z_err=1.299038105676658, t_err=1, layer=0, ind=0), Hit(x=72.0, y=1280, z=-97.76614637380844, t=1.5038908084352176, x_err=1.299038105676658, y_err=0, z_err=14.132352000025548, t_err=1, layer=1, ind=1), Hit(x=89.01800041528088, y=1360, z=-121.5, t=1.7800939652446264, x_err=14.132352000025548, y_err=0, z_err=1.299038105676658, t_err=1, layer=2, ind=2), Hit(x=112.5, y=1440, z=-137.90164805331676, t=7.773795467648804, x_err=1.299038105676658, y_err=0, z_err=14.132352000025548, t_err=1, layer=3, ind=3)]]\n"
     ]
    },
    {
     "data": {
      "text/plain": [
       "[Track(x0=74.34571271707965, y0=1200, z0=85.45987979792076, t=-2.8603063246017815, Ax=0.08385368396556737, Ay=1, Az=-0.16927827129782047, At=0.060703691669519146, cov=array([[ 4.12807664e+00,  0.00000000e+00,  0.00000000e+00,\n",
       "         -2.06577639e-02,  0.00000000e+00,  0.00000000e+00],\n",
       "        [ 0.00000000e+00,  1.68043024e+00,  0.00000000e+00,\n",
       "          0.00000000e+00, -1.04592372e-02,  0.00000000e+00],\n",
       "        [ 0.00000000e+00,  0.00000000e+00,  7.00000000e-01,\n",
       "          0.00000000e+00,  0.00000000e+00, -3.75000000e-03],\n",
       "        [-2.06577639e-02,  0.00000000e+00,  0.00000000e+00,\n",
       "          1.29654171e-04,  0.00000000e+00,  0.00000000e+00],\n",
       "        [ 0.00000000e+00, -1.04592372e-02,  0.00000000e+00,\n",
       "          0.00000000e+00,  1.29654171e-04,  0.00000000e+00],\n",
       "        [ 0.00000000e+00,  0.00000000e+00, -3.75000000e-03,\n",
       "          0.00000000e+00,  0.00000000e+00,  3.12500000e-05]]), chi2=1.5218850516073403, ind=0, hits=[8, 9, 14, 15], hits_filtered=[[74.34571271707965, 1200, 85.45987979792076, -2.8603063246017815], [81.05400743432504, 1280, 71.91761809409513, 1.9959890089597503], [87.76230215157041, 1360, 58.37535639026979, 6.852284342521282], [94.47059686881595, 1440, 44.83309468644395, 11.708579676082815]]),\n",
       " Track(x0=80.98934015472665, y0=1360, z0=54.16023452350093, t=4.35345660792063, Ax=0.1700264553692176, Ay=1, Az=-0.19524873164699458, At=0.00290463841656452, cov=array([[8.36738978e-01, 0.00000000e+00, 0.00000000e+00, 8.69035165e-05,\n",
       "         0.00000000e+00, 0.00000000e+00],\n",
       "        [0.00000000e+00, 1.65262111e+00, 0.00000000e+00, 0.00000000e+00,\n",
       "         1.02854302e-02, 0.00000000e+00],\n",
       "        [0.00000000e+00, 0.00000000e+00, 3.00000000e-01, 0.00000000e+00,\n",
       "         0.00000000e+00, 1.25000000e-03],\n",
       "        [8.69035165e-05, 0.00000000e+00, 0.00000000e+00, 1.29654171e-04,\n",
       "         0.00000000e+00, 0.00000000e+00],\n",
       "        [0.00000000e+00, 1.02854302e-02, 0.00000000e+00, 0.00000000e+00,\n",
       "         1.29654171e-04, 0.00000000e+00],\n",
       "        [0.00000000e+00, 0.00000000e+00, 1.25000000e-03, 0.00000000e+00,\n",
       "         0.00000000e+00, 3.12500000e-05]]), chi2=17.013870351393628, ind=1, hits=[10, 12, 11, 13], hits_filtered=[[80.98934015472665, 1360, 54.16023452350093, 4.35345660792063], [53.78510729565184, 1200, 85.40003158702007, 3.8887144612703066], [94.59145658426405, 1440, 38.54033599174137, 4.585827681245791], [67.38722372518923, 1280, 69.7801330552605, 4.121085534595468]]),\n",
       " Track(x0=-73.69911206157077, y0=1200, z0=31.44626731437329, t=3.4804278349251097, Ax=-0.030928887965561036, Ay=1, Az=0.027662220726922787, At=0.020902831095323288, cov=array([[ 4.12807664e+00,  0.00000000e+00,  0.00000000e+00,\n",
       "         -2.06577639e-02,  0.00000000e+00,  0.00000000e+00],\n",
       "        [ 0.00000000e+00,  1.68043024e+00,  0.00000000e+00,\n",
       "          0.00000000e+00, -1.04592372e-02,  0.00000000e+00],\n",
       "        [ 0.00000000e+00,  0.00000000e+00,  7.00000000e-01,\n",
       "          0.00000000e+00,  0.00000000e+00, -3.75000000e-03],\n",
       "        [-2.06577639e-02,  0.00000000e+00,  0.00000000e+00,\n",
       "          1.29654171e-04,  0.00000000e+00,  0.00000000e+00],\n",
       "        [ 0.00000000e+00, -1.04592372e-02,  0.00000000e+00,\n",
       "          0.00000000e+00,  1.29654171e-04,  0.00000000e+00],\n",
       "        [ 0.00000000e+00,  0.00000000e+00, -3.75000000e-03,\n",
       "          0.00000000e+00,  0.00000000e+00,  3.12500000e-05]]), chi2=5.58834708812979, ind=2, hits=[4, 5, 6, 7], hits_filtered=[[-73.69911206157077, 1200, 31.44626731437329, 3.4804278349251097], [-76.17342309881566, 1280, 33.65924497252711, 5.152654322550973], [-78.64773413606065, 1360, 35.87222263068128, 6.824880810176836], [-81.12204517330498, 1440, 38.085200288834855, 8.4971072978027]]),\n",
       " Track(x0=51.66569200345947, y0=1200, z0=-103.40700831697752, t=-2.966330960651396, Ax=0.25347885548422416, Ay=1, Az=-0.11327197735655475, At=0.0412352240230172, cov=array([[ 4.12807664e+00,  0.00000000e+00,  0.00000000e+00,\n",
       "         -2.06577639e-02,  0.00000000e+00,  0.00000000e+00],\n",
       "        [ 0.00000000e+00,  1.68043024e+00,  0.00000000e+00,\n",
       "          0.00000000e+00, -1.04592372e-02,  0.00000000e+00],\n",
       "        [ 0.00000000e+00,  0.00000000e+00,  7.00000000e-01,\n",
       "          0.00000000e+00,  0.00000000e+00, -3.75000000e-03],\n",
       "        [-2.06577639e-02,  0.00000000e+00,  0.00000000e+00,\n",
       "          1.29654171e-04,  0.00000000e+00,  0.00000000e+00],\n",
       "        [ 0.00000000e+00, -1.04592372e-02,  0.00000000e+00,\n",
       "          0.00000000e+00,  1.29654171e-04,  0.00000000e+00],\n",
       "        [ 0.00000000e+00,  0.00000000e+00, -3.75000000e-03,\n",
       "          0.00000000e+00,  0.00000000e+00,  3.12500000e-05]]), chi2=7.002789598710644, ind=3, hits=[0, 1, 2, 3], hits_filtered=[[51.66569200345947, 1200, -103.40700831697752, -2.966330960651396], [71.9440004421974, 1280, -112.4687665055019, 0.3324869611899801], [92.22230888093536, 1360, -121.53052469402658, 3.6313048830313566], [112.5006173196733, 1440, -130.59228288255076, 6.930122804872732]])]"
      ]
     },
     "execution_count": 27,
     "metadata": {},
     "output_type": "execute_result"
    }
   ],
   "source": [
    "tf = TF.TrackFinder(method=\"recursive\")\n",
    "tf.find(hits)\n",
    "print(tf.tracks_found)\n",
    "tf.run(hits)\n",
    "    "
   ]
  },
  {
   "cell_type": "code",
   "execution_count": 28,
   "id": "14667788",
   "metadata": {},
   "outputs": [
    {
     "data": {
      "text/plain": [
       "[Hit(x=55.73232151867401, y=1200, z=-99.0941029448389, t=-2.1376683808388135, x_err=0, y_err=0, z_err=0, t_err=0, layer=0, ind=0),\n",
       " Hit(x=75.52207100124639, y=1280, z=-109.90535966969796, t=0.6099907995563818, x_err=0, y_err=0, z_err=0, t_err=0, layer=1, ind=1),\n",
       " Hit(x=95.31182048381875, y=1360, z=-120.71661639455702, t=3.357649979951577, x_err=0, y_err=0, z_err=0, t_err=0, layer=2, ind=2),\n",
       " Hit(x=115.10156996639111, y=1440, z=-131.52787311941609, t=6.105309160346773, x_err=0, y_err=0, z_err=0, t_err=0, layer=3, ind=3),\n",
       " Hit(x=-71.26644688341386, y=1200, z=34.1021687782565, t=1.7687581426746357, x_err=0, y_err=0, z_err=0, t_err=0, layer=0, ind=0),\n",
       " Hit(x=-74.46866476715925, y=1280, z=37.13813365225473, t=4.3101286405402846, x_err=0, y_err=0, z_err=0, t_err=0, layer=1, ind=1),\n",
       " Hit(x=-77.67088265090464, y=1360, z=40.174098526252955, t=6.851499138405934, x_err=0, y_err=0, z_err=0, t_err=0, layer=2, ind=2),\n",
       " Hit(x=-80.87310053465004, y=1440, z=43.21006340025119, t=9.392869636271584, x_err=0, y_err=0, z_err=0, t_err=0, layer=3, ind=3),\n",
       " Hit(x=73.76592523342524, y=1200, z=86.88336224515908, t=-2.715624979703553, x_err=0, y_err=0, z_err=0, t_err=0, layer=0, ind=0),\n",
       " Hit(x=82.10155800337347, y=1280, z=70.85782382715398, t=0.045685319619021225, x_err=0, y_err=0, z_err=0, t_err=0, layer=1, ind=1),\n",
       " Hit(x=90.4371907733217, y=1360, z=54.832285409148874, t=2.8069956189415954, x_err=0, y_err=0, z_err=0, t_err=0, layer=2, ind=2),\n",
       " Hit(x=98.77282354326992, y=1440, z=38.80674699114377, t=5.56830591826417, x_err=0, y_err=0, z_err=0, t_err=0, layer=3, ind=3),\n",
       " Hit(x=56.413494364328955, y=1200, z=89.27718589396312, t=2.4270813887248623, x_err=0, y_err=0, z_err=0, t_err=0, layer=0, ind=0),\n",
       " Hit(x=70.39719547947598, y=1280, z=75.53688712029485, t=5.212933183789023, x_err=0, y_err=0, z_err=0, t_err=0, layer=1, ind=1),\n",
       " Hit(x=84.38089659462301, y=1360, z=61.796588346626585, t=7.998784978853184, x_err=0, y_err=0, z_err=0, t_err=0, layer=2, ind=2),\n",
       " Hit(x=98.36459770977004, y=1440, z=48.05628957295831, t=10.784636773917345, x_err=0, y_err=0, z_err=0, t_err=0, layer=3, ind=3)]"
      ]
     },
     "execution_count": 28,
     "metadata": {},
     "output_type": "execute_result"
    }
   ],
   "source": [
    "Truth_collection[0]"
   ]
  },
  {
   "cell_type": "markdown",
   "id": "e23373f9",
   "metadata": {},
   "source": [
    "## Run on an event that failed in the tracker"
   ]
  },
  {
   "cell_type": "code",
   "execution_count": 29,
   "id": "9b955a90",
   "metadata": {},
   "outputs": [
    {
     "data": {
      "text/plain": [
       "[Track(x0=274.2196119526758, y0=9894.0, z0=12456.768104297438, t=41.71806864762234, Ax=-0.18964018097796365, Ay=1, Az=0.026258905960041642, At=0.0374246578576429, cov=array([[ 4.12807664e+00,  0.00000000e+00,  0.00000000e+00,\n",
       "         -2.02527097e-02,  0.00000000e+00,  0.00000000e+00],\n",
       "        [ 0.00000000e+00,  1.68043024e+00,  0.00000000e+00,\n",
       "          0.00000000e+00, -1.02541541e-02,  0.00000000e+00],\n",
       "        [ 0.00000000e+00,  0.00000000e+00,  7.00000000e-01,\n",
       "          0.00000000e+00,  0.00000000e+00, -3.67647059e-03],\n",
       "        [-2.02527097e-02,  0.00000000e+00,  0.00000000e+00,\n",
       "          1.24619542e-04,  0.00000000e+00,  0.00000000e+00],\n",
       "        [ 0.00000000e+00, -1.02541541e-02,  0.00000000e+00,\n",
       "          0.00000000e+00,  1.24619542e-04,  0.00000000e+00],\n",
       "        [ 0.00000000e+00,  0.00000000e+00, -3.67647059e-03,\n",
       "          0.00000000e+00,  0.00000000e+00,  3.00365244e-05]]), chi2=11.199094002959015, ind=0, hits=[0, 1, 2, 3], hits_filtered=[[274.2196119526758, 9894.0, 12456.768104297438, 41.71806864762234], [258.74497318487425, 9975.599999999999, 12458.910831023777, 44.771920728805945], [243.27033441707198, 10057.2, 12461.053557750114, 47.82577280998969], [227.79569564927067, 10138.8, 12463.196284476453, 50.879624891173286]])]"
      ]
     },
     "execution_count": 29,
     "metadata": {},
     "output_type": "execute_result"
    }
   ],
   "source": [
    "x = [241.62934581783023, 259.25, 221.49664808213277, 227.75]\n",
    "y = [9894.0, 9975.599999999999, 10057.2, 10138.8]\n",
    "z = [12456.75, 12450.5, 12461.25, 12450.5]\n",
    "t = [40.91365706617539, 45.79668867914941, 48.189471653643565, 50.295569678622876]\n",
    "layers = [0,1,2,3,]\n",
    "\n",
    "hits = Util.hit.make_hits(x,y,z,t,layers)\n",
    "\n",
    "tf = TF.TrackFinder(method=\"recursive\")\n",
    "# tf.find(hits)\n",
    "# print(tf.tracks_found)\n",
    "tf.run(hits)"
   ]
  },
  {
   "cell_type": "code",
   "execution_count": 30,
   "id": "c39e88b3",
   "metadata": {},
   "outputs": [
    {
     "data": {
      "text/plain": [
       "['hits_example.joblib']"
      ]
     },
     "execution_count": 30,
     "metadata": {},
     "output_type": "execute_result"
    }
   ],
   "source": [
    "import joblib\n",
    "joblib.dump(hits, \"hits_example.joblib\")"
   ]
  },
  {
   "cell_type": "code",
   "execution_count": null,
   "id": "bd174a07",
   "metadata": {},
   "outputs": [],
   "source": []
  }
 ],
 "metadata": {
  "kernelspec": {
   "display_name": "Python 3 (ipykernel)",
   "language": "python",
   "name": "python3"
  },
  "language_info": {
   "codemirror_mode": {
    "name": "ipython",
    "version": 3
   },
   "file_extension": ".py",
   "mimetype": "text/x-python",
   "name": "python",
   "nbconvert_exporter": "python",
   "pygments_lexer": "ipython3",
   "version": "3.7.9"
  }
 },
 "nbformat": 4,
 "nbformat_minor": 5
}
