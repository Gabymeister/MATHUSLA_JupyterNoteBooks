{
 "cells": [
  {
   "cell_type": "code",
   "execution_count": 1,
   "id": "b63d8f30-ce36-46ca-b79c-6bd4ac3574db",
   "metadata": {},
   "outputs": [
    {
     "name": "stdout",
     "output_type": "stream",
     "text": [
      "/home/owhgabri/My_GitHub/pyTracker\n",
      "1.4.2\n",
      "Welcome to JupyROOT 6.26/14\n",
      "/home/owhgabri/My_GitHub/pyTracker\n",
      "1.4.2\n"
     ]
    }
   ],
   "source": [
    "try:\n",
    "    from tqdm import tqdm\n",
    "except ImportError:\n",
    "    def tqdm(iterator, *args, **kwargs):\n",
    "        return iterator\n",
    "import os, sys, glob, warnings, glob    \n",
    "import numpy as np\n",
    "import scipy as sp\n",
    "from scipy import constants\n",
    "from pylab import *\n",
    "import joblib\n",
    "import importlib\n",
    "from importlib import reload\n",
    "sys.path.append(\"/home/owhgabri/My_GitHub/MATHUSLA_JupyterNoteBooks/tracker/tests\")\n",
    "sys.path.insert(1, \"/home/owhgabri/My_GitHub/MATHUSLA_JupyterNoteBooks/tracker/tests\")\n",
    "os.chdir('/home/owhgabri/My_GitHub/MATHUSLA_JupyterNoteBooks/tracker')\n",
    "from tests import Vetoes as VT\n",
    "sys.path.append(\"/home/owhgabri/My_GitHub/pyTracker/tracker\")\n",
    "sys.path.insert(1, \"/home/owhgabri/My_GitHub/pyTracker/tracker\")\n",
    "os.chdir('/home/owhgabri/My_GitHub/pyTracker')\n",
    "print(os.getcwd())\n",
    "print(joblib.__version__)"
   ]
  },
  {
   "cell_type": "code",
   "execution_count": 2,
   "id": "d899eb9e-9aad-4ab4-a9b9-d4b6df036042",
   "metadata": {},
   "outputs": [],
   "source": [
    "import scipy\n",
    "import copy as cp\n",
    "\n",
    "# ROOT\n",
    "import ROOT as root\n",
    "\n",
    "# Matplotlib\n",
    "import matplotlib.pyplot as plt\n",
    "from matplotlib import collections, colors, transforms\n",
    "\n",
    "%matplotlib inline\n",
    "%config InlineBackend.figure_format='retina'\n",
    "# %matplotlib widget\n",
    "\n",
    "import pprint"
   ]
  },
  {
   "cell_type": "code",
   "execution_count": 3,
   "id": "d0611f77-cd49-41ef-a7ba-59d4ed4690a5",
   "metadata": {},
   "outputs": [
    {
     "data": {
      "text/plain": [
       "<module 'utilities' from '/home/owhgabri/My_GitHub/pyTracker/tracker/utilities.py'>"
      ]
     },
     "execution_count": 3,
     "metadata": {},
     "output_type": "execute_result"
    }
   ],
   "source": [
    "import kalmanfilter as KF\n",
    "import utilities as Util\n",
    "import trackfinder as TF\n",
    "import datatypes\n",
    "from datatypes import *\n",
    "\n",
    "\n",
    "reload(TF)\n",
    "reload(Util)"
   ]
  },
  {
   "cell_type": "markdown",
   "id": "85d49f8d-7745-4a60-93e7-21282ff69a07",
   "metadata": {},
   "source": [
    "# Background #"
   ]
  },
  {
   "cell_type": "code",
   "execution_count": 4,
   "id": "1307828c-a031-471e-96f3-c1fe05367e2d",
   "metadata": {},
   "outputs": [
    {
     "name": "stdout",
     "output_type": "stream",
     "text": [
      "70\n"
     ]
    }
   ],
   "source": [
    "data_top_dir = f\"/home/owhgabri/My_GitHub/data/Reconstruction/10xCosmicBackground\"\n",
    "pathList=[]\n",
    "\n",
    "for rootFile, dirs, files in os.walk(data_top_dir):\n",
    "    for filename in files:\n",
    "        if \".pkl\" in filename:\n",
    "            pathList.append(os.path.join(rootFile, filename))\n",
    "\n",
    "pathList = pathList[:70]\n",
    "print(len(pathList))\n"
   ]
  },
  {
   "cell_type": "code",
   "execution_count": 5,
   "id": "d462cdcb-1fc4-464c-b442-045714038060",
   "metadata": {},
   "outputs": [
    {
     "ename": "KeyboardInterrupt",
     "evalue": "",
     "output_type": "error",
     "traceback": [
      "\u001b[0;31m---------------------------------------------------------------------------\u001b[0m",
      "\u001b[0;31mKeyboardInterrupt\u001b[0m                         Traceback (most recent call last)",
      "Cell \u001b[0;32mIn[5], line 5\u001b[0m\n\u001b[1;32m      3\u001b[0m materials \u001b[38;5;241m=\u001b[39m VT\u001b[38;5;241m.\u001b[39mMaterialVeto\u001b[38;5;241m.\u001b[39mMakeMaterials()\n\u001b[1;32m      4\u001b[0m \u001b[38;5;28;01mfor\u001b[39;00m f \u001b[38;5;129;01min\u001b[39;00m pathList:\n\u001b[0;32m----> 5\u001b[0m     events\u001b[38;5;241m=\u001b[39m\u001b[43mjoblib\u001b[49m\u001b[38;5;241;43m.\u001b[39;49m\u001b[43mload\u001b[49m\u001b[43m(\u001b[49m\u001b[43mf\u001b[49m\u001b[43m)\u001b[49m\n\u001b[1;32m      6\u001b[0m     file_hits \u001b[38;5;241m=\u001b[39m events[\u001b[38;5;124m\"\u001b[39m\u001b[38;5;124mhits\u001b[39m\u001b[38;5;124m\"\u001b[39m]\n\u001b[1;32m      7\u001b[0m     file_tracks \u001b[38;5;241m=\u001b[39m events[\u001b[38;5;124m\"\u001b[39m\u001b[38;5;124mtracks\u001b[39m\u001b[38;5;124m\"\u001b[39m]\n",
      "File \u001b[0;32m~/environments/mathusla/lib/python3.8/site-packages/joblib/numpy_pickle.py:658\u001b[0m, in \u001b[0;36mload\u001b[0;34m(filename, mmap_mode)\u001b[0m\n\u001b[1;32m    652\u001b[0m             \u001b[38;5;28;01mif\u001b[39;00m \u001b[38;5;28misinstance\u001b[39m(fobj, \u001b[38;5;28mstr\u001b[39m):\n\u001b[1;32m    653\u001b[0m                 \u001b[38;5;66;03m# if the returned file object is a string, this means we\u001b[39;00m\n\u001b[1;32m    654\u001b[0m                 \u001b[38;5;66;03m# try to load a pickle file generated with an version of\u001b[39;00m\n\u001b[1;32m    655\u001b[0m                 \u001b[38;5;66;03m# Joblib so we load it with joblib compatibility function.\u001b[39;00m\n\u001b[1;32m    656\u001b[0m                 \u001b[38;5;28;01mreturn\u001b[39;00m load_compatibility(fobj)\n\u001b[0;32m--> 658\u001b[0m             obj \u001b[38;5;241m=\u001b[39m \u001b[43m_unpickle\u001b[49m\u001b[43m(\u001b[49m\u001b[43mfobj\u001b[49m\u001b[43m,\u001b[49m\u001b[43m \u001b[49m\u001b[43mfilename\u001b[49m\u001b[43m,\u001b[49m\u001b[43m \u001b[49m\u001b[43mmmap_mode\u001b[49m\u001b[43m)\u001b[49m\n\u001b[1;32m    659\u001b[0m \u001b[38;5;28;01mreturn\u001b[39;00m obj\n",
      "File \u001b[0;32m~/environments/mathusla/lib/python3.8/site-packages/joblib/numpy_pickle.py:577\u001b[0m, in \u001b[0;36m_unpickle\u001b[0;34m(fobj, filename, mmap_mode)\u001b[0m\n\u001b[1;32m    575\u001b[0m obj \u001b[38;5;241m=\u001b[39m \u001b[38;5;28;01mNone\u001b[39;00m\n\u001b[1;32m    576\u001b[0m \u001b[38;5;28;01mtry\u001b[39;00m:\n\u001b[0;32m--> 577\u001b[0m     obj \u001b[38;5;241m=\u001b[39m \u001b[43munpickler\u001b[49m\u001b[38;5;241;43m.\u001b[39;49m\u001b[43mload\u001b[49m\u001b[43m(\u001b[49m\u001b[43m)\u001b[49m\n\u001b[1;32m    578\u001b[0m     \u001b[38;5;28;01mif\u001b[39;00m unpickler\u001b[38;5;241m.\u001b[39mcompat_mode:\n\u001b[1;32m    579\u001b[0m         warnings\u001b[38;5;241m.\u001b[39mwarn(\u001b[38;5;124m\"\u001b[39m\u001b[38;5;124mThe file \u001b[39m\u001b[38;5;124m'\u001b[39m\u001b[38;5;132;01m%s\u001b[39;00m\u001b[38;5;124m'\u001b[39m\u001b[38;5;124m has been generated with a \u001b[39m\u001b[38;5;124m\"\u001b[39m\n\u001b[1;32m    580\u001b[0m                       \u001b[38;5;124m\"\u001b[39m\u001b[38;5;124mjoblib version less than 0.10. \u001b[39m\u001b[38;5;124m\"\u001b[39m\n\u001b[1;32m    581\u001b[0m                       \u001b[38;5;124m\"\u001b[39m\u001b[38;5;124mPlease regenerate this pickle file.\u001b[39m\u001b[38;5;124m\"\u001b[39m\n\u001b[1;32m    582\u001b[0m                       \u001b[38;5;241m%\u001b[39m filename,\n\u001b[1;32m    583\u001b[0m                       \u001b[38;5;167;01mDeprecationWarning\u001b[39;00m, stacklevel\u001b[38;5;241m=\u001b[39m\u001b[38;5;241m3\u001b[39m)\n",
      "File \u001b[0;32m/usr/lib/python3.8/pickle.py:1212\u001b[0m, in \u001b[0;36m_Unpickler.load\u001b[0;34m(self)\u001b[0m\n\u001b[1;32m   1210\u001b[0m             \u001b[38;5;28;01mraise\u001b[39;00m \u001b[38;5;167;01mEOFError\u001b[39;00m\n\u001b[1;32m   1211\u001b[0m         \u001b[38;5;28;01massert\u001b[39;00m \u001b[38;5;28misinstance\u001b[39m(key, bytes_types)\n\u001b[0;32m-> 1212\u001b[0m         \u001b[43mdispatch\u001b[49m\u001b[43m[\u001b[49m\u001b[43mkey\u001b[49m\u001b[43m[\u001b[49m\u001b[38;5;241;43m0\u001b[39;49m\u001b[43m]\u001b[49m\u001b[43m]\u001b[49m\u001b[43m(\u001b[49m\u001b[38;5;28;43mself\u001b[39;49m\u001b[43m)\u001b[49m\n\u001b[1;32m   1213\u001b[0m \u001b[38;5;28;01mexcept\u001b[39;00m _Stop \u001b[38;5;28;01mas\u001b[39;00m stopinst:\n\u001b[1;32m   1214\u001b[0m     \u001b[38;5;28;01mreturn\u001b[39;00m stopinst\u001b[38;5;241m.\u001b[39mvalue\n",
      "File \u001b[0;32m/usr/lib/python3.8/pickle.py:1239\u001b[0m, in \u001b[0;36m_Unpickler.load_frame\u001b[0;34m(self)\u001b[0m\n\u001b[1;32m   1237\u001b[0m \u001b[38;5;28;01mif\u001b[39;00m frame_size \u001b[38;5;241m>\u001b[39m sys\u001b[38;5;241m.\u001b[39mmaxsize:\n\u001b[1;32m   1238\u001b[0m     \u001b[38;5;28;01mraise\u001b[39;00m \u001b[38;5;167;01mValueError\u001b[39;00m(\u001b[38;5;124m\"\u001b[39m\u001b[38;5;124mframe size > sys.maxsize: \u001b[39m\u001b[38;5;132;01m%d\u001b[39;00m\u001b[38;5;124m\"\u001b[39m \u001b[38;5;241m%\u001b[39m frame_size)\n\u001b[0;32m-> 1239\u001b[0m \u001b[38;5;28;43mself\u001b[39;49m\u001b[38;5;241;43m.\u001b[39;49m\u001b[43m_unframer\u001b[49m\u001b[38;5;241;43m.\u001b[39;49m\u001b[43mload_frame\u001b[49m\u001b[43m(\u001b[49m\u001b[43mframe_size\u001b[49m\u001b[43m)\u001b[49m\n",
      "File \u001b[0;32m/usr/lib/python3.8/pickle.py:317\u001b[0m, in \u001b[0;36m_Unframer.load_frame\u001b[0;34m(self, frame_size)\u001b[0m\n\u001b[1;32m    314\u001b[0m \u001b[38;5;28;01mif\u001b[39;00m \u001b[38;5;28mself\u001b[39m\u001b[38;5;241m.\u001b[39mcurrent_frame \u001b[38;5;129;01mand\u001b[39;00m \u001b[38;5;28mself\u001b[39m\u001b[38;5;241m.\u001b[39mcurrent_frame\u001b[38;5;241m.\u001b[39mread() \u001b[38;5;241m!=\u001b[39m \u001b[38;5;124mb\u001b[39m\u001b[38;5;124m'\u001b[39m\u001b[38;5;124m'\u001b[39m:\n\u001b[1;32m    315\u001b[0m     \u001b[38;5;28;01mraise\u001b[39;00m UnpicklingError(\n\u001b[1;32m    316\u001b[0m         \u001b[38;5;124m\"\u001b[39m\u001b[38;5;124mbeginning of a new frame before end of current frame\u001b[39m\u001b[38;5;124m\"\u001b[39m)\n\u001b[0;32m--> 317\u001b[0m \u001b[38;5;28mself\u001b[39m\u001b[38;5;241m.\u001b[39mcurrent_frame \u001b[38;5;241m=\u001b[39m io\u001b[38;5;241m.\u001b[39mBytesIO(\u001b[38;5;28;43mself\u001b[39;49m\u001b[38;5;241;43m.\u001b[39;49m\u001b[43mfile_read\u001b[49m\u001b[43m(\u001b[49m\u001b[43mframe_size\u001b[49m\u001b[43m)\u001b[49m)\n",
      "\u001b[0;31mKeyboardInterrupt\u001b[0m: "
     ]
    }
   ],
   "source": [
    "nEvents = 0\n",
    "nVetoed = 0\n",
    "materials = VT.MaterialVeto.MakeMaterials()\n",
    "for f in pathList:\n",
    "    events=joblib.load(f)\n",
    "    file_hits = events[\"hits\"]\n",
    "    file_tracks = events[\"tracks\"]\n",
    "    file_vertices = events[\"vertices\"]\n",
    "    for i in range(len(file_hits)):\n",
    "        hits= file_hits[i]\n",
    "        tracks = file_tracks[i]\n",
    "        vertices = file_vertices[i]\n",
    "        if len(vertices) == 0:\n",
    "            continue\n",
    "        nEvents +=1\n",
    "        if VT.IPVeto.DistanceVeto(vertices, tracks, hits, 500) or \\\n",
    "        VT.MaterialVeto.DistanceVeto(vertices, materials, 40) or \\\n",
    "        VT.CutoffVeto(vertices) or \\\n",
    "        VT.TrackNumberVeto(vertices, 3) or \\\n",
    "        VT.UpVertexVeto(vertices, tracks) or \\\n",
    "        VT.ConeVeto.Veto(vertices, tracks, hits):\n",
    "            nVetoed += 1\n",
    "\n",
    "print(\"Number of events:\", nEvents)\n",
    "print(\"Survival rate:\", 1 - nVetoed/nEvents)\n",
    "        \n",
    "        "
   ]
  },
  {
   "cell_type": "markdown",
   "id": "36bf959e-edd9-4578-8198-305b88b55c82",
   "metadata": {},
   "source": [
    "# Signal #"
   ]
  },
  {
   "cell_type": "code",
   "execution_count": 4,
   "id": "4f9aab8d-5a5d-47bd-9788-94f76cbc0f26",
   "metadata": {},
   "outputs": [
    {
     "name": "stdout",
     "output_type": "stream",
     "text": [
      "1\n"
     ]
    }
   ],
   "source": [
    "data_top_dir = f\"/home/owhgabri/My_GitHub/data/Reconstruction/LLP\"\n",
    "pathList=[]\n",
    "\n",
    "for rootFile, dirs, files in os.walk(data_top_dir):\n",
    "    for filename in files:\n",
    "        if \".pkl\" in filename:\n",
    "            pathList.append(os.path.join(rootFile, filename))\n",
    "\n",
    "pathList = pathList[:1]\n",
    "print(len(pathList))"
   ]
  },
  {
   "cell_type": "code",
   "execution_count": 5,
   "id": "3fb95eab-c4b7-4f2f-891b-1f7b49fa9577",
   "metadata": {},
   "outputs": [
    {
     "name": "stdout",
     "output_type": "stream",
     "text": [
      "Number of events: 9216\n",
      "Survival rate: 0.13444010416666663\n"
     ]
    }
   ],
   "source": [
    "nEvents = 0\n",
    "nVetoed = 0\n",
    "materials = VT.MaterialVeto.MakeMaterials()\n",
    "for f in pathList:\n",
    "    events=joblib.load(f)\n",
    "    file_hits = events[\"hits\"]\n",
    "    file_tracks = events[\"tracks\"]\n",
    "    file_vertices = events[\"vertices\"]\n",
    "    for i in range(len(file_hits)):\n",
    "        hits= file_hits[i]\n",
    "        tracks = file_tracks[i]\n",
    "        vertices = file_vertices[i]\n",
    "        if len(vertices) == 0:\n",
    "            continue\n",
    "        nEvents +=1\n",
    "        if VT.IPVeto.DistanceVeto(vertices, tracks, hits, 500) or \\\n",
    "        VT.MaterialVeto.DistanceVeto(vertices, materials, 40) or \\\n",
    "        VT.CutoffVeto(vertices) or \\\n",
    "        VT.TrackNumberVeto(vertices, 3) or \\\n",
    "        VT.UpVertexVeto(vertices, tracks) or \\\n",
    "        VT.ConeVeto.Veto(vertices, tracks, hits):\n",
    "            nVetoed += 1\n",
    "\n",
    "print(\"Number of events:\", nEvents)\n",
    "print(\"Survival rate:\", 1 - nVetoed/nEvents)\n",
    "        \n",
    "        "
   ]
  },
  {
   "cell_type": "code",
   "execution_count": null,
   "id": "4ba90035-803a-4089-ad8a-863a42c61297",
   "metadata": {},
   "outputs": [],
   "source": []
  }
 ],
 "metadata": {
  "kernelspec": {
   "display_name": "Python 3 (ipykernel)",
   "language": "python",
   "name": "python3"
  },
  "language_info": {
   "codemirror_mode": {
    "name": "ipython",
    "version": 3
   },
   "file_extension": ".py",
   "mimetype": "text/x-python",
   "name": "python",
   "nbconvert_exporter": "python",
   "pygments_lexer": "ipython3",
   "version": "3.8.10"
  }
 },
 "nbformat": 4,
 "nbformat_minor": 5
}
