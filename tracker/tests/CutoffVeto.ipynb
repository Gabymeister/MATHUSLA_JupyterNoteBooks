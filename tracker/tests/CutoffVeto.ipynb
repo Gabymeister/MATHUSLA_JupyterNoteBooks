{
 "cells": [
  {
   "cell_type": "code",
   "execution_count": 1,
   "id": "d21abfc7-2259-4607-ba26-4f8fcb79b424",
   "metadata": {},
   "outputs": [
    {
     "name": "stdout",
     "output_type": "stream",
     "text": [
      "/home/owhgabri/My_GitHub/pyTracker\n",
      "1.4.2\n"
     ]
    }
   ],
   "source": [
    "try:\n",
    "    from tqdm import tqdm\n",
    "except ImportError:\n",
    "    def tqdm(iterator, *args, **kwargs):\n",
    "        return iterator\n",
    "import os, sys, glob, warnings, glob    \n",
    "import numpy as np\n",
    "import scipy as sp\n",
    "from scipy import constants\n",
    "from pylab import *\n",
    "import joblib\n",
    "import importlib\n",
    "from importlib import reload\n",
    "sys.path.append(\"/home/owhgabri/My_GitHub/MATHUSLA_JupyterNoteBooks/tracker\")\n",
    "sys.path.insert(1, \"/home/owhgabri/My_GitHub/MATHUSLA_JupyterNoteBooks/tracker\")\n",
    "os.chdir('/home/owhgabri/My_GitHub/pyTracker')\n",
    "print(os.getcwd())\n",
    "print(joblib.__version__)"
   ]
  },
  {
   "cell_type": "code",
   "execution_count": 2,
   "id": "d30e368a-b222-4157-832c-67ae39060825",
   "metadata": {},
   "outputs": [
    {
     "name": "stdout",
     "output_type": "stream",
     "text": [
      "Welcome to JupyROOT 6.26/14\n"
     ]
    }
   ],
   "source": [
    "import scipy\n",
    "import copy as cp\n",
    "\n",
    "# ROOT\n",
    "import ROOT as root\n",
    "\n",
    "# Matplotlib\n",
    "import matplotlib.pyplot as plt\n",
    "from matplotlib import collections, colors, transforms\n",
    "\n",
    "%matplotlib inline\n",
    "%config InlineBackend.figure_format='retina'\n",
    "# %matplotlib widget\n",
    "\n",
    "import pprint"
   ]
  },
  {
   "cell_type": "code",
   "execution_count": 3,
   "id": "f54bab27-8c56-4c47-a98e-37c013077a09",
   "metadata": {},
   "outputs": [
    {
     "data": {
      "text/plain": [
       "<module 'utilities' from '/home/owhgabri/My_GitHub/MATHUSLA_JupyterNoteBooks/tracker/utilities.py'>"
      ]
     },
     "execution_count": 3,
     "metadata": {},
     "output_type": "execute_result"
    }
   ],
   "source": [
    "import kalmanfilter as KF\n",
    "import utilities as Util\n",
    "import trackfinder as TF\n",
    "import vertexfinder as VF\n",
    "import datatypes\n",
    "from datatypes import *\n",
    "\n",
    "reload(TF)\n",
    "reload(VF)\n",
    "reload(Util)"
   ]
  },
  {
   "cell_type": "markdown",
   "id": "19624b5d-6ffe-456c-b9e4-906c520acc3d",
   "metadata": {},
   "source": [
    "### Defining Useful Functions ### "
   ]
  },
  {
   "cell_type": "code",
   "execution_count": 4,
   "id": "52533065-f729-404f-adbd-9d777ee7d029",
   "metadata": {},
   "outputs": [],
   "source": [
    "x_mod_starts = [-1950, -950, 50, 950, 1050]\n",
    "# y_layer_starts = [8550, 8631.6, 9730, 9811.6, 9893.2, 9974.8, 10056.4, 10138] # 6 layer \n",
    "y_layer_starts = [8550, 8631.6, 9893.2, 9974.8, 10056.4, 10138] # 4 layer\n",
    "n_floors = 2\n",
    "z_mod_starts = [7000, 8000, 9000, 10000]\n",
    "# z_wall_starts = [10900, 10981.6, 11063.2, 11144.8, 11226.4, 11308] # 6 layer\n",
    "z_wall_starts = [10900, 10981.6, 11063.2, 11144.8, 11226.4, 11308] # 4 layer\n",
    "# back_top =  y_layer_starts[4] # 6 layer\n",
    "back_top =  y_layer_starts[2] # 4 layer\n",
    "beam_dim = 10\n",
    "mod_length = 900\n",
    "front_wall_starts = [6895.8,6997.4]\n",
    "steel_height=3 # cm\n",
    "Box_IP_Depth=8547 # cm   \n",
    "c = 29.979\n",
    "\n",
    "wall_floor1 = (7000,8633.2)\n",
    "wall_floor2 = (7000,8551.6)\n",
    "wallMid1 = 6896.6\n",
    "wallMid2 = 6998.2\n",
    "floorMid1 = 8550.8\n",
    "floorMid2 = 8632.4\n",
    "\n",
    "IP = (0,0,0)\n",
    "\n",
    "y_bottoms = [8550, 8631.6]\n",
    "z_fronts = [6895.8, 6997.4]\n",
    "x_lims = (-1950, 1950)\n",
    "thickness = 1.6"
   ]
  },
  {
   "cell_type": "code",
   "execution_count": 5,
   "id": "4d5a1e79-3943-4bc0-95a8-a2dc62021d65",
   "metadata": {},
   "outputs": [],
   "source": [
    "    \n",
    "def MakeBeams():\n",
    "    \"\"\"\n",
    "    Returns a list with beams of the form \n",
    "    ((x_min, x_max),(y_min,y_max),(z_min, z_max))\n",
    "    \"\"\"\n",
    "    beams = []\n",
    "    for i in range(len(y_layer_starts) - 1):\n",
    "        for j in range(len(x_mod_starts)):\n",
    "            for k in range(len(z_mod_starts)):\n",
    "                y_min = y_layer_starts[i] + thickness; y_max = y_layer_starts[i+1]\n",
    "                \n",
    "                x_min = x_mod_starts[j]; x_max = x_mod_starts[j] + beam_dim\n",
    "                z_min = z_mod_starts[k]; z_max = z_mod_starts[k] + beam_dim\n",
    "                beams.append(np.array(((x_min, x_max),(y_min,y_max),(z_min,z_max))))\n",
    "                \n",
    "                x_min = x_mod_starts[j]; x_max = x_mod_starts[j] + beam_dim\n",
    "                z_min = z_mod_starts[k] + mod_length - beam_dim; z_max = z_mod_starts[k] + mod_length\n",
    "                beams.append(np.array(((x_min, x_max),(y_min,y_max),(z_min,z_max))))\n",
    "\n",
    "                x_min = x_mod_starts[j] + mod_length - beam_dim; x_max = x_mod_starts[j] + mod_length\n",
    "                z_min = z_mod_starts[k]; z_max = z_mod_starts[k] + beam_dim\n",
    "                beams.append(np.array(((x_min, x_max),(y_min,y_max),(z_min,z_max))))\n",
    "\n",
    "                x_min = x_mod_starts[j] + mod_length - beam_dim; x_max = x_mod_starts[j] + mod_length\n",
    "                z_min = z_mod_starts[k] + mod_length - beam_dim; z_max = z_mod_starts[k] + mod_length\n",
    "                beams.append(np.array(((x_min, x_max),(y_min,y_max),(z_min,z_max))))\n",
    "    return beams\n",
    "\n",
    "\n",
    "def MakeMaterials():\n",
    "    \"\"\"\n",
    "    Returns all the materials concatenated together\n",
    "    \"\"\"\n",
    "    beams = MakeBeams()\n",
    "    return beams\n"
   ]
  },
  {
   "cell_type": "markdown",
   "id": "d846b9df-53bf-4147-ac9d-7328ef403a74",
   "metadata": {},
   "source": [
    "# Background #"
   ]
  },
  {
   "cell_type": "code",
   "execution_count": 13,
   "id": "d9b1f348-c6dc-4185-a581-b32ba2717109",
   "metadata": {},
   "outputs": [
    {
     "name": "stdout",
     "output_type": "stream",
     "text": [
      "187\n"
     ]
    }
   ],
   "source": [
    "data_top_dir = f\"/home/owhgabri/My_GitHub/data/Reconstruction/10xCosmicBackground\"\n",
    "pathList=[]\n",
    "\n",
    "for rootFile, dirs, files in os.walk(data_top_dir):\n",
    "    for filename in files:\n",
    "        if \".pkl\" in filename:\n",
    "            pathList.append(os.path.join(rootFile, filename))\n",
    "\n",
    "\n",
    "print(len(pathList))"
   ]
  },
  {
   "cell_type": "markdown",
   "id": "d377c9ae-d93f-48e4-8a01-a118dda7152f",
   "metadata": {},
   "source": [
    "## Survival Rate: Vertex Level ##"
   ]
  },
  {
   "cell_type": "code",
   "execution_count": 10,
   "id": "b2b3b231-031c-4e0a-b572-03d1e057d505",
   "metadata": {},
   "outputs": [
    {
     "name": "stdout",
     "output_type": "stream",
     "text": [
      "Total Vertices: 4389\n",
      "Survival Fraction: 0.40419229892914105\n"
     ]
    }
   ],
   "source": [
    "nVertices = 0\n",
    "n_surviving = 0\n",
    "materials = MakeMaterials()\n",
    "for dist in dists:\n",
    "    counts.append(0)\n",
    "for f in pathList:\n",
    "    events=joblib.load(f)\n",
    "    file_vertices = events[\"vertices\"]\n",
    "    for i in range(len(file_vertices)):\n",
    "        vertices = file_vertices[i]\n",
    "        nVertices += len(vertices)\n",
    "        if len(vertices) == 0:\n",
    "            continue\n",
    "        for vertex in vertices:\n",
    "            if vertex.y0 < y_layer_starts[2] and \\\n",
    "            vertex.y0 > 8500 and vertex.x0 > -2000 and \\\n",
    "            vertex.x0 < 2000 and vertex.z0 > 6800 and \\\n",
    "            vertex.z0 < 11350:\n",
    "                n_surviving += 1\n",
    "print(\"Total Vertices:\", nVertices)\n",
    "print(\"Survival Fraction:\", n_surviving/nVertices)"
   ]
  },
  {
   "cell_type": "markdown",
   "id": "7a11b6ef-47e5-400e-af14-2dfd5d03d3ad",
   "metadata": {},
   "source": [
    "## Survival Rate: Event Level ##"
   ]
  },
  {
   "cell_type": "code",
   "execution_count": 14,
   "id": "845343ba-95b2-400a-a500-ac51d1ecf33c",
   "metadata": {},
   "outputs": [
    {
     "name": "stdout",
     "output_type": "stream",
     "text": [
      "Total Events: 3686\n",
      "Survival Fraction: 0.38171459576776995\n"
     ]
    }
   ],
   "source": [
    "nEvents = 0\n",
    "n_surviving = 0\n",
    "materials = MakeMaterials()\n",
    "for f in pathList:\n",
    "    events=joblib.load(f)\n",
    "    file_vertices = events[\"vertices\"]\n",
    "    for i in range(len(file_vertices)):\n",
    "        vertices = file_vertices[i]\n",
    "        surviving = True\n",
    "        if len(vertices) == 0:\n",
    "            continue\n",
    "        nEvents += 1\n",
    "        for vertex in vertices:\n",
    "            if not(vertex.y0 < y_layer_starts[2] and \\\n",
    "            vertex.y0 > 8500 and vertex.x0 > -2000 and \\\n",
    "            vertex.x0 < 2000 and vertex.z0 > 6800 and \\\n",
    "            vertex.z0 < 11350):\n",
    "                surviving = False\n",
    "        if surviving:\n",
    "            n_surviving += 1\n",
    "print(\"Total Events:\", nEvents)\n",
    "print(\"Survival Fraction:\", n_surviving/nEvents)"
   ]
  },
  {
   "cell_type": "markdown",
   "id": "36eda054-c4a6-49f4-b8ea-d1df1f583c11",
   "metadata": {},
   "source": [
    "# Signal #"
   ]
  },
  {
   "cell_type": "code",
   "execution_count": 15,
   "id": "91c7b9c0-3355-434b-958d-79cca30d8b1f",
   "metadata": {},
   "outputs": [
    {
     "name": "stdout",
     "output_type": "stream",
     "text": [
      "5\n"
     ]
    }
   ],
   "source": [
    "data_top_dir = f\"/home/owhgabri/My_GitHub/data/Reconstruction/LLP\"\n",
    "pathList=[]\n",
    "\n",
    "for rootFile, dirs, files in os.walk(data_top_dir):\n",
    "    for filename in files:\n",
    "        if \".pkl\" in filename:\n",
    "            pathList.append(os.path.join(rootFile, filename))\n",
    "\n",
    "\n",
    "print(len(pathList))"
   ]
  },
  {
   "cell_type": "markdown",
   "id": "f1b0920e-cbbc-448b-8216-80c56b3595d3",
   "metadata": {},
   "source": [
    "## Survival Rate: Vertex Level ##"
   ]
  },
  {
   "cell_type": "code",
   "execution_count": 12,
   "id": "485941bd-809a-47f6-8508-8651ca6174e5",
   "metadata": {},
   "outputs": [
    {
     "name": "stdout",
     "output_type": "stream",
     "text": [
      "Total Vertices: 118152\n",
      "Survival Fraction: 0.7721578983004943\n"
     ]
    }
   ],
   "source": [
    "nVertices = 0\n",
    "n_surviving = 0\n",
    "materials = MakeMaterials()\n",
    "for dist in dists:\n",
    "    counts.append(0)\n",
    "for f in pathList:\n",
    "    events=joblib.load(f)\n",
    "    file_vertices = events[\"vertices\"]\n",
    "    for i in range(len(file_vertices)):\n",
    "        vertices = file_vertices[i]\n",
    "        nVertices += len(vertices)\n",
    "        if len(vertices) == 0:\n",
    "            continue\n",
    "        for vertex in vertices:\n",
    "            if vertex.y0 < y_layer_starts[2] and \\\n",
    "            vertex.y0 > 8500 and vertex.x0 > -2000 and \\\n",
    "            vertex.x0 < 2000 and vertex.z0 > 6800 and \\\n",
    "            vertex.z0 < 11350:\n",
    "                n_surviving += 1\n",
    "print(\"Total Vertices:\", nVertices)\n",
    "print(\"Survival Fraction:\", n_surviving/nVertices)"
   ]
  },
  {
   "cell_type": "markdown",
   "id": "ad958cfa-0621-41ca-b76d-bd1c842dfa95",
   "metadata": {},
   "source": [
    "## Survival Rate: Event Level ##"
   ]
  },
  {
   "cell_type": "code",
   "execution_count": 16,
   "id": "00493b8e-3151-43d2-8bed-cfdd439c153b",
   "metadata": {},
   "outputs": [
    {
     "name": "stdout",
     "output_type": "stream",
     "text": [
      "Total Events: 46153\n",
      "Survival Fraction: 0.6313999089983316\n"
     ]
    }
   ],
   "source": [
    "nEvents = 0\n",
    "n_surviving = 0\n",
    "materials = MakeMaterials()\n",
    "for f in pathList:\n",
    "    events=joblib.load(f)\n",
    "    file_vertices = events[\"vertices\"]\n",
    "    for i in range(len(file_vertices)):\n",
    "        vertices = file_vertices[i]\n",
    "        surviving = True\n",
    "        if len(vertices) == 0:\n",
    "            continue\n",
    "        nEvents += 1\n",
    "        for vertex in vertices:\n",
    "            if not(vertex.y0 < y_layer_starts[2] and \\\n",
    "            vertex.y0 > 8500 and vertex.x0 > -2000 and \\\n",
    "            vertex.x0 < 2000 and vertex.z0 > 6800 and \\\n",
    "            vertex.z0 < 11350):\n",
    "                surviving = False\n",
    "        if surviving:\n",
    "            n_surviving += 1\n",
    "print(\"Total Events:\", nEvents)\n",
    "print(\"Survival Fraction:\", n_surviving/nEvents)"
   ]
  },
  {
   "cell_type": "code",
   "execution_count": null,
   "id": "aea9a84f-2baf-45d5-9edb-e2d6ed506a37",
   "metadata": {},
   "outputs": [],
   "source": []
  }
 ],
 "metadata": {
  "kernelspec": {
   "display_name": "Python 3 (ipykernel)",
   "language": "python",
   "name": "python3"
  },
  "language_info": {
   "codemirror_mode": {
    "name": "ipython",
    "version": 3
   },
   "file_extension": ".py",
   "mimetype": "text/x-python",
   "name": "python",
   "nbconvert_exporter": "python",
   "pygments_lexer": "ipython3",
   "version": "3.8.10"
  }
 },
 "nbformat": 4,
 "nbformat_minor": 5
}
