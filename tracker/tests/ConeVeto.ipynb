{
 "cells": [
  {
   "cell_type": "code",
   "execution_count": 1,
   "id": "6872df0d-a249-40b4-981d-82125e542e3a",
   "metadata": {},
   "outputs": [
    {
     "name": "stdout",
     "output_type": "stream",
     "text": [
      "/home/owhgabri/My_GitHub/pyTracker\n",
      "1.4.2\n"
     ]
    }
   ],
   "source": [
    "try:\n",
    "    from tqdm import tqdm\n",
    "except ImportError:\n",
    "    def tqdm(iterator, *args, **kwargs):\n",
    "        return iterator\n",
    "import os, sys, glob, warnings, glob    \n",
    "import numpy as np\n",
    "import scipy as sp\n",
    "from scipy import constants\n",
    "from pylab import *\n",
    "import joblib\n",
    "import importlib\n",
    "from importlib import reload\n",
    "sys.path.append(\"/home/owhgabri/My_GitHub/pyTracker/tracker\")\n",
    "sys.path.insert(1, \"/home/owhgabri/My_GitHub/pyTracker/tracker\")\n",
    "os.chdir('/home/owhgabri/My_GitHub/pyTracker')\n",
    "print(os.getcwd())\n",
    "print(joblib.__version__)"
   ]
  },
  {
   "cell_type": "code",
   "execution_count": 2,
   "id": "7abcc3d0-c556-4a2f-8288-a64e12867cb4",
   "metadata": {},
   "outputs": [
    {
     "name": "stdout",
     "output_type": "stream",
     "text": [
      "Welcome to JupyROOT 6.26/14\n"
     ]
    }
   ],
   "source": [
    "import scipy\n",
    "import copy as cp\n",
    "\n",
    "# ROOT\n",
    "import ROOT as root\n",
    "\n",
    "# Matplotlib\n",
    "import matplotlib.pyplot as plt\n",
    "from matplotlib import collections, colors, transforms\n",
    "\n",
    "%matplotlib inline\n",
    "%config InlineBackend.figure_format='retina'\n",
    "# %matplotlib widget\n",
    "\n",
    "import pprint"
   ]
  },
  {
   "cell_type": "code",
   "execution_count": 3,
   "id": "c013924c-83ed-49c9-9925-ad330eb75555",
   "metadata": {},
   "outputs": [
    {
     "data": {
      "text/plain": [
       "<module 'utilities' from '/home/owhgabri/My_GitHub/pyTracker/tracker/utilities.py'>"
      ]
     },
     "execution_count": 3,
     "metadata": {},
     "output_type": "execute_result"
    }
   ],
   "source": [
    "import kalmanfilter as KF\n",
    "import utilities as Util\n",
    "import trackfinder as TF\n",
    "import datatypes\n",
    "from datatypes import *\n",
    "\n",
    "reload(TF)\n",
    "reload(Util)"
   ]
  },
  {
   "cell_type": "markdown",
   "id": "8b844edf-a6ac-4490-9c42-a878e4a0cfa3",
   "metadata": {},
   "source": [
    "# Defining Useful Functions #"
   ]
  },
  {
   "cell_type": "code",
   "execution_count": 4,
   "id": "b355533b-e28b-42d7-be70-65cd01e4d171",
   "metadata": {},
   "outputs": [],
   "source": [
    "x_mod_starts = [-1950, -950, 50, 950, 1050]\n",
    "y_layer_starts = [8550, 8631.6, 9730, 9811.6, 9893.2, 9974.8, 10056.4, 10138]\n",
    "n_floors = 2\n",
    "z_mod_starts = [7000, 8000, 9000, 10000]\n",
    "z_wall_starts = [10900, 10981.6, 11063.2, 11144.8, 11226.4, 11308]\n",
    "back_top =  y_layer_starts[4]\n",
    "beam_dim = 10\n",
    "mod_length = 900\n",
    "front_wall_starts = [6895.8,6997.4]\n",
    "steel_height=3 # cm\n",
    "Box_IP_Depth=8547 # cm   \n",
    "c = 29.979\n",
    "\n",
    "wall_floor1 = (7000,8633.2)\n",
    "wall_floor2 = (7000,8551.6)\n",
    "wallMid1 = 6896.6\n",
    "wallMid2 = 6998.2\n",
    "floorMid1 = 8550.8\n",
    "floorMid2 = 8632.4\n",
    "\n",
    "IP = (0,0,0)\n",
    "\n",
    "y_bottoms = [8550, 8631.6]\n",
    "z_fronts = [6895.8, 6997.4]\n",
    "x_lims = (-1950, 1950)\n",
    "thickness = 1.6"
   ]
  },
  {
   "cell_type": "code",
   "execution_count": 5,
   "id": "04c3a6ea-7c69-4441-b6d6-4d3fddfc6bf2",
   "metadata": {},
   "outputs": [],
   "source": [
    "def SortByTime(points):\n",
    "    \"\"\"\n",
    "    Sorts list hits by time\n",
    "    A hit is of the form (x,y,z,t)\n",
    "    \"\"\"\n",
    "    if len(points) <= 1:\n",
    "        return points\n",
    "    pivot = points[len(points) // 2]\n",
    "    left = []\n",
    "    middle = []\n",
    "    right = []\n",
    "    for point in points:\n",
    "        if point[-1] < pivot[-1]:\n",
    "            left.append(point)\n",
    "        elif point[-1] > pivot[-1]:\n",
    "            right.append(point)\n",
    "        elif point[-1] == pivot[-1]:\n",
    "            middle.append(point)\n",
    "    return SortByTime(left) + middle + SortByTime(right)\n",
    "\n",
    "\n",
    "def ProjectionTime(track, points, layer):\n",
    "    \"\"\"\n",
    "    Takes a track and its SORTED list of points\n",
    "    closest is true if you want to check in the closest wall/floor,\n",
    "    false if you wanna check in the farther wall/floor\n",
    "    Returns the time at which the track is \n",
    "    projected to enter the wall or floor\n",
    "    Given point is (x,y,z,t)\n",
    "    \"\"\"\n",
    "    if layer == 0:# Walls\n",
    "        if track.Ay == 1: # Horizontal layer track \n",
    "            return track.At/track.Az*(wallMid1 - points[0][2]) + points[0][3]\n",
    "        else: # Vertical layer track\n",
    "            return track.At*(wallMid1 - points[0][2]) + points[0][3]\n",
    "    elif layer == 1:\n",
    "        if track.Ay == 1: # Horizontal layer track\n",
    "            return track.At/track.Az*(wallMid2 - points[0][2]) + points[0][3]\n",
    "        else: # Vertical layer track\n",
    "            return track.At*(wallMid2 - points[0][2]) + points[0][3]\n",
    "    elif layer == 2: # Floors\n",
    "        if track.Ay == 1: # Horizontal layer track\n",
    "            return track.At*(floorMid1 - points[0][1]) + points[0][3]\n",
    "        else: # Vertical layer track\n",
    "            return track.At/track.Ay*(floorMid1 - points[0][1]) + points[0][3]\n",
    "    elif layer == 3: \n",
    "        if track.Ay == 1: # Horizontal layer track\n",
    "            return track.At*(floorMid2 - points[0][1]) + points[0][3]\n",
    "        else: # Vertical layer track\n",
    "            return track.At/track.Ay*(floorMid2 - points[0][1]) + points[0][3]\n",
    "\n",
    "\n",
    "def ProjectionPoint(track, points, t):\n",
    "    \"\"\"\n",
    "    Returns where the track is projected to be at time t.\n",
    "    points is the list of hits from the track sorted by time\n",
    "    Returns an empty array if out of the detector\n",
    "    \"\"\"\n",
    "    if track.Ay == 1: #Horizontal layer track\n",
    "        xf = points[0][0] + track.Ax/track.At*(t - points[0][3])\n",
    "        yf = points[0][1] + 1/track.At * (t - points[0][3])\n",
    "        zf = points[0][2] + track.Az/track.At*(t - points[0][3])\n",
    "    else: # Vertical layer track \n",
    "        xf = points[0][0] + track.Ax/track.At*(t - points[0][3])\n",
    "        yf = points[0][1] + track.Ay/track.At * (t - points[0][3])\n",
    "        zf = points[0][2] + 1/track.At*(t - points[0][3])\n",
    "    return np.array((xf,yf,zf))\n",
    "\n",
    "\n",
    "def GetDistance(point1, point2):\n",
    "    \"\"\"\n",
    "    Get the distance between two points (x,y,z)\n",
    "    \"\"\"\n",
    "    return np.sqrt((point1[0]-point2[0])**2 + (point1[1]-point2[1])**2 + (point1[2]-point2[2])**2)\n",
    "\n",
    "\n",
    "def Ellipse(x, y, c1, c2, a, b):\n",
    "    \"\"\"\n",
    "    Returns whether (x,y) lies within the ellipse\n",
    "    \"\"\"\n",
    "    return (x-c1)**2/a**2 + (y-c2)**2/b**2\n",
    "\n",
    "\n",
    "def ConvertVelocity(track):\n",
    "    \"\"\"\n",
    "    Converts the velocity from either dk/dy or dk/dz\n",
    "    to dk/dt\n",
    "    \"\"\"\n",
    "    if track.Ay == 1: # Horizontal layer track\n",
    "        A_1x = track.Ax/track.At; A_1y = 1/track.At; A_1z = track.Az/track.At\n",
    "    else: # Vertical layer track\n",
    "        A_1x = track.Ax/track.At; A_1y = track.Ay/track.At; A_1z = 1/track.At\n",
    "    return np.array((A_1x, A_1y, A_1z))\n",
    "\n",
    "\n",
    "def MaxTracks(vertex, tracks):\n",
    "    \"\"\"\n",
    "    Get the track indices that have the largest angle of separation\n",
    "    \"\"\"\n",
    "    inds = None\n",
    "    min_angle = None\n",
    "    for i in range(len(vertex.tracks)):\n",
    "        ind_1 = vertex.tracks[i]\n",
    "        t1 = tracks[ind_1]\n",
    "        A1 = ConvertVelocity(t1)\n",
    "        for j in range(i + 1, len(vertex.tracks)):\n",
    "            ind_2 = vertex.tracks[j]\n",
    "            t2 = tracks[ind_2]\n",
    "            A2 = ConvertVelocity(t2)\n",
    "            angle = np.arccos(np.dot(A1, A2)/(np.linalg.norm(A1)*np.linalg.norm(A2)))\n",
    "            if min_angle is None or angle < min_angle:\n",
    "                min_angle = angle\n",
    "                inds = (ind_1, ind_2)\n",
    "    return inds\n",
    "\n",
    "\n",
    "def ClosestApproach(point, track):\n",
    "    \"\"\"\n",
    "    Gets the point at which the track is closest to point\n",
    "    \"\"\"\n",
    "    A = ConvertVelocity(track)\n",
    "    P_0 = np.array((track.x0, track.y0, track.z0))\n",
    "    t_c = np.dot((point - P_0), A)/np.linalg.norm(A)**2 + track.t0\n",
    "    return P_0 + A*(t_c - track.t0)\n",
    "\n",
    "\n",
    "def EllipseAngle(p1, p2):\n",
    "    \"\"\"\n",
    "    Get the angle of the ellipse. This is always with \n",
    "    respect to the x axis\n",
    "    \"\"\"\n",
    "    if p1[1] - p2[1] < 0.001: # Floor\n",
    "        dz = p2[2] - p1[2]; dx = p2[0] - p1[0]\n",
    "        slope = dz/dx\n",
    "        angle = np.arctan(dz/dx)\n",
    "    else: # Wall\n",
    "        dy = p2[1] - p1[1]; dx = p2[0] - p1[0]\n",
    "        slope = dy/dx\n",
    "        angle = np.arctan(dy/dx)        \n",
    "    return angle\n",
    "        \n",
    "\n",
    "def GetEllipse(vertex, tracks, layer):\n",
    "    \"\"\"\n",
    "    Gets the center of the backwards cone of the vertex\n",
    "    \"\"\"\n",
    "    \n",
    "    ind_1, ind_2 = MaxTracks(vertex, tracks)\n",
    "    t1 = tracks[ind_1]; t2 = tracks[ind_2]\n",
    "    t1Points = SortByTime(t1.hits_filtered); t2Points = SortByTime(t2.hits_filtered)\n",
    "    time1 = ProjectionTime(t1, t1Points, layer); time2 = ProjectionTime(t2, t2Points, layer)\n",
    "    p1 = ProjectionPoint(t1, t1Points, time1); p2 = ProjectionPoint(t2, t2Points, time2)\n",
    "    midpoint = (p1 + p2)/2\n",
    "    c1 = midpoint[0]\n",
    "    if layer < 2: # Wall\n",
    "        c2 = midpoint[1]\n",
    "        a = GetDistance(p1, midpoint) # Axis 1\n",
    "        b = GetDistance(ClosestApproach(midpoint, t1), midpoint) # Axis 2\n",
    "        angle = EllipseAngle(p1, p2)\n",
    "        def Ellipse(x, y):\n",
    "            \"\"\"\n",
    "            Returns whether (x,y) lies within the ellipse\n",
    "            \"\"\"\n",
    "            x_p = (x-c1)*np.cos(angle) + (y-c2)*np.sin(angle)\n",
    "            y_p = (y-c2)*np.cos(angle) - (x-c1)*np.sin(angle)\n",
    "            return ((x_p)**2/a**2 + (y_p)**2/b**2) <= 1\n",
    "    else: # Floor\n",
    "        c2 = midpoint[2]\n",
    "        a = GetDistance(p1, midpoint) # Axis 1\n",
    "        b = GetDistance(ClosestApproach(midpoint, t1), midpoint) # Axis 2\n",
    "        angle = EllipseAngle(p1, p2)\n",
    "        def Ellipse(x, z):\n",
    "            \"\"\"\n",
    "            Returns whether (x,z) lies within the ellipse\n",
    "            \"\"\"\n",
    "            x_p = (x-c1)*np.cos(angle) + (z-c2)*np.sin(angle)\n",
    "            z_p = (z-c2)*np.cos(angle) - (x-c1)*np.sin(angle)\n",
    "            return ((x_p)**2/a**2 + (z_p)**2/b**2) <= 1\n",
    "    return Ellipse\n",
    "        \n",
    "def Ellipses(vertex, tracks):\n",
    "    \"\"\"\n",
    "    Gets the Ellipses for each layer\n",
    "    \"\"\"\n",
    "    ells = []\n",
    "    for i in range(len(y_bottoms) + len(z_fronts)):\n",
    "        ells.append(GetEllipse(vertex,tracks,i))\n",
    "    return ells\n"
   ]
  },
  {
   "cell_type": "markdown",
   "id": "ebf0c69e-ab10-4806-a867-a3e8a40cb0da",
   "metadata": {},
   "source": [
    "# Background #"
   ]
  },
  {
   "cell_type": "code",
   "execution_count": 6,
   "id": "da001eef-6b02-427c-8f56-bd5041d565cb",
   "metadata": {},
   "outputs": [
    {
     "name": "stdout",
     "output_type": "stream",
     "text": [
      "187\n"
     ]
    }
   ],
   "source": [
    "data_top_dir = f\"/home/owhgabri/My_GitHub/data/Reconstruction/10xCosmicBackground\"\n",
    "pathList=[]\n",
    "\n",
    "for rootFile, dirs, files in os.walk(data_top_dir):\n",
    "    for filename in files:\n",
    "        if \".pkl\" in filename:\n",
    "            pathList.append(os.path.join(rootFile, filename))\n",
    "\n",
    "\n",
    "print(len(pathList))"
   ]
  },
  {
   "cell_type": "markdown",
   "id": "097dba88-aa2c-4ffd-9074-5afa3a60d1ad",
   "metadata": {},
   "source": [
    "## Survival Rate: Vertex Level ##"
   ]
  },
  {
   "cell_type": "code",
   "execution_count": 7,
   "id": "caae4cb6-7c4b-449c-81aa-09d287e44a8c",
   "metadata": {},
   "outputs": [
    {
     "name": "stdout",
     "output_type": "stream",
     "text": [
      "number of vertices: 4389\n",
      "number vetoed: 2628\n"
     ]
    }
   ],
   "source": [
    "n_vetoed = 0\n",
    "nVertices = 0\n",
    "for f in pathList:\n",
    "    events=joblib.load(f)\n",
    "    file_hits = events[\"hits\"]\n",
    "    file_tracks = events[\"tracks\"]\n",
    "    file_vertices = events[\"vertices\"]\n",
    "    for i in range(len(file_hits)):\n",
    "        hits= file_hits[i]\n",
    "        tracks = file_tracks[i]\n",
    "        vertices = file_vertices[i]\n",
    "        if len(vertices) == 0:\n",
    "            continue\n",
    "        nVertices += len(vertices)\n",
    "        wf_hits = []\n",
    "        for hit in hits:\n",
    "            if hit.layer < 4:\n",
    "                wf_hits.append(hit)\n",
    "        if len(wf_hits) == 0:\n",
    "            continue\n",
    "        for vertex in vertices:\n",
    "            layer_ells = Ellipses(vertex, tracks)\n",
    "            for hit in wf_hits:\n",
    "                layer = hit.layer\n",
    "                if hit.layer < 2 and layer_ells[layer](hit.x, hit.y): # Wall\n",
    "                    n_vetoed +=1\n",
    "                    break\n",
    "                elif layer_ells[layer](hit.x,hit.z): # Floor\n",
    "                    n_vetoed +=1\n",
    "                    break\n",
    "print(\"number of vertices:\", nVertices)\n",
    "print(\"number vetoed:\", n_vetoed)"
   ]
  },
  {
   "cell_type": "markdown",
   "id": "ca06abac-d5bf-4208-bdfd-965c4d09594e",
   "metadata": {},
   "source": [
    "## Survival Rate: Event Level ##"
   ]
  },
  {
   "cell_type": "code",
   "execution_count": 8,
   "id": "5fe2f182-7e73-49ae-a8bb-beceec684315",
   "metadata": {},
   "outputs": [
    {
     "name": "stdout",
     "output_type": "stream",
     "text": [
      "number of vertices: 3686\n",
      "number vetoed: 1455\n"
     ]
    }
   ],
   "source": [
    "n_survived = 0\n",
    "nEvents = 0\n",
    "for f in pathList:\n",
    "    events=joblib.load(f)\n",
    "    file_hits = events[\"hits\"]\n",
    "    file_tracks = events[\"tracks\"]\n",
    "    file_vertices = events[\"vertices\"]\n",
    "    for i in range(len(file_hits)):\n",
    "        hits= file_hits[i]\n",
    "        tracks = file_tracks[i]\n",
    "        vertices = file_vertices[i]\n",
    "        if len(vertices) == 0:\n",
    "            continue\n",
    "        nEvents += 1\n",
    "        wf_hits = []\n",
    "        for hit in hits:\n",
    "            if hit.layer < 4:\n",
    "                wf_hits.append(hit)\n",
    "        survived = True\n",
    "        for vertex in vertices:\n",
    "            layer_ells = Ellipses(vertex, tracks)\n",
    "            for hit in wf_hits:\n",
    "                layer = hit.layer\n",
    "                if hit.layer < 2 and layer_ells[layer](hit.x, hit.y): # Wall\n",
    "                    survived = False\n",
    "                    break\n",
    "                elif layer_ells[layer](hit.x,hit.z): # Floor\n",
    "                    survived = False\n",
    "                    break\n",
    "        if survived:\n",
    "            n_survived += 1\n",
    "            \n",
    "print(\"number of Events:\", nEvents)\n",
    "print(\"number surviving:\", n_survived)"
   ]
  },
  {
   "cell_type": "markdown",
   "id": "bfbb8369-4158-4132-97d4-3a8f1e0e1b62",
   "metadata": {},
   "source": [
    "# Signal #"
   ]
  },
  {
   "cell_type": "code",
   "execution_count": 11,
   "id": "830897ed-16ec-4bae-976b-1f9f40229262",
   "metadata": {},
   "outputs": [
    {
     "name": "stdout",
     "output_type": "stream",
     "text": [
      "5\n"
     ]
    }
   ],
   "source": [
    "data_top_dir = f\"/home/owhgabri/My_GitHub/data/Reconstruction/LLP\"\n",
    "pathList=[]\n",
    "\n",
    "for rootFile, dirs, files in os.walk(data_top_dir):\n",
    "    for filename in files:\n",
    "        if \".pkl\" in filename:\n",
    "            pathList.append(os.path.join(rootFile, filename))\n",
    "\n",
    "\n",
    "print(len(pathList))"
   ]
  },
  {
   "cell_type": "markdown",
   "id": "38c59fad-4b4b-4704-9219-983c86f0abd0",
   "metadata": {},
   "source": [
    "## Survival Rate: Vertex Level ##"
   ]
  },
  {
   "cell_type": "code",
   "execution_count": 9,
   "id": "49e36fae-f462-4332-8774-b7f48dddaf82",
   "metadata": {},
   "outputs": [
    {
     "ename": "KeyboardInterrupt",
     "evalue": "",
     "output_type": "error",
     "traceback": [
      "\u001b[0;31m---------------------------------------------------------------------------\u001b[0m",
      "\u001b[0;31mKeyboardInterrupt\u001b[0m                         Traceback (most recent call last)",
      "Cell \u001b[0;32mIn[9], line 4\u001b[0m\n\u001b[1;32m      2\u001b[0m nVertices \u001b[38;5;241m=\u001b[39m \u001b[38;5;241m0\u001b[39m\n\u001b[1;32m      3\u001b[0m \u001b[38;5;28;01mfor\u001b[39;00m f \u001b[38;5;129;01min\u001b[39;00m pathList:\n\u001b[0;32m----> 4\u001b[0m     events\u001b[38;5;241m=\u001b[39m\u001b[43mjoblib\u001b[49m\u001b[38;5;241;43m.\u001b[39;49m\u001b[43mload\u001b[49m\u001b[43m(\u001b[49m\u001b[43mf\u001b[49m\u001b[43m)\u001b[49m\n\u001b[1;32m      5\u001b[0m     file_hits \u001b[38;5;241m=\u001b[39m events[\u001b[38;5;124m\"\u001b[39m\u001b[38;5;124mhits\u001b[39m\u001b[38;5;124m\"\u001b[39m]\n\u001b[1;32m      6\u001b[0m     file_tracks \u001b[38;5;241m=\u001b[39m events[\u001b[38;5;124m\"\u001b[39m\u001b[38;5;124mtracks\u001b[39m\u001b[38;5;124m\"\u001b[39m]\n",
      "File \u001b[0;32m~/environments/mathusla/lib/python3.8/site-packages/joblib/numpy_pickle.py:658\u001b[0m, in \u001b[0;36mload\u001b[0;34m(filename, mmap_mode)\u001b[0m\n\u001b[1;32m    652\u001b[0m             \u001b[38;5;28;01mif\u001b[39;00m \u001b[38;5;28misinstance\u001b[39m(fobj, \u001b[38;5;28mstr\u001b[39m):\n\u001b[1;32m    653\u001b[0m                 \u001b[38;5;66;03m# if the returned file object is a string, this means we\u001b[39;00m\n\u001b[1;32m    654\u001b[0m                 \u001b[38;5;66;03m# try to load a pickle file generated with an version of\u001b[39;00m\n\u001b[1;32m    655\u001b[0m                 \u001b[38;5;66;03m# Joblib so we load it with joblib compatibility function.\u001b[39;00m\n\u001b[1;32m    656\u001b[0m                 \u001b[38;5;28;01mreturn\u001b[39;00m load_compatibility(fobj)\n\u001b[0;32m--> 658\u001b[0m             obj \u001b[38;5;241m=\u001b[39m \u001b[43m_unpickle\u001b[49m\u001b[43m(\u001b[49m\u001b[43mfobj\u001b[49m\u001b[43m,\u001b[49m\u001b[43m \u001b[49m\u001b[43mfilename\u001b[49m\u001b[43m,\u001b[49m\u001b[43m \u001b[49m\u001b[43mmmap_mode\u001b[49m\u001b[43m)\u001b[49m\n\u001b[1;32m    659\u001b[0m \u001b[38;5;28;01mreturn\u001b[39;00m obj\n",
      "File \u001b[0;32m~/environments/mathusla/lib/python3.8/site-packages/joblib/numpy_pickle.py:577\u001b[0m, in \u001b[0;36m_unpickle\u001b[0;34m(fobj, filename, mmap_mode)\u001b[0m\n\u001b[1;32m    575\u001b[0m obj \u001b[38;5;241m=\u001b[39m \u001b[38;5;28;01mNone\u001b[39;00m\n\u001b[1;32m    576\u001b[0m \u001b[38;5;28;01mtry\u001b[39;00m:\n\u001b[0;32m--> 577\u001b[0m     obj \u001b[38;5;241m=\u001b[39m \u001b[43munpickler\u001b[49m\u001b[38;5;241;43m.\u001b[39;49m\u001b[43mload\u001b[49m\u001b[43m(\u001b[49m\u001b[43m)\u001b[49m\n\u001b[1;32m    578\u001b[0m     \u001b[38;5;28;01mif\u001b[39;00m unpickler\u001b[38;5;241m.\u001b[39mcompat_mode:\n\u001b[1;32m    579\u001b[0m         warnings\u001b[38;5;241m.\u001b[39mwarn(\u001b[38;5;124m\"\u001b[39m\u001b[38;5;124mThe file \u001b[39m\u001b[38;5;124m'\u001b[39m\u001b[38;5;132;01m%s\u001b[39;00m\u001b[38;5;124m'\u001b[39m\u001b[38;5;124m has been generated with a \u001b[39m\u001b[38;5;124m\"\u001b[39m\n\u001b[1;32m    580\u001b[0m                       \u001b[38;5;124m\"\u001b[39m\u001b[38;5;124mjoblib version less than 0.10. \u001b[39m\u001b[38;5;124m\"\u001b[39m\n\u001b[1;32m    581\u001b[0m                       \u001b[38;5;124m\"\u001b[39m\u001b[38;5;124mPlease regenerate this pickle file.\u001b[39m\u001b[38;5;124m\"\u001b[39m\n\u001b[1;32m    582\u001b[0m                       \u001b[38;5;241m%\u001b[39m filename,\n\u001b[1;32m    583\u001b[0m                       \u001b[38;5;167;01mDeprecationWarning\u001b[39;00m, stacklevel\u001b[38;5;241m=\u001b[39m\u001b[38;5;241m3\u001b[39m)\n",
      "File \u001b[0;32m/usr/lib/python3.8/pickle.py:1212\u001b[0m, in \u001b[0;36m_Unpickler.load\u001b[0;34m(self)\u001b[0m\n\u001b[1;32m   1210\u001b[0m             \u001b[38;5;28;01mraise\u001b[39;00m \u001b[38;5;167;01mEOFError\u001b[39;00m\n\u001b[1;32m   1211\u001b[0m         \u001b[38;5;28;01massert\u001b[39;00m \u001b[38;5;28misinstance\u001b[39m(key, bytes_types)\n\u001b[0;32m-> 1212\u001b[0m         \u001b[43mdispatch\u001b[49m\u001b[43m[\u001b[49m\u001b[43mkey\u001b[49m\u001b[43m[\u001b[49m\u001b[38;5;241;43m0\u001b[39;49m\u001b[43m]\u001b[49m\u001b[43m]\u001b[49m\u001b[43m(\u001b[49m\u001b[38;5;28;43mself\u001b[39;49m\u001b[43m)\u001b[49m\n\u001b[1;32m   1213\u001b[0m \u001b[38;5;28;01mexcept\u001b[39;00m _Stop \u001b[38;5;28;01mas\u001b[39;00m stopinst:\n\u001b[1;32m   1214\u001b[0m     \u001b[38;5;28;01mreturn\u001b[39;00m stopinst\u001b[38;5;241m.\u001b[39mvalue\n",
      "File \u001b[0;32m/usr/lib/python3.8/pickle.py:1284\u001b[0m, in \u001b[0;36m_Unpickler.load_binint1\u001b[0;34m(self)\u001b[0m\n\u001b[1;32m   1283\u001b[0m \u001b[38;5;28;01mdef\u001b[39;00m \u001b[38;5;21mload_binint1\u001b[39m(\u001b[38;5;28mself\u001b[39m):\n\u001b[0;32m-> 1284\u001b[0m     \u001b[38;5;28mself\u001b[39m\u001b[38;5;241m.\u001b[39mappend(\u001b[38;5;28;43mself\u001b[39;49m\u001b[38;5;241;43m.\u001b[39;49m\u001b[43mread\u001b[49m\u001b[43m(\u001b[49m\u001b[38;5;241;43m1\u001b[39;49m\u001b[43m)\u001b[49m[\u001b[38;5;241m0\u001b[39m])\n",
      "\u001b[0;31mKeyboardInterrupt\u001b[0m: "
     ]
    }
   ],
   "source": [
    "n_vetoed = 0\n",
    "nVertices = 0\n",
    "for f in pathList:\n",
    "    events=joblib.load(f)\n",
    "    file_hits = events[\"hits\"]\n",
    "    file_tracks = events[\"tracks\"]\n",
    "    file_vertices = events[\"vertices\"]\n",
    "    for i in range(len(file_hits)):\n",
    "        hits= file_hits[i]\n",
    "        tracks = file_tracks[i]\n",
    "        vertices = file_vertices[i]\n",
    "        if len(vertices) == 0:\n",
    "            continue\n",
    "        nVertices += len(vertices)\n",
    "        wf_hits = []\n",
    "        for hit in hits:\n",
    "            if hit.layer < 4:\n",
    "                wf_hits.append(hit)\n",
    "        if len(wf_hits) == 0:\n",
    "            continue\n",
    "        for vertex in vertices:\n",
    "            layer_ells = Ellipses(vertex, tracks)\n",
    "            for hit in wf_hits:\n",
    "                layer = hit.layer\n",
    "                if hit.layer < 2 and layer_ells[layer](hit.x, hit.y): # Wall\n",
    "                    n_vetoed +=1\n",
    "                    break\n",
    "                elif layer_ells[layer](hit.x,hit.z): # Floor\n",
    "                    n_vetoed +=1\n",
    "                    break\n",
    "print(\"number of vertices:\", nVertices)\n",
    "print(\"number vetoed:\",n_vetoed)"
   ]
  },
  {
   "cell_type": "markdown",
   "id": "91f2e535-7e7c-4eb6-875d-670b8d31cf7a",
   "metadata": {},
   "source": [
    "## Survival Rate: Event Level ##"
   ]
  },
  {
   "cell_type": "code",
   "execution_count": 12,
   "id": "7edddc5c-3d95-4d4f-94c8-32ffc016c9d7",
   "metadata": {},
   "outputs": [
    {
     "name": "stdout",
     "output_type": "stream",
     "text": [
      "number of vertices: 46153\n",
      "number vetoed: 25096\n"
     ]
    }
   ],
   "source": [
    "n_survived = 0\n",
    "nEvents = 0\n",
    "for f in pathList:\n",
    "    events=joblib.load(f)\n",
    "    file_hits = events[\"hits\"]\n",
    "    file_tracks = events[\"tracks\"]\n",
    "    file_vertices = events[\"vertices\"]\n",
    "    for i in range(len(file_hits)):\n",
    "        hits= file_hits[i]\n",
    "        tracks = file_tracks[i]\n",
    "        vertices = file_vertices[i]\n",
    "        if len(vertices) == 0:\n",
    "            continue\n",
    "        nEvents += 1\n",
    "        wf_hits = []\n",
    "        for hit in hits:\n",
    "            if hit.layer < 4:\n",
    "                wf_hits.append(hit)\n",
    "        survived = True\n",
    "        for vertex in vertices:\n",
    "            layer_ells = Ellipses(vertex, tracks)\n",
    "            for hit in wf_hits:\n",
    "                layer = hit.layer\n",
    "                if hit.layer < 2 and layer_ells[layer](hit.x, hit.y): # Wall\n",
    "                    survived = False\n",
    "                    break\n",
    "                elif layer_ells[layer](hit.x,hit.z): # Floor\n",
    "                    survived = False\n",
    "                    break\n",
    "        if survived:\n",
    "            n_survived += 1\n",
    "            \n",
    "print(\"number of Events:\", nEvents)\n",
    "print(\"number surviving:\", n_survived)"
   ]
  },
  {
   "cell_type": "code",
   "execution_count": null,
   "id": "8b1331b5-1fac-44ca-854c-21e0d2176974",
   "metadata": {},
   "outputs": [],
   "source": []
  }
 ],
 "metadata": {
  "kernelspec": {
   "display_name": "Python 3 (ipykernel)",
   "language": "python",
   "name": "python3"
  },
  "language_info": {
   "codemirror_mode": {
    "name": "ipython",
    "version": 3
   },
   "file_extension": ".py",
   "mimetype": "text/x-python",
   "name": "python",
   "nbconvert_exporter": "python",
   "pygments_lexer": "ipython3",
   "version": "3.8.10"
  }
 },
 "nbformat": 4,
 "nbformat_minor": 5
}
