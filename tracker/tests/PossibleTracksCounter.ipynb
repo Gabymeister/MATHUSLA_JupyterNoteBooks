{
 "cells": [
  {
   "cell_type": "code",
   "execution_count": 1,
   "id": "4ca130c3-ea4d-4dc9-a8de-08b852000910",
   "metadata": {},
   "outputs": [
    {
     "name": "stdout",
     "output_type": "stream",
     "text": [
      "Welcome to JupyROOT 6.26/14\n"
     ]
    }
   ],
   "source": [
    "#!/usr/bin/env python\n",
    "# import analyzer\n",
    "import importlib\n",
    "from importlib import reload\n",
    "import os, sys, glob, warnings, glob\n",
    "import scipy\n",
    "import numpy as np\n",
    "import scipy as sp\n",
    "import joblib\n",
    "# from tqdm.notebook import tqdm\n",
    "from tqdm import tqdm\n",
    "import copy as cp\n",
    "\n",
    "# ROOT\n",
    "import ROOT as root\n",
    "\n",
    "# Matplotlib\n",
    "import matplotlib.pyplot as plt\n",
    "from matplotlib import collections, colors, transforms\n",
    "\n",
    "from pylab import *\n",
    "%matplotlib inline\n",
    "%config InlineBackend.figure_format='retina'"
   ]
  },
  {
   "cell_type": "code",
   "execution_count": 2,
   "id": "ed4d09ea-a1c7-44e0-b869-31346d1c7938",
   "metadata": {},
   "outputs": [
    {
     "name": "stdout",
     "output_type": "stream",
     "text": [
      "347\n",
      "['NumHits', 'Hit_energy', 'Hit_time', 'Hit_Center1', 'Hit_Center2', 'Hit_bar_direction', 'Hit_layer_direction', 'Hit_LayerID', 'Hit_particlePdgId', 'Hit_G4TrackId', 'Hit_G4ParentTrackId', 'Hit_x', 'Hit_y', 'Hit_z', 'Hit_particleEnergy', 'Hit_particlePx', 'Hit_particlePy', 'Hit_particlePz', 'Hit_type', 'Digi_numHits', 'Digi_time', 'Digi_x', 'Digi_y', 'Digi_z', 'Digi_energy', 'Digi_px', 'Digi_py', 'Digi_pz', 'Digi_particle_energy', 'Digi_pdg_id', 'Digi_track_id', 'Digi_type', 'Digi_center1', 'Digi_center2', 'Digi_bar_direction', 'Digi_layer_direction', 'Digi_layer_id', 'Digi_det_id', 'Digi_seed', 'Digi_hitIndices', 'GenParticle_index', 'GenParticle_G4index', 'GenParticle_pdgid', 'GenParticle_time', 'GenParticle_x', 'GenParticle_y', 'GenParticle_z', 'GenParticle_energy', 'GenParticle_px', 'GenParticle_py', 'GenParticle_pz', 'GenParticle_mass']\n"
     ]
    }
   ],
   "source": [
    "# Using all files, rather than just one \n",
    "# data_top_dir = f\"/home/owhgabri/My_GitHub/data/DigiOutput/1xCosmicBackground\"\n",
    "data_top_dir = f\"/home/owhgabri/My_GitHub/data/DigiOutput/LLP_bb\"\n",
    "pathList=[]\n",
    "\n",
    "for rootFile, dirs, files in os.walk(data_top_dir):\n",
    "    for filename in files:\n",
    "        if \"stat0\" in filename:\n",
    "            pathList.append(os.path.join(rootFile, filename))\n",
    "\n",
    "dataFile = f\"/home/owhgabri/My_GitHub/data/DigiOutput/0xCosmicBackground/24/0/stat0.root\"\n",
    "\n",
    "tfile = root.TFile.Open(dataFile, \"READ\")\n",
    "Tree = tfile.Get(\"integral_tree\")\n",
    "\n",
    "branches = Tree.GetListOfBranches()\n",
    "nevents = int(Tree.GetEntries())\n",
    "branch_list = [branches[i].GetName() for i in range(len(branches))]\n",
    "\n",
    "print(nevents)\n",
    "print(branch_list)"
   ]
  },
  {
   "cell_type": "code",
   "execution_count": 3,
   "id": "ddbb7220-0b82-4db0-869b-cf7fcc8beabf",
   "metadata": {},
   "outputs": [
    {
     "name": "stdout",
     "output_type": "stream",
     "text": [
      "Total number of muons with hits in sensitive detector: 142552\n",
      "Maximum number of possible tracks: 757361\n"
     ]
    }
   ],
   "source": [
    "nPossible = 0\n",
    "nTotalMuons = 0\n",
    "for f in pathList:\n",
    "    tfile = root.TFile.Open(f, \"READ\")\n",
    "    Tree = tfile.Get(\"integral_tree\")\n",
    "    nevents = int(Tree.GetEntries())\n",
    "    for i in range(nevents):\n",
    "        Tree.GetEntry(i)\n",
    "        curr = 0\n",
    "        tracks_used = []\n",
    "        for j in range(len(Tree.Digi_track_id)):\n",
    "            if (Tree.Digi_track_id[j] not in tracks_used) and (Tree.Digi_layer_id[j] >=4 and Tree.Digi_type[j] != 2):\n",
    "                trackId = Tree.Digi_track_id[j]\n",
    "                tracks_used.append(trackId)\n",
    "                if abs(Tree.Digi_pdg_id[j]) == 13:\n",
    "                    nTotalMuons +=1\n",
    "                layers_used = [Tree.Digi_layer_id]\n",
    "                for k in range(len(Tree.Digi_track_id)):\n",
    "                    if Tree.Digi_layer_id[k] not in layers_used and Tree.Digi_layer_id[k] >=4 and Tree.Digi_track_id[k] == trackId:\n",
    "                    # if Tree.Digi_layer_id[k] not in layers_used and Tree.Digi_layer_id[k] >=4 and Tree.Digi_layer_id[k] <= 7:\n",
    "                        layers_used.append(Tree.Digi_layer_id[k])\n",
    "                if len(layers_used) >=3:\n",
    "                    nPossible += 1\n",
    "print(\"Total number of muons with hits in sensitive detector:\", nTotalMuons)\n",
    "print(\"Maximum number of possible tracks:\", nPossible)\n",
    "                    "
   ]
  },
  {
   "cell_type": "code",
   "execution_count": null,
   "id": "b2da13c1-4e90-478b-be27-12c152ad89b4",
   "metadata": {},
   "outputs": [],
   "source": []
  }
 ],
 "metadata": {
  "kernelspec": {
   "display_name": "Python 3 (ipykernel)",
   "language": "python",
   "name": "python3"
  },
  "language_info": {
   "codemirror_mode": {
    "name": "ipython",
    "version": 3
   },
   "file_extension": ".py",
   "mimetype": "text/x-python",
   "name": "python",
   "nbconvert_exporter": "python",
   "pygments_lexer": "ipython3",
   "version": "3.8.10"
  }
 },
 "nbformat": 4,
 "nbformat_minor": 5
}
