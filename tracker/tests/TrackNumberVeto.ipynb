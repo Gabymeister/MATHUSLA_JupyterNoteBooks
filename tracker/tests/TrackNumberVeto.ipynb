{
 "cells": [
  {
   "cell_type": "code",
   "execution_count": 3,
   "id": "b961d205-9d5d-42c9-9689-61b8595c43da",
   "metadata": {},
   "outputs": [
    {
     "name": "stdout",
     "output_type": "stream",
     "text": [
      "/home/owhgabri/My_GitHub/pyTracker\n",
      "1.4.2\n"
     ]
    }
   ],
   "source": [
    "try:\n",
    "    from tqdm import tqdm\n",
    "except ImportError:\n",
    "    def tqdm(iterator, *args, **kwargs):\n",
    "        return iterator\n",
    "import os, sys, glob, warnings, glob    \n",
    "import numpy as np\n",
    "import scipy as sp\n",
    "from scipy import constants\n",
    "from pylab import *\n",
    "import joblib\n",
    "import importlib\n",
    "from importlib import reload\n",
    "sys.path.append(\"/home/owhgabri/My_GitHub/pyTracker/tracker\")\n",
    "sys.path.insert(1, \"/home/owhgabri/My_GitHub/pyTracker/tracker\")\n",
    "os.chdir('/home/owhgabri/My_GitHub/pyTracker')\n",
    "print(os.getcwd())\n",
    "print(joblib.__version__)"
   ]
  },
  {
   "cell_type": "code",
   "execution_count": 4,
   "id": "135afa51-a319-4650-a831-d2819cc38876",
   "metadata": {},
   "outputs": [
    {
     "name": "stdout",
     "output_type": "stream",
     "text": [
      "Welcome to JupyROOT 6.26/14\n"
     ]
    }
   ],
   "source": [
    "import scipy\n",
    "import copy as cp\n",
    "\n",
    "# ROOT\n",
    "import ROOT as root\n",
    "\n",
    "# Matplotlib\n",
    "import matplotlib.pyplot as plt\n",
    "from matplotlib import collections, colors, transforms\n",
    "\n",
    "%matplotlib inline\n",
    "%config InlineBackend.figure_format='retina'\n",
    "# %matplotlib widget\n",
    "\n",
    "import pprint"
   ]
  },
  {
   "cell_type": "code",
   "execution_count": 5,
   "id": "5821843b-9a8f-4ef3-9dbe-a46fce2eca9e",
   "metadata": {},
   "outputs": [
    {
     "data": {
      "text/plain": [
       "<module 'utilities' from '/home/owhgabri/My_GitHub/pyTracker/tracker/utilities.py'>"
      ]
     },
     "execution_count": 5,
     "metadata": {},
     "output_type": "execute_result"
    }
   ],
   "source": [
    "import kalmanfilter as KF\n",
    "import utilities as Util\n",
    "import trackfinder as TF\n",
    "import datatypes\n",
    "from datatypes import *\n",
    "\n",
    "reload(TF)\n",
    "reload(Util)"
   ]
  },
  {
   "cell_type": "markdown",
   "id": "63a5b407-474f-4d4b-90fb-007e86b82402",
   "metadata": {},
   "source": [
    "# Useful Functions #"
   ]
  },
  {
   "cell_type": "code",
   "execution_count": 6,
   "id": "85ba6b91-31ef-4c41-9e4a-612ba65e73be",
   "metadata": {},
   "outputs": [],
   "source": [
    "def TrackNumberVeto(vertex, n):\n",
    "    \"\"\"\n",
    "    Returns True if the vertex has at least n tracks\n",
    "    \"\"\"\n",
    "    if len(vertex.tracks) >= n:\n",
    "        return True\n",
    "    return False\n",
    "        "
   ]
  },
  {
   "cell_type": "markdown",
   "id": "78aea0b8-7e98-401c-ae7a-71af60715eb0",
   "metadata": {},
   "source": [
    "# Background #"
   ]
  },
  {
   "cell_type": "code",
   "execution_count": 7,
   "id": "d9b1f348-c6dc-4185-a581-b32ba2717109",
   "metadata": {},
   "outputs": [
    {
     "name": "stdout",
     "output_type": "stream",
     "text": [
      "187\n"
     ]
    }
   ],
   "source": [
    "data_top_dir = f\"/home/owhgabri/My_GitHub/data/Reconstruction/10xCosmicBackground\"\n",
    "pathList=[]\n",
    "\n",
    "for rootFile, dirs, files in os.walk(data_top_dir):\n",
    "    for filename in files:\n",
    "        if \".pkl\" in filename:\n",
    "            pathList.append(os.path.join(rootFile, filename))\n",
    "\n",
    "\n",
    "print(len(pathList))"
   ]
  },
  {
   "cell_type": "markdown",
   "id": "22a7363c-bbc5-47aa-84e6-974048128487",
   "metadata": {},
   "source": [
    "## Survival Rate (Event Level) ## "
   ]
  },
  {
   "cell_type": "code",
   "execution_count": 14,
   "id": "3985d41a-450f-4fe3-bbf0-8106381a211f",
   "metadata": {},
   "outputs": [
    {
     "name": "stdout",
     "output_type": "stream",
     "text": [
      "Number of events: 3686\n",
      "Fraction Surviving if requiring 2 tracks 1.0\n",
      "Fraction Surviving if requiring 3 tracks 0.025230602278893066\n",
      "Fraction Surviving if requiring 4 tracks 0.0\n"
     ]
    }
   ],
   "source": [
    "nEvents = 0\n",
    "nTracks = [2, 3, 4]\n",
    "nVetoed = []\n",
    "for n in nTracks:\n",
    "    nVetoed.append(0)\n",
    "    \n",
    "for f in pathList:\n",
    "    events=joblib.load(f)\n",
    "    file_vertices = events[\"vertices\"]\n",
    "    for i in range(len(file_vertices)):\n",
    "        vertices = file_vertices[i]\n",
    "        if len(vertices) == 0:\n",
    "            continue\n",
    "        nEvents += 1\n",
    "        survived = True\n",
    "        for vertex in vertices:\n",
    "            for j in range(len(nTracks)):\n",
    "                if not TrackNumberVeto(vertex, nTracks[j]):\n",
    "                    nVetoed[j] += 1\n",
    "                    survived = False\n",
    "            if not survived:\n",
    "                break\n",
    "\n",
    "print(\"Number of events:\", nEvents)\n",
    "for i in range(len(nTracks)):\n",
    "    print(\"Fraction Surviving if requiring \" + str(nTracks[i]) + \" tracks\", 1-nVetoed[i]/nEvents)\n"
   ]
  },
  {
   "cell_type": "markdown",
   "id": "98f54577-9b7f-435c-94da-a86cf1e6188d",
   "metadata": {},
   "source": [
    "# Signal #"
   ]
  },
  {
   "cell_type": "code",
   "execution_count": 15,
   "id": "78fbe38a-86b7-4539-96b3-efd421b12037",
   "metadata": {},
   "outputs": [
    {
     "name": "stdout",
     "output_type": "stream",
     "text": [
      "5\n"
     ]
    }
   ],
   "source": [
    "data_top_dir = f\"/home/owhgabri/My_GitHub/data/Reconstruction/LLP\"\n",
    "pathList=[]\n",
    "\n",
    "for rootFile, dirs, files in os.walk(data_top_dir):\n",
    "    for filename in files:\n",
    "        if \".pkl\" in filename:\n",
    "            pathList.append(os.path.join(rootFile, filename))\n",
    "\n",
    "\n",
    "print(len(pathList))"
   ]
  },
  {
   "cell_type": "markdown",
   "id": "7950eaaf-3d26-4cf1-afb5-23a5c3b43a09",
   "metadata": {},
   "source": [
    "## Survival Rate (Event Level) ## "
   ]
  },
  {
   "cell_type": "code",
   "execution_count": 17,
   "id": "8e9714c2-6e64-4ace-adc6-1ac35bf86dde",
   "metadata": {},
   "outputs": [
    {
     "name": "stdout",
     "output_type": "stream",
     "text": [
      "Number of events: 46153\n",
      "Fraction Surviving if requiring 0 tracks 1.0\n",
      "Fraction Surviving if requiring 1 tracks 0.3974172859835764\n",
      "Fraction Surviving if requiring 2 tracks 0.13346911360041602\n"
     ]
    }
   ],
   "source": [
    "nEvents = 0\n",
    "nTracks = [2, 3, 4]\n",
    "nVetoed = []\n",
    "for n in nTracks:\n",
    "    nVetoed.append(0)\n",
    "    \n",
    "for f in pathList:\n",
    "    events=joblib.load(f)\n",
    "    file_vertices = events[\"vertices\"]\n",
    "    for i in range(len(file_vertices)):\n",
    "        vertices = file_vertices[i]\n",
    "        if len(vertices) == 0:\n",
    "            continue\n",
    "        nEvents += 1\n",
    "        survived = True\n",
    "        for vertex in vertices:\n",
    "            for j in range(len(nTracks)):\n",
    "                if not TrackNumberVeto(vertex, nTracks[j]):\n",
    "                    nVetoed[j] += 1\n",
    "                    survived = False\n",
    "            if not survived:\n",
    "                break\n",
    "\n",
    "print(\"Number of events:\", nEvents)\n",
    "for i in range(len(nTracks)):\n",
    "    print(\"Fraction Surviving if requiring \" + str(nTracks[i]) + \" tracks\", 1-nVetoed[i]/nEvents)\n"
   ]
  },
  {
   "cell_type": "code",
   "execution_count": null,
   "id": "6b4bb3b5-f68c-492d-a67e-afbf56f06b75",
   "metadata": {},
   "outputs": [],
   "source": []
  }
 ],
 "metadata": {
  "kernelspec": {
   "display_name": "Python 3 (ipykernel)",
   "language": "python",
   "name": "python3"
  },
  "language_info": {
   "codemirror_mode": {
    "name": "ipython",
    "version": 3
   },
   "file_extension": ".py",
   "mimetype": "text/x-python",
   "name": "python",
   "nbconvert_exporter": "python",
   "pygments_lexer": "ipython3",
   "version": "3.8.10"
  }
 },
 "nbformat": 4,
 "nbformat_minor": 5
}
