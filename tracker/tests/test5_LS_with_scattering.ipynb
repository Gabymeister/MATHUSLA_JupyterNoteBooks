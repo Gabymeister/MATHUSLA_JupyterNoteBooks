{
 "cells": [
  {
   "cell_type": "code",
   "execution_count": 1,
   "id": "04255863",
   "metadata": {},
   "outputs": [],
   "source": [
    "try:\n",
    "    from tqdm import tqdm\n",
    "except ImportError:\n",
    "    def tqdm(iterator, *args, **kwargs):\n",
    "        return iterator\n",
    "    \n",
    "import numpy as np\n",
    "import scipy as sp\n",
    "from scipy import constants\n",
    "from pylab import *\n",
    "import joblib\n",
    "from numpy.linalg import inv\n",
    "import iminuit\n",
    "\n",
    "import os,sys\n",
    "from importlib import reload\n",
    "import copy\n",
    "from collections import namedtuple\n",
    "\n",
    "sys.path.append(\"../tracker\")"
   ]
  },
  {
   "cell_type": "code",
   "execution_count": 119,
   "id": "e99d309e",
   "metadata": {},
   "outputs": [
    {
     "data": {
      "text/plain": [
       "<module 'utilities' from '../tracker\\\\utilities.py'>"
      ]
     },
     "execution_count": 119,
     "metadata": {},
     "output_type": "execute_result"
    }
   ],
   "source": [
    "import kalmanfilter as KF\n",
    "import utilities as Util\n",
    "import datatypes\n",
    "import vertexfinder as VF\n",
    "\n",
    "reload(VF)\n",
    "reload(Util)"
   ]
  },
  {
   "cell_type": "code",
   "execution_count": 111,
   "id": "f3fd670b",
   "metadata": {},
   "outputs": [],
   "source": [
    "# -------------------------------------\n",
    "# LS fit with multiple scattering\n",
    "# ------------------------------------\n",
    "\n",
    "import numpy as np\n",
    "class chi2_track_scattering:\n",
    "    def __init__(self, hits):\n",
    "        self.hits=hits\n",
    "        self.func_code = iminuit.util.make_func_code(['x0', 'z0', 't0', 'Ax', 'Az', 'At'])\n",
    "    def __call__(self, x0, z0, t0, Ax, Az, At):\n",
    "        chi2_distance = 0\n",
    "\n",
    "        cov_x, cov_z = self.get_cov(Ax, Az)\n",
    "        residuals = []\n",
    "\n",
    "        for hit in self.hits:\n",
    "            dy = (hit.y - self.hits[0].y)\n",
    "            model_x = x0 + Ax*dy\n",
    "            model_z = z0 + Az*dy\n",
    "            model_t = t0 + At*dy\n",
    "            residuals.append([model_x-hit.x, model_z-hit.z, model_t-hit.t])\n",
    "        t_err = [hit.t_err for hit in hits]\n",
    "\n",
    "        residuals=np.array(residuals)\n",
    "\n",
    "        chi2_distance = residuals[:,0].T @ np.linalg.inv(cov_x) @residuals[:,0] +\\\n",
    "                        residuals[:,1].T @ np.linalg.inv(cov_z) @residuals[:,1] +\\\n",
    "                        np.sum([(residuals[:,2]/t_err)**2])\n",
    "        return chi2_distance        \n",
    "\n",
    "    def get_theta0(self, sin_theta, p=500):\n",
    "        L_Al =  0.4\n",
    "        L_Sc = 1.0 # [cm] Scintillator\n",
    "        L_r_Al = 24.0111/2.7; # [cm] Radiation length Aluminum/ density of Aluminum\n",
    "        L_r_Sc = 43; # [cm] Radiation length Scintillator (Saint-Gobain paper)\n",
    "\n",
    "        L_rad = L_Al / L_r_Al + L_Sc / L_r_Sc; # [rad lengths] orthogonal to Layer\n",
    "        L_rad /= sin_theta; # [rad lengths] in direction of track\n",
    "\n",
    "        sigma_ms = 13.6 * np.sqrt(L_rad) * (1 + 0.038 * np.log(L_rad)); #\n",
    "        sigma_ms /= p # [MeV] Divided by 1000 MeV\n",
    "\n",
    "        return sigma_ms\n",
    "\n",
    "    def get_cov(self, Ax, Az):\n",
    "\n",
    "        sin_theta = np.power(Ax**2+Az**2+1, -1/2)\n",
    "        theta_0 = self.get_theta0(sin_theta)  \n",
    "        hits = self.hits\n",
    "\n",
    "        cov_xz = np.zeros((len(self.hits), len(self.hits)))\n",
    "        for i in range(1,len(self.hits)):\n",
    "            for j in range(1,len(self.hits)):\n",
    "                cov_xz[i,j] = np.sum([(hits[i].y-hits[k].y)*(hits[j].y-hits[k].y)*theta_0**2 for k in range(0, min(i,j))])   \n",
    "\n",
    "        cov_x = cov_xz* Ax**2\n",
    "        cov_z = cov_xz* Az**2\n",
    "\n",
    "        cov_x+=np.diag([hit.x_err**2 for hit in hits])\n",
    "        cov_z+=np.diag([hit.z_err**2 for hit in hits])\n",
    "\n",
    "        return np.array(cov_x), np.array(cov_z)\n",
    "\n",
    "\n",
    "def fit_track_scattering(hits, guess):\n",
    "    x0_init, z0_init,t0_init,Ax_init,Az_init,At_init = guess\n",
    "\n",
    "    m = iminuit.Minuit(chi2_track_scattering(hits),x0=x0_init, z0=z0_init, t0=t0_init, Ax=Ax_init,Az=Az_init, At=At_init)\n",
    "    m.limits[\"x0\"]=(-100000,100000)\n",
    "    m.limits[\"z0\"]=(-100000,100000)\n",
    "    m.limits[\"t0\"]=(-100,1e5)\n",
    "    m.limits[\"Ax\"]=(-10,10) # Other\n",
    "    m.limits[\"Az\"]=(-10,10)\n",
    "    m.limits[\"At\"]=(0.001,0.2) # Beam direction; From MKS unit to cm/ns = 1e2/1e9=1e-7\n",
    "    m.errors[\"x0\"]=0.1\n",
    "    m.errors[\"z0\"]=0.1\n",
    "    m.errors[\"t0\"]=0.1\n",
    "    m.errors[\"Ax\"] = 0.0001\n",
    "    m.errors[\"At\"] = 0.0001\n",
    "    m.errors[\"Az\"] = 0.0001\n",
    "\n",
    "    m.migrad()  # run optimiser\n",
    "    m.hesse()   # run covariance estimator\n",
    "    \n",
    "    return m          \n",
    "\n",
    "\n",
    "\n",
    "def fit_track_ana(hits, scattering = False, iters = 2):\n",
    "    y0 = hits[0].y\n",
    "\n",
    "    X = np.array([hit.x for hit in hits])\n",
    "    Z = np.array([hit.z for hit in hits])\n",
    "    T = np.array([hit.t for hit in hits])\n",
    "    H = np.array([[1,hit.y-y0] for hit in hits])\n",
    "\n",
    "    if scattering is False:\n",
    "        Vx_inv = np.diag([1/hit.x_err for hit in hits ])\n",
    "        Vz_inv = np.diag([1/hit.z_err for hit in hits ])\n",
    "        Vt_inv = np.diag([1/hit.t_err for hit in hits ])\n",
    "    elif scattering is True:\n",
    "        if iters==0:\n",
    "            Param_all, Error_all = fit_track_ana(hits, scattering = False)\n",
    "        else:\n",
    "            iters-=1\n",
    "            Param_all, Error_all = fit_track_ana(hits, scattering = True, iters = iters)\n",
    "\n",
    "        # chi2_object = chi2_track_scattering(hits)\n",
    "        Vx, Vz = chi2_track_scattering(hits).get_cov(Param_all[3], Param_all[4])\n",
    "        Vx_inv = np.linalg.inv(Vx)\n",
    "        Vz_inv = np.linalg.inv(Vz)\n",
    "        Vt_inv = np.diag([1/hit.t_err for hit in hits ])\n",
    "\n",
    "\n",
    "\n",
    "    Error_x = np.linalg.inv(H.T @ Vx_inv @ H)\n",
    "    Param_x = Error_x @ (H.T @ Vx_inv @ X)\n",
    "\n",
    "    Error_z = np.linalg.inv(H.T @ Vz_inv @ H)\n",
    "    Param_z = Error_z @ (H.T @ Vz_inv @ Z)\n",
    "\n",
    "    Error_t = np.linalg.inv(H.T @ Vt_inv @ H)\n",
    "    Param_t = Error_t @ (H.T @ Vt_inv @ T)  \n",
    "\n",
    "    Error_all = np.array([[Error_x[0,0],           0,           0,Error_x[0,1],           0,             0],\n",
    "                            [           0,Error_z[0,0],           0,           0,Error_z[0,1],             0],\n",
    "                            [           0,           0,Error_t[0,0],           0,           0,  Error_t[0,1]],\n",
    "                            [Error_x[1,0],           0,           0,Error_x[0,1],           0,             0],\n",
    "                            [           0,Error_z[1,0],           0,           0,Error_z[0,1],             0],\n",
    "                            [           0,           0,Error_t[1,0],           0,           0,  Error_t[0,1]]])\n",
    "    Param_all = [Param_x[0],Param_z[0],Param_t[0], Param_x[1],Param_z[1],Param_t[1]]\n",
    "\n",
    "    return  Param_all, Error_all"
   ]
  },
  {
   "cell_type": "code",
   "execution_count": 112,
   "id": "68b00ad7",
   "metadata": {},
   "outputs": [
    {
     "data": {
      "text/plain": [
       "[Hit(x=1410.0451781469023, y=9893.0, z=10110.25, t=39.05387203461752, x_err=13.416789873441976, y_err=0.2886751345948129, z_err=1.299038105676658, t_err=0.7071067811865475, layer=2, ind=18),\n",
       " Hit(x=1421.25, y=9974.2, z=10106.435975778155, t=41.1256624916363, x_err=1.299038105676658, y_err=0.2886751345948129, z_err=13.416789873441976, t_err=0.7071067811865475, layer=3, ind=19),\n",
       " Hit(x=1394.9714154790188, y=10055.400000000001, z=10114.75, t=45.28472145915637, x_err=13.416789873441976, y_err=0.2886751345948129, z_err=1.299038105676658, t_err=0.7071067811865475, layer=4, ind=20),\n",
       " Hit(x=1398.75, y=10136.599999999999, z=10114.668345176091, t=47.621266524957505, x_err=1.299038105676658, y_err=0.2886751345948129, z_err=13.416789873441976, t_err=0.7071067811865475, layer=5, ind=21)]"
      ]
     },
     "execution_count": 112,
     "metadata": {},
     "output_type": "execute_result"
    }
   ],
   "source": [
    "x = [241.62934581783023, 259.25, 221.49664808213277, 227.75]\n",
    "y = [9894.0, 9975.599999999999, 10057.2, 10138.8]\n",
    "z = [12456.75, 12450.5, 12461.25, 12450.5]\n",
    "t = [40.91365706617539, 45.79668867914941, 48.189471653643565, 50.295569678622876]\n",
    "layers = [0,1,2,3,]\n",
    "\n",
    "hits = Util.hit.make_hits(x,y,z,t,layers)\n",
    "\n",
    "\n",
    "# # --=-------------------------\n",
    "events=joblib.load(\"events_example.joblib\")\n",
    "events\n",
    "hits_ind = [18, 19, 20, 21]\n",
    "hits = [events[21][i] for i in hits_ind]\n",
    "hits\n",
    "\n",
    "# hits"
   ]
  },
  {
   "cell_type": "code",
   "execution_count": 118,
   "id": "354592ba",
   "metadata": {},
   "outputs": [],
   "source": [
    "# %timeit -n 1 fit_ls = fit_track_scattering(hits,guess)\n",
    "# %timeit -n 1 Util.track.run_kf(hits, multiple_scattering=True)"
   ]
  },
  {
   "cell_type": "code",
   "execution_count": 114,
   "id": "cf10c716",
   "metadata": {},
   "outputs": [
    {
     "data": {
      "text/plain": [
       "(<ValueView x0=1431.917738097749 z0=10110.23233353367 t0=38.79219263164063 Ax=-0.13601406046215025 Az=0.027450162553371626 At=0.036774917451006736>,\n",
       " <ErrorView x0=2.0307719975171494 z0=1.2960167608980555 t0=0.5916167617324533 Ax=0.011282232668802017 Az=0.011209905463264391 At=0.003892803656654807>)"
      ]
     },
     "execution_count": 114,
     "metadata": {},
     "output_type": "execute_result"
    }
   ],
   "source": [
    "guess = Util.track.guess_track(hits)\n",
    "fit_ls = fit_track_scattering(hits,guess)\n",
    "fit_ls.values, fit_ls.errors, fit_ls.fval"
   ]
  },
  {
   "cell_type": "code",
   "execution_count": 129,
   "id": "46d21239",
   "metadata": {},
   "outputs": [
    {
     "name": "stdout",
     "output_type": "stream",
     "text": [
      "[1431.917111507736, 10110.232307722974, 38.79219426181089, -0.13601359402468205, 0.027449509218882895, 0.03677492911150271]\n",
      "[2.03085772 1.29601817 0.70354442 0.01128354 0.01120993 0.00463128]\n"
     ]
    }
   ],
   "source": [
    "\n",
    "values, cov, chi2 = Util.track.fit_track_ana(hits, scattering = True, iters = 2)\n",
    "print(values)\n",
    "print(np.sqrt(np.diag(cov)))\n",
    "print(chi2)"
   ]
  },
  {
   "cell_type": "code",
   "execution_count": 73,
   "id": "40e4dafa",
   "metadata": {},
   "outputs": [
    {
     "name": "stdout",
     "output_type": "stream",
     "text": [
      "1431.316053291954 10110.240427295634 38.90108926607831 -0.1321921675787688 0.02741550337342524 0.03617869007763045\n",
      "[2.14791128 0.95190763 0.45375471 0.01609054 0.01298649 0.00333938]\n"
     ]
    }
   ],
   "source": [
    "kalman_result = Util.track.run_kf(hits, multiple_scattering=True)\n",
    "kalman_result.Xsm[0], np.sqrt(np.diag(kalman_result.Csm[0]))\n",
    "\n",
    "# propagate the KF result from the second hit to the first hit\n",
    "Ax, Az, At = kalman_result.Xsm[0][3:]\n",
    "velocity = [Ax, Az, At]\n",
    "\n",
    "mi, Vi, Hi, Fi, Qi = Util.track.add_measurement(hits[0], hits[0].y - hits[1].y, velocity=velocity)\n",
    "Xp_i = Fi@kalman_result.Xsm[0]\n",
    "Cp_i = Fi@kalman_result.Csm[0]@Fi.T + Qi \n",
    "\n",
    "rp_i = mi - Hi@Xp_i\n",
    "Rp_i = Vi + Hi@Cp_i@Hi.T\n",
    "# Kalman Gain K\n",
    "K = Cp_i.dot(Hi.T).dot(inv(Rp_i))\n",
    "# Filtered State\n",
    "Xf = Xp_i + K@rp_i# Combination of the predicted state, measured values, covariance matrix and Kalman Gain\n",
    "Cf = (np.identity(len(Xf)) - K@Hi).dot(Cp_i)\n",
    "state_predicted_step_0 = Xf\n",
    "statecov_predicted_step_0 = Cf \n",
    "\n",
    "\n",
    "# Add the covariance of one additional layer:\n",
    "mi, Vi, Hi, Fi, Qi = Util.track.add_measurement(hits[0], -1.5, velocity=velocity)\n",
    "cov = statecov_predicted_step_0 + Qi\n",
    "chi2 = kalman_result.chift_total\n",
    "\n",
    "\n",
    "\n",
    "x0 = state_predicted_step_0[0]\n",
    "z0 = state_predicted_step_0[1]\n",
    "t0 = state_predicted_step_0[2]\n",
    "Ax = state_predicted_step_0[3]\n",
    "Az = state_predicted_step_0[4]\n",
    "At = state_predicted_step_0[5]\n",
    "\n",
    "print(x0,z0,t0,Ax,Az,At)\n",
    "print(np.sqrt(np.diag(cov)))\n",
    "print(chi2)"
   ]
  },
  {
   "cell_type": "code",
   "execution_count": 74,
   "id": "cb51dba5",
   "metadata": {},
   "outputs": [
    {
     "name": "stdout",
     "output_type": "stream",
     "text": [
      "[ 1.43187611e+03  1.01102323e+04  3.87926623e+01 -1.35501699e-01\n",
      "  2.74642672e-02  3.67618891e-02]\n",
      "[2.11014624 1.29602267 0.59161323 0.01332928 0.01167729 0.00389475]\n"
     ]
    }
   ],
   "source": [
    "kf = Util.track.run_kf(hits[::-1], multiple_scattering=True)\n",
    "print(kf.Xf[-1])\n",
    "print(np.sqrt(np.diag(kf.Cf[-1])))\n",
    "print(kf.chift_total)\n"
   ]
  },
  {
   "cell_type": "code",
   "execution_count": null,
   "id": "bb1b1597",
   "metadata": {},
   "outputs": [],
   "source": []
  }
 ],
 "metadata": {
  "kernelspec": {
   "display_name": "Python 3 (ipykernel)",
   "language": "python",
   "name": "python3"
  },
  "language_info": {
   "codemirror_mode": {
    "name": "ipython",
    "version": 3
   },
   "file_extension": ".py",
   "mimetype": "text/x-python",
   "name": "python",
   "nbconvert_exporter": "python",
   "pygments_lexer": "ipython3",
   "version": "3.7.9"
  }
 },
 "nbformat": 4,
 "nbformat_minor": 5
}
