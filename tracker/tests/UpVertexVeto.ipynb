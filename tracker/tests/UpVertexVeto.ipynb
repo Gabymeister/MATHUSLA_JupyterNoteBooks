{
 "cells": [
  {
   "cell_type": "code",
   "execution_count": 1,
   "id": "acde3eb0-5fba-4c78-a06d-c562d9f1f5ba",
   "metadata": {},
   "outputs": [
    {
     "name": "stdout",
     "output_type": "stream",
     "text": [
      "/project/6049244/owhgabri/pyTracker\n",
      "1.3.2\n"
     ]
    }
   ],
   "source": [
    "try:\n",
    "    from tqdm import tqdm\n",
    "except ImportError:\n",
    "    def tqdm(iterator, *args, **kwargs):\n",
    "        return iterator\n",
    "import os, sys, glob, warnings, glob    \n",
    "import numpy as np\n",
    "import scipy as sp\n",
    "from scipy import constants\n",
    "from pylab import *\n",
    "import joblib\n",
    "import importlib\n",
    "from importlib import reload\n",
    "sys.path.append(\"/project/rrg-mdiamond/owhgabri/pyTracker\")\n",
    "sys.path.insert(1, \"/project/rrg-mdiamond/owhgabri/pyTracker\")\n",
    "os.chdir('/project/rrg-mdiamond/owhgabri/pyTracker')\n",
    "print(os.getcwd())\n",
    "print(joblib.__version__)"
   ]
  },
  {
   "cell_type": "code",
   "execution_count": 2,
   "id": "f967b436-c2be-452f-a0ef-e07abc151acc",
   "metadata": {},
   "outputs": [
    {
     "name": "stdout",
     "output_type": "stream",
     "text": [
      "Welcome to JupyROOT 6.28/10\n"
     ]
    }
   ],
   "source": [
    "import scipy\n",
    "import copy as cp\n",
    "\n",
    "# ROOT\n",
    "import ROOT as root\n",
    "\n",
    "# Matplotlib\n",
    "import matplotlib.pyplot as plt\n",
    "from matplotlib import collections, colors, transforms\n",
    "\n",
    "import pprint"
   ]
  },
  {
   "cell_type": "code",
   "execution_count": 3,
   "id": "ab87b000-c2da-4822-b23e-8322fa7042cc",
   "metadata": {},
   "outputs": [
    {
     "data": {
      "text/plain": [
       "<module 'utilities' from '/project/rrg-mdiamond/owhgabri/pyTracker/tracker/utilities.py'>"
      ]
     },
     "execution_count": 3,
     "metadata": {},
     "output_type": "execute_result"
    }
   ],
   "source": [
    "from tracker import kalmanfilter as KF\n",
    "from tracker import utilities as Util\n",
    "from tracker import trackfinder as TF\n",
    "from tracker import datatypes\n",
    "from tracker.datatypes import *\n",
    "\n",
    "\n",
    "reload(TF)\n",
    "reload(Util)"
   ]
  },
  {
   "cell_type": "markdown",
   "id": "7a95ee39-c432-4069-9f97-5533b5655432",
   "metadata": {},
   "source": [
    "# Useful Functions #"
   ]
  },
  {
   "cell_type": "code",
   "execution_count": 5,
   "id": "6d68679f-0ee4-4e12-9417-748ce73e2ba3",
   "metadata": {},
   "outputs": [],
   "source": [
    "def upVertex(vertex, tracks):\n",
    "    \"\"\"\n",
    "    Returns true if all tracks provided \n",
    "    are going vertically upwards\n",
    "    \"\"\"\n",
    "    for index in vertex.tracks:\n",
    "        track = tracks[index]\n",
    "        hits = track.hits_filtered\n",
    "        point1 = hits[0]\n",
    "        point2 = hits[-1]\n",
    "        if point1[3] > point2[3]: # point 1 is later\n",
    "            ydiff = point1[1] - point2[1]\n",
    "            if ydiff < 1:\n",
    "                return False\n",
    "        else: #Point 2 is layter\n",
    "            ydiff = point2[1] - point1[1]\n",
    "            if ydiff < 1:\n",
    "                return False\n",
    "    return True\n",
    "        "
   ]
  },
  {
   "cell_type": "markdown",
   "id": "fbc2483e-0153-4265-8265-40e9f93af9fe",
   "metadata": {},
   "source": [
    "# Background # "
   ]
  },
  {
   "cell_type": "code",
   "execution_count": 6,
   "id": "5ddc1fbf-8ccc-46b3-ad55-d89d007cb7d5",
   "metadata": {},
   "outputs": [
    {
     "name": "stdout",
     "output_type": "stream",
     "text": [
      "187\n"
     ]
    }
   ],
   "source": [
    "data_top_dir = f\"/home/owhgabri/My_GitHub/data/Reconstruction/10xCosmicBackground\"\n",
    "pathList=[]\n",
    "\n",
    "for rootFile, dirs, files in os.walk(data_top_dir):\n",
    "    for filename in files:\n",
    "        if \".pkl\" in filename:\n",
    "            pathList.append(os.path.join(rootFile, filename))\n",
    "\n",
    "print(\"Background\")\n",
    "print(len(pathList))"
   ]
  },
  {
   "cell_type": "markdown",
   "id": "6652647f-c3b4-4f4f-89a3-aa838883e0f1",
   "metadata": {},
   "source": [
    "## Veto Efficiency ##"
   ]
  },
  {
   "cell_type": "code",
   "execution_count": null,
   "id": "199c155a-52e8-4854-a2f3-53b1f05dee2c",
   "metadata": {},
   "outputs": [],
   "source": [
    "print(\"Veto Efficiency\")"
   ]
  },
  {
   "cell_type": "markdown",
   "id": "7bb615e5-f641-48ed-837e-9decae929508",
   "metadata": {},
   "source": [
    "### Survival Rate for given Chi2 Values ###"
   ]
  },
  {
   "cell_type": "code",
   "execution_count": 7,
   "id": "da61c270-9536-4a9c-ba8e-80e248b6f2dc",
   "metadata": {},
   "outputs": [
    {
     "name": "stdout",
     "output_type": "stream",
     "text": [
      "Total Events (with at least one vertex): 3686\n",
      "Total Events survived: 2782\n",
      "Total vertices: 4389\n",
      "Total vertices survived: 3413\n"
     ]
    }
   ],
   "source": [
    "print(\"Survival Rate\")\n",
    "nEvents = 0\n",
    "nSurvived = 0\n",
    "nUpVertices = 0\n",
    "nVertices = 0\n",
    "for f in pathList:\n",
    "    events=joblib.load(f)\n",
    "    file_hits = events[\"hits\"]\n",
    "    file_tracks = events[\"tracks\"]\n",
    "    file_vertices = events[\"vertices\"]\n",
    "    for i in range(len(file_hits)):\n",
    "        hits= file_hits[i]\n",
    "        tracks = file_tracks[i]\n",
    "        vertices = file_vertices[i]\n",
    "        if len(vertices) == 0:\n",
    "            continue\n",
    "        nEvents += 1\n",
    "        nVertices += len(vertices)\n",
    "        survived = True\n",
    "        for vertex in vertices:\n",
    "            if not upVertex(vertex, tracks):\n",
    "                survived = False\n",
    "                break\n",
    "            else:\n",
    "                nUpVertices +=1\n",
    "        if survived:\n",
    "            nSurvived += 1\n",
    "print(\"Total Events:\", nEvents)\n",
    "print(\"Total Events survived (with all up vertices):\", nSurvived)\n",
    "print(\"Total vertices:\", nVertices)\n",
    "print(\"Total vertices survived:\", nUpVertices)"
   ]
  },
  {
   "cell_type": "markdown",
   "id": "8ee879a9-7841-480f-bb21-0e637c24bad1",
   "metadata": {},
   "source": [
    "# Signal #"
   ]
  },
  {
   "cell_type": "code",
   "execution_count": 8,
   "id": "3a7d076c-dcb3-4b0b-9762-9cc21385c83d",
   "metadata": {},
   "outputs": [
    {
     "name": "stdout",
     "output_type": "stream",
     "text": [
      "5\n"
     ]
    }
   ],
   "source": [
    "data_top_dir = f\"/home/owhgabri/My_GitHub/data/Reconstruction/LLP\"\n",
    "pathList=[]\n",
    "\n",
    "for rootFile, dirs, files in os.walk(data_top_dir):\n",
    "    for filename in files:\n",
    "        if \".pkl\" in filename:\n",
    "            pathList.append(os.path.join(rootFile, filename))\n",
    "\n",
    "print(\"Signal\")\n",
    "print(len(pathList))"
   ]
  },
  {
   "cell_type": "markdown",
   "id": "8a7084a8-87d9-4077-a023-495f65e8108e",
   "metadata": {},
   "source": [
    "## Veto Efficiency ##"
   ]
  },
  {
   "cell_type": "markdown",
   "id": "6b00676d-6c7b-442c-ab1f-8b9745893ed1",
   "metadata": {},
   "source": [
    "### Survival Rate for given Chi2 Values ###"
   ]
  },
  {
   "cell_type": "code",
   "execution_count": 9,
   "id": "cae83e5d-106d-4285-9903-26e634f77c9c",
   "metadata": {},
   "outputs": [
    {
     "name": "stdout",
     "output_type": "stream",
     "text": [
      "Total Events (with at least one vertex): 46153\n",
      "Total Events survived: 41438\n",
      "Total vertices: 118152\n",
      "Total vertices survived: 107166\n"
     ]
    }
   ],
   "source": [
    "print(\"Survival Rate\")\n",
    "nEvents = 0\n",
    "nSurvived = 0\n",
    "nUpVertices = 0\n",
    "nVertices = 0\n",
    "for f in pathList:\n",
    "    events=joblib.load(f)\n",
    "    file_hits = events[\"hits\"]\n",
    "    file_tracks = events[\"tracks\"]\n",
    "    file_vertices = events[\"vertices\"]\n",
    "    for i in range(len(file_hits)):\n",
    "        hits= file_hits[i]\n",
    "        tracks = file_tracks[i]\n",
    "        vertices = file_vertices[i]\n",
    "        if len(vertices) == 0:\n",
    "            continue\n",
    "        nEvents += 1\n",
    "        nVertices += len(vertices)\n",
    "        survived = True\n",
    "        for vertex in vertices:\n",
    "            if not upVertex(vertex, tracks):\n",
    "                survived = False\n",
    "                break\n",
    "            else:\n",
    "                nUpVertices +=1\n",
    "        if survived:\n",
    "            nSurvived += 1\n",
    "print(\"Total Events:\", nEvents)\n",
    "print(\"Total Events survived (with all up vertices):\", nSurvived)\n",
    "print(\"Total vertices:\", nVertices)\n",
    "print(\"Total vertices survived:\", nUpVertices)"
   ]
  },
  {
   "cell_type": "code",
   "execution_count": null,
   "id": "2018c457-54b9-4acf-8c2a-0596e25e33b5",
   "metadata": {},
   "outputs": [],
   "source": []
  }
 ],
 "metadata": {
  "kernelspec": {
   "display_name": "Python 3.10",
   "language": "python",
   "name": "python3"
  },
  "language_info": {
   "codemirror_mode": {
    "name": "ipython",
    "version": 3
   },
   "file_extension": ".py",
   "mimetype": "text/x-python",
   "name": "python",
   "nbconvert_exporter": "python",
   "pygments_lexer": "ipython3",
   "version": "3.10.13"
  }
 },
 "nbformat": 4,
 "nbformat_minor": 5
}
