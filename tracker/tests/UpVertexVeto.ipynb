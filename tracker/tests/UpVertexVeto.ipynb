{
 "cells": [
  {
   "cell_type": "code",
   "execution_count": 2,
   "id": "0242c4d6-e124-4093-b34d-cd6d08568080",
   "metadata": {},
   "outputs": [
    {
     "name": "stdout",
     "output_type": "stream",
     "text": [
      "/home/owhgabri/My_GitHub/pyTracker\n",
      "1.4.2\n"
     ]
    }
   ],
   "source": [
    "try:\n",
    "    from tqdm import tqdm\n",
    "except ImportError:\n",
    "    def tqdm(iterator, *args, **kwargs):\n",
    "        return iterator\n",
    "import os, sys, glob, warnings, glob    \n",
    "import numpy as np\n",
    "import scipy as sp\n",
    "from scipy import constants\n",
    "from pylab import *\n",
    "import joblib\n",
    "import importlib\n",
    "from importlib import reload\n",
    "sys.path.append(\"/home/owhgabri/My_GitHub/pyTracker/tracker\")\n",
    "sys.path.insert(1, \"/home/owhgabri/My_GitHub/pyTracker/tracker\")\n",
    "os.chdir('/home/owhgabri/My_GitHub/pyTracker')\n",
    "print(os.getcwd())\n",
    "print(joblib.__version__)"
   ]
  },
  {
   "cell_type": "code",
   "execution_count": 3,
   "id": "22a1ed75-20bf-45c8-9edd-e925eefbc8f1",
   "metadata": {},
   "outputs": [
    {
     "name": "stdout",
     "output_type": "stream",
     "text": [
      "Welcome to JupyROOT 6.26/14\n"
     ]
    }
   ],
   "source": [
    "import scipy\n",
    "import copy as cp\n",
    "\n",
    "# ROOT\n",
    "import ROOT as root\n",
    "\n",
    "# Matplotlib\n",
    "import matplotlib.pyplot as plt\n",
    "from matplotlib import collections, colors, transforms\n",
    "\n",
    "%matplotlib inline\n",
    "%config InlineBackend.figure_format='retina'\n",
    "# %matplotlib widget\n",
    "\n",
    "import pprint"
   ]
  },
  {
   "cell_type": "code",
   "execution_count": 4,
   "id": "511a061c-474c-466a-9fa0-e8030b32215a",
   "metadata": {},
   "outputs": [
    {
     "data": {
      "text/plain": [
       "<module 'utilities' from '/home/owhgabri/My_GitHub/pyTracker/tracker/utilities.py'>"
      ]
     },
     "execution_count": 4,
     "metadata": {},
     "output_type": "execute_result"
    }
   ],
   "source": [
    "import kalmanfilter as KF\n",
    "import utilities as Util\n",
    "import trackfinder as TF\n",
    "import datatypes\n",
    "from datatypes import *\n",
    "\n",
    "reload(TF)\n",
    "reload(Util)"
   ]
  },
  {
   "cell_type": "markdown",
   "id": "7a95ee39-c432-4069-9f97-5533b5655432",
   "metadata": {},
   "source": [
    "# Useful Functions #"
   ]
  },
  {
   "cell_type": "code",
   "execution_count": 5,
   "id": "6d68679f-0ee4-4e12-9417-748ce73e2ba3",
   "metadata": {},
   "outputs": [],
   "source": [
    "def upVertex(vertex, tracks):\n",
    "    \"\"\"\n",
    "    Returns true if all tracks provided \n",
    "    are going vertically upwards\n",
    "    \"\"\"\n",
    "    for index in vertex.tracks:\n",
    "        track = tracks[index]\n",
    "        hits = track.hits_filtered\n",
    "        point1 = hits[0]\n",
    "        point2 = hits[-1]\n",
    "        if point1[3] > point2[3]: # point 1 is later\n",
    "            ydiff = point1[1] - point2[1]\n",
    "            if ydiff < 1:\n",
    "                return False\n",
    "        else: #Point 2 is layter\n",
    "            ydiff = point2[1] - point1[1]\n",
    "            if ydiff < 1:\n",
    "                return False\n",
    "    return True\n",
    "        "
   ]
  },
  {
   "cell_type": "markdown",
   "id": "fbc2483e-0153-4265-8265-40e9f93af9fe",
   "metadata": {},
   "source": [
    "# Background # "
   ]
  },
  {
   "cell_type": "code",
   "execution_count": 6,
   "id": "5ddc1fbf-8ccc-46b3-ad55-d89d007cb7d5",
   "metadata": {},
   "outputs": [
    {
     "name": "stdout",
     "output_type": "stream",
     "text": [
      "187\n"
     ]
    }
   ],
   "source": [
    "data_top_dir = f\"/home/owhgabri/My_GitHub/data/Reconstruction/10xCosmicBackground\"\n",
    "pathList=[]\n",
    "\n",
    "for rootFile, dirs, files in os.walk(data_top_dir):\n",
    "    for filename in files:\n",
    "        if \".pkl\" in filename:\n",
    "            pathList.append(os.path.join(rootFile, filename))\n",
    "\n",
    "\n",
    "print(len(pathList))"
   ]
  },
  {
   "cell_type": "markdown",
   "id": "6652647f-c3b4-4f4f-89a3-aa838883e0f1",
   "metadata": {},
   "source": [
    "## Veto Efficiency ##"
   ]
  },
  {
   "cell_type": "markdown",
   "id": "7bb615e5-f641-48ed-837e-9decae929508",
   "metadata": {},
   "source": [
    "### Survival Rate for given Chi2 Values ###"
   ]
  },
  {
   "cell_type": "code",
   "execution_count": 7,
   "id": "da61c270-9536-4a9c-ba8e-80e248b6f2dc",
   "metadata": {},
   "outputs": [
    {
     "name": "stdout",
     "output_type": "stream",
     "text": [
      "Total Events (with at least one vertex): 3686\n",
      "Total Events survived: 2782\n",
      "Total vertices: 4389\n",
      "Total vertices survived: 3413\n"
     ]
    }
   ],
   "source": [
    "nEvents = 0\n",
    "nSurvived = 0\n",
    "nUpVertices = 0\n",
    "nVertices = 0\n",
    "for f in pathList:\n",
    "    events=joblib.load(f)\n",
    "    file_hits = events[\"hits\"]\n",
    "    file_tracks = events[\"tracks\"]\n",
    "    file_vertices = events[\"vertices\"]\n",
    "    for i in range(len(file_hits)):\n",
    "        hits= file_hits[i]\n",
    "        tracks = file_tracks[i]\n",
    "        vertices = file_vertices[i]\n",
    "        if len(vertices) == 0:\n",
    "            continue\n",
    "        nEvents += 1\n",
    "        nVertices += len(vertices)\n",
    "        survived = True\n",
    "        for vertex in vertices:\n",
    "            if not upVertex(vertex, tracks):\n",
    "                survived = False\n",
    "                break\n",
    "            else:\n",
    "                nUpVertices +=1\n",
    "        if survived:\n",
    "            nSurvived += 1\n",
    "print(\"Total Events (with at least one vertex):\", nEvents)\n",
    "print(\"Total Events survived:\", nSurvived)\n",
    "print(\"Total vertices:\", nVertices)\n",
    "print(\"Total vertices survived:\", nUpVertices)"
   ]
  },
  {
   "cell_type": "markdown",
   "id": "8ee879a9-7841-480f-bb21-0e637c24bad1",
   "metadata": {},
   "source": [
    "# Signal #"
   ]
  },
  {
   "cell_type": "code",
   "execution_count": 8,
   "id": "3a7d076c-dcb3-4b0b-9762-9cc21385c83d",
   "metadata": {},
   "outputs": [
    {
     "name": "stdout",
     "output_type": "stream",
     "text": [
      "5\n"
     ]
    }
   ],
   "source": [
    "data_top_dir = f\"/home/owhgabri/My_GitHub/data/Reconstruction/LLP\"\n",
    "pathList=[]\n",
    "\n",
    "for rootFile, dirs, files in os.walk(data_top_dir):\n",
    "    for filename in files:\n",
    "        if \".pkl\" in filename:\n",
    "            pathList.append(os.path.join(rootFile, filename))\n",
    "\n",
    "\n",
    "print(len(pathList))"
   ]
  },
  {
   "cell_type": "markdown",
   "id": "8a7084a8-87d9-4077-a023-495f65e8108e",
   "metadata": {},
   "source": [
    "## Veto Efficiency ##"
   ]
  },
  {
   "cell_type": "markdown",
   "id": "6b00676d-6c7b-442c-ab1f-8b9745893ed1",
   "metadata": {},
   "source": [
    "### Survival Rate for given Chi2 Values ###"
   ]
  },
  {
   "cell_type": "code",
   "execution_count": 9,
   "id": "cae83e5d-106d-4285-9903-26e634f77c9c",
   "metadata": {},
   "outputs": [
    {
     "name": "stdout",
     "output_type": "stream",
     "text": [
      "Total Events (with at least one vertex): 46153\n",
      "Total Events survived: 41438\n",
      "Total vertices: 118152\n",
      "Total vertices survived: 107166\n"
     ]
    }
   ],
   "source": [
    "nEvents = 0\n",
    "nSurvived = 0\n",
    "nUpVertices = 0\n",
    "nVertices = 0\n",
    "for f in pathList:\n",
    "    events=joblib.load(f)\n",
    "    file_hits = events[\"hits\"]\n",
    "    file_tracks = events[\"tracks\"]\n",
    "    file_vertices = events[\"vertices\"]\n",
    "    for i in range(len(file_hits)):\n",
    "        hits= file_hits[i]\n",
    "        tracks = file_tracks[i]\n",
    "        vertices = file_vertices[i]\n",
    "        if len(vertices) == 0:\n",
    "            continue\n",
    "        nEvents += 1\n",
    "        nVertices += len(vertices)\n",
    "        survived = True\n",
    "        for vertex in vertices:\n",
    "            if not upVertex(vertex, tracks):\n",
    "                survived = False\n",
    "                break\n",
    "            else:\n",
    "                nUpVertices +=1\n",
    "        if survived:\n",
    "            nSurvived += 1\n",
    "print(\"Total Events (with at least one vertex):\", nEvents)\n",
    "print(\"Total Events survived:\", nSurvived)\n",
    "print(\"Total vertices:\", nVertices)\n",
    "print(\"Total vertices survived:\", nUpVertices)"
   ]
  },
  {
   "cell_type": "code",
   "execution_count": null,
   "id": "2018c457-54b9-4acf-8c2a-0596e25e33b5",
   "metadata": {},
   "outputs": [],
   "source": []
  }
 ],
 "metadata": {
  "kernelspec": {
   "display_name": "Python 3 (ipykernel)",
   "language": "python",
   "name": "python3"
  },
  "language_info": {
   "codemirror_mode": {
    "name": "ipython",
    "version": 3
   },
   "file_extension": ".py",
   "mimetype": "text/x-python",
   "name": "python",
   "nbconvert_exporter": "python",
   "pygments_lexer": "ipython3",
   "version": "3.8.10"
  }
 },
 "nbformat": 4,
 "nbformat_minor": 5
}
