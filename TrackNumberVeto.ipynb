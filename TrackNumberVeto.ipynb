{
 "cells": [
  {
   "cell_type": "code",
   "execution_count": 1,
   "id": "7e750da4-1c91-46f9-8169-a283b84a9401",
   "metadata": {},
   "outputs": [
    {
     "name": "stdout",
     "output_type": "stream",
     "text": [
      "/project/6049244/owhgabri/pyTracker\n",
      "1.3.2\n"
     ]
    }
   ],
   "source": [
    "try:\n",
    "    from tqdm import tqdm\n",
    "except ImportError:\n",
    "    def tqdm(iterator, *args, **kwargs):\n",
    "        return iterator\n",
    "import os, sys, glob, warnings, glob    \n",
    "import numpy as np\n",
    "import scipy as sp\n",
    "from scipy import constants\n",
    "from pylab import *\n",
    "import joblib\n",
    "import importlib\n",
    "from importlib import reload\n",
    "sys.path.append(\"/project/rrg-mdiamond/owhgabri/pyTracker\")\n",
    "sys.path.insert(1, \"/project/rrg-mdiamond/owhgabri/pyTracker\")\n",
    "os.chdir('/project/rrg-mdiamond/owhgabri/pyTracker')\n",
    "print(os.getcwd())\n",
    "print(joblib.__version__)"
   ]
  },
  {
   "cell_type": "code",
   "execution_count": 2,
   "id": "0c7a103f-33a9-473b-93ab-70fee362efab",
   "metadata": {},
   "outputs": [
    {
     "name": "stdout",
     "output_type": "stream",
     "text": [
      "Welcome to JupyROOT 6.28/10\n"
     ]
    }
   ],
   "source": [
    "import scipy\n",
    "import copy as cp\n",
    "\n",
    "# ROOT\n",
    "import ROOT as root\n",
    "\n",
    "# Matplotlib\n",
    "import matplotlib.pyplot as plt\n",
    "from matplotlib import collections, colors, transforms\n",
    "\n",
    "import pprint"
   ]
  },
  {
   "cell_type": "code",
   "execution_count": 3,
   "id": "61182c1f-91b0-4874-b7a6-21940b123929",
   "metadata": {},
   "outputs": [
    {
     "data": {
      "text/plain": [
       "<module 'utilities' from '/project/rrg-mdiamond/owhgabri/pyTracker/tracker/utilities.py'>"
      ]
     },
     "execution_count": 3,
     "metadata": {},
     "output_type": "execute_result"
    }
   ],
   "source": [
    "from tracker import kalmanfilter as KF\n",
    "from tracker import utilities as Util\n",
    "from tracker import trackfinder as TF\n",
    "from tracker import datatypes\n",
    "from tracker.datatypes import *\n",
    "\n",
    "\n",
    "reload(TF)\n",
    "reload(Util)"
   ]
  },
  {
   "cell_type": "code",
   "execution_count": 1,
   "id": "bed728e6-1865-4f2a-949f-b432debff0c4",
   "metadata": {},
   "outputs": [
    {
     "name": "stdout",
     "output_type": "stream",
     "text": [
      "/home/owhgabri/My_GitHub/pyTracker\n",
      "1.4.2\n"
     ]
    }
   ],
   "source": [
    "try:\n",
    "    from tqdm import tqdm\n",
    "except ImportError:\n",
    "    def tqdm(iterator, *args, **kwargs):\n",
    "        return iterator\n",
    "import os, sys, glob, warnings, glob    \n",
    "import numpy as np\n",
    "import scipy as sp\n",
    "from scipy import constants\n",
    "from pylab import *\n",
    "import joblib\n",
    "import importlib\n",
    "from importlib import reload\n",
    "sys.path.append(\"/home/owhgabri/My_GitHub/MATHUSLA_JupyterNoteBooks/tracker\")\n",
    "sys.path.insert(1, \"/home/owhgabri/My_GitHub/MATHUSLA_JupyterNoteBooks/tracker\")\n",
    "os.chdir('/home/owhgabri/My_GitHub/pyTracker')\n",
    "print(os.getcwd())\n",
    "print(joblib.__version__)"
   ]
  },
  {
   "cell_type": "code",
   "execution_count": 2,
   "id": "f96d5f65-f2c1-46a2-bed7-874db41e2d41",
   "metadata": {},
   "outputs": [
    {
     "name": "stdout",
     "output_type": "stream",
     "text": [
      "Welcome to JupyROOT 6.26/14\n"
     ]
    }
   ],
   "source": [
    "import scipy\n",
    "import copy as cp\n",
    "\n",
    "# ROOT\n",
    "import ROOT as root\n",
    "\n",
    "# Matplotlib\n",
    "import matplotlib.pyplot as plt\n",
    "from matplotlib import collections, colors, transforms\n",
    "\n",
    "%matplotlib inline\n",
    "%config InlineBackend.figure_format='retina'\n",
    "# %matplotlib widget\n",
    "\n",
    "import pprint"
   ]
  },
  {
   "cell_type": "markdown",
   "id": "63a5b407-474f-4d4b-90fb-007e86b82402",
   "metadata": {},
   "source": [
    "# Useful Functions #"
   ]
  },
  {
   "cell_type": "code",
   "execution_count": 4,
   "id": "85ba6b91-31ef-4c41-9e4a-612ba65e73be",
   "metadata": {},
   "outputs": [],
   "source": [
    "def TrackNumberVeto(vertex, n):\n",
    "    \"\"\"\n",
    "    Returns True if the vertex has at least n tracks\n",
    "    \"\"\"\n",
    "    if len(vertex.tracks) >= n:\n",
    "        return True\n",
    "    return False\n",
    "        "
   ]
  },
  {
   "cell_type": "markdown",
   "id": "78aea0b8-7e98-401c-ae7a-71af60715eb0",
   "metadata": {
    "tags": []
   },
   "source": [
    "# Background #"
   ]
  },
  {
   "cell_type": "code",
   "execution_count": 5,
   "id": "d9b1f348-c6dc-4185-a581-b32ba2717109",
   "metadata": {},
   "outputs": [
    {
     "name": "stdout",
     "output_type": "stream",
     "text": [
      "30\n"
     ]
    }
   ],
   "source": [
    "data_top_dir = f\"/project/rrg-mdiamond/data/MATHUSLA/simulation/run-2024-07-mathusla40-full/DigiOutput\"\n",
    "pathList=[]\n",
    "\n",
    "for rootFile, dirs, files in os.walk(data_top_dir):\n",
    "    for filename in files:\n",
    "        if \"stat0io_MuSim-noise10-layers4-eff1.00\" in filename:\n",
    "            pathList.append(os.path.join(rootFile, filename))\n",
    "\n",
    "print(\"BACKGROUND\")\n",
    "print(len(pathList))\n"
   ]
  },
  {
   "cell_type": "markdown",
   "id": "22a7363c-bbc5-47aa-84e6-974048128487",
   "metadata": {
    "tags": []
   },
   "source": [
    "## Survival Rate (Event Level) ## "
   ]
  },
  {
   "cell_type": "code",
   "execution_count": 8,
   "id": "3985d41a-450f-4fe3-bbf0-8106381a211f",
   "metadata": {},
   "outputs": [
    {
     "name": "stdout",
     "output_type": "stream",
     "text": [
      "Number of events: 1182\n",
      "Fraction Surviving if requiring 3 tracks (strict) 0.02707275803722504\n",
      "Fraction Surviving if requiring 3 tracks (lenient) 0.04145516074450085\n",
      "Fraction Surviving if requiring 4 tracks (strict) 0.0\n",
      "Fraction Surviving if requiring 4 tracks (lenient) 0.0008460236886632825\n"
     ]
    }
   ],
   "source": [
    "print(\"Survival Rate: Event Level\")\n",
    "nEvents = 0\n",
    "nTracks = [3, 4]\n",
    "nVetoedStrict = []\n",
    "nVetoedLenient = []\n",
    "for n in nTracks:\n",
    "    nVetoedStrict.append(0)\n",
    "    nVetoedLenient.append(0)\n",
    "for f in pathList:\n",
    "    events=joblib.load(f)\n",
    "    file_vertices = events[\"vertices\"]\n",
    "    for i in range(len(file_vertices)):\n",
    "        vertices = file_vertices[i]\n",
    "        if len(vertices) == 0:\n",
    "            continue\n",
    "        nEvents += 1\n",
    "        survivedStrict = []\n",
    "        survivedLenient = []\n",
    "        for n in nTracks:\n",
    "            survivedStrict.append(True)\n",
    "            survivedLenient.append(False)\n",
    "        for vertex in vertices:\n",
    "            for j in range(len(nTracks)):\n",
    "                if survivedStrict and not TrackNumberVeto(vertex, nTracks[j]):\n",
    "                    survivedStrict[j] = False\n",
    "                if TrackNumberVeto(vertex, nTracks[j]):\n",
    "                    survivedLenient[j] = True\n",
    "        for j in range(len(survivedStrict)):\n",
    "            if survivedStrict[j]:\n",
    "                nVetoedStrict[j] += 1\n",
    "            if survivedLenient[j]:\n",
    "                nVetoedLenient[j] += 1\n",
    "            \n",
    "print(\"Number of events:\", nEvents)\n",
    "for i in range(len(nTracks)):\n",
    "    print(\"Fraction Surviving if requiring \" + str(nTracks[i]) + \" tracks (strict)\", nVetoedStrict[i]/nEvents)\n",
    "    print(\"Fraction Surviving if requiring \" + str(nTracks[i]) + \" tracks (lenient)\", nVetoedLenient[i]/nEvents)\n",
    "\n"
   ]
  },
  {
   "cell_type": "markdown",
   "id": "98f54577-9b7f-435c-94da-a86cf1e6188d",
   "metadata": {},
   "source": [
    "# Signal #"
   ]
  },
  {
   "cell_type": "code",
   "execution_count": 5,
   "id": "78fbe38a-86b7-4539-96b3-efd421b12037",
   "metadata": {},
   "outputs": [
    {
     "name": "stdout",
     "output_type": "stream",
     "text": [
      "SIGNAL\n",
      "5\n"
     ]
    }
   ],
   "source": [
    "data_top_dir = f\"/project/rrg-mdiamond/data/MATHUSLA/simulation/LLPrun-2024-07-08/Reconstruction\"\n",
    "pathList=[]\n",
    "\n",
    "for rootFile, dirs, files in os.walk(data_top_dir):\n",
    "    for filename in files:\n",
    "        if \".pkl\" in filename:\n",
    "            pathList.append(os.path.join(rootFile, filename))\n",
    "print(\"SIGNAL\")\n",
    "print(len(pathList))"
   ]
  },
  {
   "cell_type": "markdown",
   "id": "7950eaaf-3d26-4cf1-afb5-23a5c3b43a09",
   "metadata": {},
   "source": [
    "## Survival Rate (Event Level) ## "
   ]
  },
  {
   "cell_type": "code",
   "execution_count": null,
   "id": "00ed96cf-b61d-4ee2-b95c-ab6ad03bda4e",
   "metadata": {},
   "outputs": [],
   "source": [
    "print(\"Survival Rate: Event Level\")\n",
    "nEvents = 0\n",
    "nTracks = [3, 4]\n",
    "nVetoedStrict = []\n",
    "nVetoedLenient = []\n",
    "for n in nTracks:\n",
    "    nVetoedStrict.append(0)\n",
    "    nVetoedLenient.append(0)\n",
    "for f in pathList:\n",
    "    events=joblib.load(f)\n",
    "    file_vertices = events[\"vertices\"]\n",
    "    for i in range(len(file_vertices)):\n",
    "        vertices = file_vertices[i]\n",
    "        if len(vertices) == 0:\n",
    "            continue\n",
    "        nEvents += 1\n",
    "        survivedStrict = []\n",
    "        survivedLenient = []\n",
    "        for n in nTracks:\n",
    "            survivedStrict.append(True)\n",
    "            survivedLenient.append(False)\n",
    "        for vertex in vertices:\n",
    "            for j in range(len(nTracks)):\n",
    "                if survivedStrict and not TrackNumberVeto(vertex, nTracks[j]):\n",
    "                    survivedStrict[j] = False\n",
    "                if TrackNumberVeto(vertex, nTracks[j]):\n",
    "                    survivedLenient[j] = True\n",
    "        for j in range(len(survivedStrict)):\n",
    "            if survivedStrict[j]:\n",
    "                nVetoedStrict[j] += 1\n",
    "            if survivedLenient[j]:\n",
    "                nVetoedLenient[j] += 1\n",
    "            \n",
    "print(\"Number of events:\", nEvents)\n",
    "for i in range(len(nTracks)):\n",
    "    print(\"Fraction Surviving if requiring \" + str(nTracks[i]) + \" tracks (strict)\", nVetoedStrict[i]/nEvents)\n",
    "    print(\"Fraction Surviving if requiring \" + str(nTracks[i]) + \" tracks (lenient)\", nVetoedLenient[i]/nEvents)\n",
    "\n"
   ]
  },
  {
   "cell_type": "code",
   "execution_count": null,
   "id": "6b4bb3b5-f68c-492d-a67e-afbf56f06b75",
   "metadata": {},
   "outputs": [],
   "source": []
  }
 ],
 "metadata": {
  "kernelspec": {
   "display_name": "SCDMS V05-00",
   "language": "python",
   "name": "scdms_v05-00"
  },
  "language_info": {
   "codemirror_mode": {
    "name": "ipython",
    "version": 3
   },
   "file_extension": ".py",
   "mimetype": "text/x-python",
   "name": "python",
   "nbconvert_exporter": "python",
   "pygments_lexer": "ipython3",
   "version": "3.10.12"
  }
 },
 "nbformat": 4,
 "nbformat_minor": 5
}
