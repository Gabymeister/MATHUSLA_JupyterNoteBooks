{
 "cells": [
  {
   "cell_type": "code",
   "execution_count": 2,
   "id": "b1feb747-daab-40ed-90c6-9b2cde111193",
   "metadata": {},
   "outputs": [
    {
     "name": "stdout",
     "output_type": "stream",
     "text": [
      "/project/6049244/owhgabri/pyTracker\n",
      "1.3.2\n"
     ]
    }
   ],
   "source": [
    "try:\n",
    "    from tqdm import tqdm\n",
    "except ImportError:\n",
    "    def tqdm(iterator, *args, **kwargs):\n",
    "        return iterator\n",
    "import os, sys, glob, warnings, glob    \n",
    "import numpy as np\n",
    "import scipy as sp\n",
    "from scipy import constants\n",
    "from pylab import *\n",
    "import joblib\n",
    "import importlib\n",
    "from importlib import reload\n",
    "sys.path.append(\"/project/rrg-mdiamond/owhgabri/pyTracker/tracker\")\n",
    "sys.path.insert(1, \"/project/rrg-mdiamond/owhgabri/pyTracker/tracker\")\n",
    "os.chdir('/project/rrg-mdiamond/owhgabri/pyTracker')\n",
    "print(os.getcwd())\n",
    "print(joblib.__version__)"
   ]
  },
  {
   "cell_type": "code",
   "execution_count": 3,
   "id": "8ac6cd1d-9b5b-4bc1-8871-a95ae2ce9dec",
   "metadata": {},
   "outputs": [
    {
     "name": "stdout",
     "output_type": "stream",
     "text": [
      "Welcome to JupyROOT 6.28/10\n"
     ]
    }
   ],
   "source": [
    "import scipy\n",
    "import copy as cp\n",
    "\n",
    "# ROOT\n",
    "import ROOT as root\n",
    "\n",
    "# Matplotlib\n",
    "import matplotlib.pyplot as plt\n",
    "from matplotlib import collections, colors, transforms\n",
    "\n",
    "%matplotlib inline\n",
    "%config InlineBackend.figure_format='retina'\n",
    "# %matplotlib widget\n",
    "\n",
    "import pprint"
   ]
  },
  {
   "cell_type": "code",
   "execution_count": 4,
   "id": "a049b3c9-a611-4c8e-9684-618b1e505f7b",
   "metadata": {},
   "outputs": [
    {
     "data": {
      "text/plain": [
       "<module 'utilities' from '/project/rrg-mdiamond/owhgabri/pyTracker/tracker/utilities.py'>"
      ]
     },
     "execution_count": 4,
     "metadata": {},
     "output_type": "execute_result"
    }
   ],
   "source": [
    "import kalmanfilter as KF\n",
    "import utilities as Util\n",
    "import trackfinder as TF\n",
    "import datatypes\n",
    "from datatypes import *\n",
    "\n",
    "reload(TF)\n",
    "reload(Util)"
   ]
  },
  {
   "cell_type": "markdown",
   "id": "7045e4f4-b919-4d39-82b4-640a004d36be",
   "metadata": {},
   "source": [
    "# Best Case #"
   ]
  },
  {
   "cell_type": "code",
   "execution_count": 5,
   "id": "98b68c5d-5c09-4aed-b32f-2c7b3d083f4c",
   "metadata": {},
   "outputs": [
    {
     "name": "stdout",
     "output_type": "stream",
     "text": [
      "500\n"
     ]
    }
   ],
   "source": [
    "data_top_dir = f\"/home/owhgabri/projects/rrg-mdiamond/data/MATHUSLA/simulation/run-2024-07-mathusla40-full/DigiOutput/\"\n",
    "pathList=[]\n",
    "\n",
    "for rootFile, dirs, files in os.walk(data_top_dir):\n",
    "    for filename in files:\n",
    "        if \"stat0io_MuSim-noise1-layers6-eff0.95\" in filename:\n",
    "            pathList.append(os.path.join(rootFile, filename))\n",
    "\n",
    "pathList = pathList[:500]\n",
    "print(len(pathList))"
   ]
  },
  {
   "cell_type": "code",
   "execution_count": 6,
   "id": "094828c8-c96c-4f40-b753-9047c79dab5d",
   "metadata": {},
   "outputs": [
    {
     "name": "stdout",
     "output_type": "stream",
     "text": [
      "total events: 2038088\n",
      "Events with tracks: 1059881\n",
      "Events with vertices: 11682\n"
     ]
    }
   ],
   "source": [
    "totalEvents = 0\n",
    "eventswithTracks = 0\n",
    "eventswithVertices = 0\n",
    "\n",
    "for f in pathList: # Go through each file\n",
    "    events=joblib.load(f)\n",
    "    file_hits = events[\"hits\"]\n",
    "    file_tracks = events[\"tracks\"]\n",
    "    file_vertices = events[\"vertices\"]\n",
    "    totalEvents += len(file_hits)\n",
    "    for i in range(len(file_hits)): # For each event\n",
    "        tracks = file_tracks[i]\n",
    "        vertices = file_vertices[i]\n",
    "        if len(tracks) > 0:\n",
    "            eventswithTracks += 1\n",
    "        if len(vertices) > 0:\n",
    "            eventswithVertices += 1\n",
    "            \n",
    "print(\"total events:\", totalEvents)\n",
    "print(\"Events with tracks:\", eventswithTracks)\n",
    "print(\"Events with vertices:\", eventswithVertices)\n",
    "        "
   ]
  },
  {
   "cell_type": "code",
   "execution_count": null,
   "id": "0ccf7acd-9f90-417c-8b52-c72a54b4d5bf",
   "metadata": {},
   "outputs": [],
   "source": [
    "all_hits = [] # List of lists: each sublist is an event\n",
    "all_tracks = [] #List of lists: each sublist is an event\n",
    "all_vertices = [] #List of lists: each sublist is an event\n",
    "nTracks = []\n",
    "nVertices = []\n",
    "for f in pathList: # Go through each file\n",
    "    events=joblib.load(f)\n",
    "    file_hits = events[\"hits\"]\n",
    "    file_tracks = events[\"tracks\"]\n",
    "    file_vertices = events[\"vertices\"]\n",
    "    for i in range(len(file_hits)): # For each event\n",
    "        hits= file_hits[i]\n",
    "        tracks = file_tracks[i]\n",
    "        vertices = file_vertices[i]\n",
    "        all_hits.append(hits)\n",
    "        all_tracks.append(tracks)\n",
    "        all_vertices.append(vertices)\n",
    "        nTracks.append(len(tracks))\n",
    "        nVertices.append(len(vertices))\n",
    "        "
   ]
  },
  {
   "cell_type": "code",
   "execution_count": null,
   "id": "f5109713-ad7f-4d3b-9db0-e29da2fd5cba",
   "metadata": {},
   "outputs": [],
   "source": [
    "bins=np.arange(0,15,1)\n",
    "counts,bins = np.histogram(nTracks, bins=[0,1,2,3,4,5,6,7,8,9,10])\n",
    "plt.stairs(counts,bins)\n",
    "plt.xlabel(\"Number of tracks\")\n",
    "plt.title(\"Number of Tracks per event\")\n",
    "plt.yscale(\"log\")\n",
    "plt.show()\n",
    "\n",
    "print(\"Total Entries:\", sum(counts))\n",
    "print(counts)"
   ]
  },
  {
   "cell_type": "code",
   "execution_count": null,
   "id": "73b314b0-e25f-4dc4-8571-1cb04977442b",
   "metadata": {},
   "outputs": [],
   "source": [
    "counts,bins = np.histogram(nVertices, bins=[0,1,2,3,4,5,6,7,8,9,10])\n",
    "plt.stairs(counts,bins)\n",
    "plt.xlabel(\"Number of Vertices\")\n",
    "plt.title(\"Number of Vertices per event\")\n",
    "plt.yscale(\"log\")\n",
    "plt.show()\n",
    "\n",
    "print(\"Total Entries:\", sum(counts))\n",
    "print(counts)"
   ]
  },
  {
   "cell_type": "code",
   "execution_count": null,
   "id": "da5c2750-eac2-48b8-866f-0f21751439ac",
   "metadata": {},
   "outputs": [],
   "source": []
  }
 ],
 "metadata": {
  "kernelspec": {
   "display_name": "SCDMS V05-00",
   "language": "python",
   "name": "scdms_v05-00"
  },
  "language_info": {
   "codemirror_mode": {
    "name": "ipython",
    "version": 3
   },
   "file_extension": ".py",
   "mimetype": "text/x-python",
   "name": "python",
   "nbconvert_exporter": "python",
   "pygments_lexer": "ipython3",
   "version": "3.10.12"
  }
 },
 "nbformat": 4,
 "nbformat_minor": 5
}
